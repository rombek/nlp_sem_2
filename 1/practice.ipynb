{
 "cells": [
  {
   "cell_type": "markdown",
   "metadata": {},
   "source": [
    "## Практическая часть"
   ]
  },
  {
   "cell_type": "code",
   "execution_count": 1,
   "metadata": {},
   "outputs": [],
   "source": [
    "import numpy as np\n",
    "import scipy\n",
    "from sklearn.linear_model import LogisticRegression\n",
    "from sklearn.model_selection import GridSearchCV\n",
    "import matplotlib.pyplot as plt\n",
    "\n",
    "\n",
    "from collections import defaultdict\n",
    "from functools import partial\n",
    "from itertools import chain\n",
    "import re\n",
    "import string\n",
    "from tqdm.notebook import tqdm\n",
    "\n",
    "from IPython.display import display, clear_output\n",
    "\n",
    "\n",
    "from filimdb_evaluation.score import load_dataset_fast"
   ]
  },
  {
   "cell_type": "code",
   "execution_count": 2,
   "metadata": {},
   "outputs": [
    {
     "name": "stdout",
     "output_type": "stream",
     "text": [
      "Loading train set \n",
      "pos 7520\n",
      "neg 7480\n",
      "Loading dev set \n",
      "pos 4980\n",
      "neg 5020\n",
      "Loading test set \n",
      "unlabeled 25000\n"
     ]
    }
   ],
   "source": [
    "all_data = load_dataset_fast()"
   ]
  },
  {
   "cell_type": "code",
   "execution_count": 3,
   "metadata": {},
   "outputs": [],
   "source": [
    "train_dataset = all_data['train']\n",
    "dev_dataset = all_data['dev']\n",
    "test_dataset = all_data['test']"
   ]
  },
  {
   "cell_type": "markdown",
   "metadata": {},
   "source": [
    "### 1. Сделайте предобработку документов по аналогии с предыдущими заданиями"
   ]
  },
  {
   "cell_type": "code",
   "execution_count": 4,
   "metadata": {},
   "outputs": [],
   "source": [
    "def preprocessing(text):\n",
    "    text = text.lower()\n",
    "    remove_tags = re.compile(r'<.*?>')\n",
    "    text = re.sub(remove_tags, '', text)\n",
    "    text = text.translate(str.maketrans('', '', string.punctuation))\n",
    "    text = ''.join(sym if (sym.isalnum() or sym in (\" \", \"'\")) else f\" {sym} \" for sym in text)\n",
    "    return text"
   ]
  },
  {
   "cell_type": "code",
   "execution_count": 5,
   "metadata": {},
   "outputs": [],
   "source": [
    "def tokenize_text(text, stem=0):\n",
    "    \"\"\"\n",
    "        arg: list of texts\n",
    "        return: list of tokenized texts\n",
    "    \"\"\"\n",
    "    stop_words = ['i', 'me', 'my', 'myself', 'we', 'our', 'ours', 'ourselves', 'you', \"you're\", \"you've\", \"you'll\", \"you'd\", 'your', 'yours', 'yourself', 'yourselves', 'he', 'him', 'his', 'himself', 'she', \"she's\", 'her', 'hers', 'herself', 'it', \"it's\", 'its', \\\n",
    "    'itself', 'they', 'them', 'their', 'theirs', 'themselves', 'what', 'which', 'who', 'whom', 'this', 'that', \"that'll\", 'these', 'those', 'am', 'is', 'are', 'was', 'were', 'be', 'been', 'being', 'have', 'has', 'had', 'having', 'do', 'does', 'did', 'doing', 'a', 'an', 'the', 'and', 'but', 'if', 'or', 'because', 'as', 'until', 'while', 'of', 'at', 'by', 'for', 'with',\n",
    "     'about', 'against', 'between', 'into', 'through', 'during', 'before', 'after', 'above', 'below', 'to', 'from', 'up', 'down', 'in', 'out', 'on', 'off', 'over', 'under', 'again', 'further', 'then', 'once', 'here', 'there', 'when', 'where', 'why', 'how', 'all', 'any', 'both', 'each', 'few', 'more', 'most', 'other', 'some', 'such', 'no', 'nor', 'not', 'only', 'own', 'same', 'so', 'than', 'too', 'very', 's', 't', 'can', 'will', 'just', 'don', \"don't\", 'should', \"should've\", 'now', 'd', 'll', 'm', 'o', 're', 've', 'y', 'ain', 'aren', \"aren't\", 'could','couldn', \"couldn't\", 'didn', \"didn't\", 'doesn', \"doesn't\", 'hadn', \"hadn't\", 'hasn', \"hasn't\", 'haven', \"haven't\", 'isn', \"isn't\", 'ma', 'mightn', \"mightn't\", 'mustn', \"mustn't\", 'needn', \"needn't\", 'shan', \"shan't\", 'shouldn', \"shouldn't\", 'wasn', \"wasn't\", 'weren', \"weren't\", 'won', \"won't\", 'wouldn', \"wouldn't\"]\n",
    "    tokenizer = re.compile(r\"-?\\d*[.,]?\\d+|[?'\\w]+|\\S\", re.MULTILINE | re.IGNORECASE)\n",
    "    tokenized_text = tokenizer.findall(text)\n",
    "    if stem == 0:\n",
    "        return [token for token in tokenized_text if token not in stop_words]\n",
    "    stem_dataset = [token[:stem] for token in tokenized_text if token not in stop_words]\n",
    "    return stem_dataset"
   ]
  },
  {
   "cell_type": "code",
   "execution_count": 6,
   "metadata": {},
   "outputs": [],
   "source": [
    "def preprocess_dataset(dataset):\n",
    "    processed_dataset = []\n",
    "    is_test = False\n",
    "    if dataset[2] is None:\n",
    "        dataset = dataset[:2]\n",
    "        is_test = True\n",
    "    for ind, ds_data in enumerate(zip(*dataset)):\n",
    "        prepared_text = preprocessing(ds_data[1])\n",
    "        tokenized_text = tokenize_text(prepared_text)\n",
    "        if not is_test:\n",
    "            processed_dataset.append((tokenized_text, ds_data[2]))\n",
    "        else:\n",
    "            processed_dataset.append(tokenized_text)\n",
    "    return processed_dataset"
   ]
  },
  {
   "cell_type": "code",
   "execution_count": 7,
   "metadata": {},
   "outputs": [],
   "source": [
    "train_dataset = preprocess_dataset(train_dataset)\n",
    "dev_dataset = preprocess_dataset(dev_dataset)\n",
    "test_dataset = preprocess_dataset(test_dataset)"
   ]
  },
  {
   "cell_type": "code",
   "execution_count": 8,
   "metadata": {},
   "outputs": [
    {
     "name": "stdout",
     "output_type": "stream",
     "text": [
      "(['myth', 'regarding', 'broken', 'mirrors', 'would', 'accurate', 'everybody', 'involved', 'production', 'would', 'face', 'approximately', '170', 'years', 'bad', 'luck', 'lot', 'mirrors', 'falling', 'little', 'pieces', 'script', 'shattering', 'glass', 'broken', 'would', 'brilliant', 'film', 'sadly', 'overlong', 'derivative', 'dull', 'movie', 'handful', 'remarkable', 'ideas', 'memorable', 'sequences', 'sean', 'ellis', 'made', 'stylish', 'elegantly', 'photographed', 'movie', 'story', 'lackluster', 'total', 'absence', 'logic', 'explanation', 'really', 'frustrating', 'got', 'discussion', 'friend', 'regarding', 'basic', 'concept', 'meaning', 'film', 'thinks', 'ellis', 'found', 'inspiration', 'old', 'legend', 'claiming', 'spotting', 'doppelganger', 'foreboding', 'youre', 'going', 'die', 'interesting', 'theory', 'im', 'familiar', 'legend', 'couldnt', 'find', 'anything', 'internet', 'neither', 'personally', 'think', 'broken', 'yet', 'another', 'umpteenth', 'variation', 'theme', 'invasion', 'body', 'snatchers', 'without', 'alien', 'interference', 'broken', 'centers', 'american', 'mcvey', 'family', 'living', 'london', 'particularly', 'gina', 'mirror', 'spontaneously', 'breaks', 'birthday', 'celebration', 'triggers', 'whole', 'series', 'mysterious', 'seemingly', 'supernatural', 'events', 'gina', 'spots', 'driving', 'car', 'follows', 'mirror', 'image', 'apartment', 'building', 'whilst', 'driving', 'home', 'state', 'mental', 'confusion', 'causes', 'terrible', 'car', 'accident', 'ends', 'hospital', 'dismissed', 'gina', 'feels', 'like', 'whole', 'surrounding', 'changing', 'doesnt', 'recognize', 'boyfriend', 'anymore', 'uncanny', 'fragments', 'accident', 'keep', 'flashing', 'eyes', 'suffer', 'mental', 'traumas', 'invoked', 'accident', 'really', 'supernatural', 'conspiracy', 'happening', 'around', 'writerdirector', 'sean', 'ellis', 'definitely', 'invokes', 'feelings', 'curiosity', 'suspense', 'script', 'unfortunately', 'fails', 'properly', 'elaborate', 'broken', 'truly', 'atmospheric', 'stylish', 'effort', 'half', 'hour', 'film', 'come', 'painful', 'conclusion', 'shall', 'remain', 'beautiful', 'empty', 'package', 'theres', 'frustratingly', 'high', 'amount', 'fake', 'suspense', 'film', 'means', 'building', 'tension', 'ominous', 'music', 'eerie', 'camera', 'angels', 'absolutely', 'nothing', 'even', 'happened', 'far', 'time', 'actually', 'mysteriousness', 'kicks', 'tricks', 'dont', 'scary', 'effect', 'anymore', 'fellow', 'reviewers', 'around', 'compare', 'film', 'particularly', 'sean', 'ellis', 'style', 'repertoires', 'david', 'lynch', 'stanley', 'kubrick', 'even', 'alfred', 'hitchcock', 'way', 'way', 'way', 'much', 'honor', 'ps', 'alternate', 'spelling', 'one', 'scandinavian', 'ø'], 'neg')\n"
     ]
    }
   ],
   "source": [
    "print(train_dataset[0])"
   ]
  },
  {
   "cell_type": "markdown",
   "metadata": {},
   "source": [
    "### 2. Замените каждый документ на набор униграмм, биграмм и триграмм, которые в нём встречаются (каждая n-грамма входит в набор столько раз, сколько раз встречается в тексте)."
   ]
  },
  {
   "cell_type": "code",
   "execution_count": 9,
   "metadata": {},
   "outputs": [],
   "source": [
    "def generate_ngrams(text, max_ngram=3):\n",
    "    ngrams = []\n",
    "    for token in text:\n",
    "        ngrams.append(token)\n",
    "    if max_ngram >= 2:\n",
    "        for token in zip(text[:-1], text[1:]):\n",
    "            ngrams.append(token)\n",
    "    if max_ngram >= 3:\n",
    "        for token in zip(text[:-2], text[1:-1], text[2:]):\n",
    "            ngrams.append(token)\n",
    "    return ngrams"
   ]
  },
  {
   "cell_type": "code",
   "execution_count": 10,
   "metadata": {},
   "outputs": [],
   "source": [
    "def make_ngram_dataset(dataset, max_ngram=3):\n",
    "    ngram_dataset = []\n",
    "    for ind, ds_info in enumerate(dataset):\n",
    "        ngrams = generate_ngrams(ds_info[0])\n",
    "        ngram_dataset.append((ngrams, *ds_info[1:]))\n",
    "    return ngram_dataset"
   ]
  },
  {
   "cell_type": "code",
   "execution_count": 11,
   "metadata": {},
   "outputs": [],
   "source": [
    "train_dataset = make_ngram_dataset(train_dataset)\n",
    "dev_dataset = make_ngram_dataset(dev_dataset)\n",
    "test_dataset = make_ngram_dataset(test_dataset)"
   ]
  },
  {
   "cell_type": "code",
   "execution_count": 12,
   "metadata": {},
   "outputs": [
    {
     "data": {
      "text/plain": [
       "(['myth',\n",
       "  'regarding',\n",
       "  'broken',\n",
       "  'mirrors',\n",
       "  'would',\n",
       "  'accurate',\n",
       "  'everybody',\n",
       "  'involved',\n",
       "  'production',\n",
       "  'would',\n",
       "  'face',\n",
       "  'approximately',\n",
       "  '170',\n",
       "  'years',\n",
       "  'bad',\n",
       "  'luck',\n",
       "  'lot',\n",
       "  'mirrors',\n",
       "  'falling',\n",
       "  'little',\n",
       "  'pieces',\n",
       "  'script',\n",
       "  'shattering',\n",
       "  'glass',\n",
       "  'broken',\n",
       "  'would',\n",
       "  'brilliant',\n",
       "  'film',\n",
       "  'sadly',\n",
       "  'overlong',\n",
       "  'derivative',\n",
       "  'dull',\n",
       "  'movie',\n",
       "  'handful',\n",
       "  'remarkable',\n",
       "  'ideas',\n",
       "  'memorable',\n",
       "  'sequences',\n",
       "  'sean',\n",
       "  'ellis',\n",
       "  'made',\n",
       "  'stylish',\n",
       "  'elegantly',\n",
       "  'photographed',\n",
       "  'movie',\n",
       "  'story',\n",
       "  'lackluster',\n",
       "  'total',\n",
       "  'absence',\n",
       "  'logic',\n",
       "  'explanation',\n",
       "  'really',\n",
       "  'frustrating',\n",
       "  'got',\n",
       "  'discussion',\n",
       "  'friend',\n",
       "  'regarding',\n",
       "  'basic',\n",
       "  'concept',\n",
       "  'meaning',\n",
       "  'film',\n",
       "  'thinks',\n",
       "  'ellis',\n",
       "  'found',\n",
       "  'inspiration',\n",
       "  'old',\n",
       "  'legend',\n",
       "  'claiming',\n",
       "  'spotting',\n",
       "  'doppelganger',\n",
       "  'foreboding',\n",
       "  'youre',\n",
       "  'going',\n",
       "  'die',\n",
       "  'interesting',\n",
       "  'theory',\n",
       "  'im',\n",
       "  'familiar',\n",
       "  'legend',\n",
       "  'couldnt',\n",
       "  'find',\n",
       "  'anything',\n",
       "  'internet',\n",
       "  'neither',\n",
       "  'personally',\n",
       "  'think',\n",
       "  'broken',\n",
       "  'yet',\n",
       "  'another',\n",
       "  'umpteenth',\n",
       "  'variation',\n",
       "  'theme',\n",
       "  'invasion',\n",
       "  'body',\n",
       "  'snatchers',\n",
       "  'without',\n",
       "  'alien',\n",
       "  'interference',\n",
       "  'broken',\n",
       "  'centers',\n",
       "  'american',\n",
       "  'mcvey',\n",
       "  'family',\n",
       "  'living',\n",
       "  'london',\n",
       "  'particularly',\n",
       "  'gina',\n",
       "  'mirror',\n",
       "  'spontaneously',\n",
       "  'breaks',\n",
       "  'birthday',\n",
       "  'celebration',\n",
       "  'triggers',\n",
       "  'whole',\n",
       "  'series',\n",
       "  'mysterious',\n",
       "  'seemingly',\n",
       "  'supernatural',\n",
       "  'events',\n",
       "  'gina',\n",
       "  'spots',\n",
       "  'driving',\n",
       "  'car',\n",
       "  'follows',\n",
       "  'mirror',\n",
       "  'image',\n",
       "  'apartment',\n",
       "  'building',\n",
       "  'whilst',\n",
       "  'driving',\n",
       "  'home',\n",
       "  'state',\n",
       "  'mental',\n",
       "  'confusion',\n",
       "  'causes',\n",
       "  'terrible',\n",
       "  'car',\n",
       "  'accident',\n",
       "  'ends',\n",
       "  'hospital',\n",
       "  'dismissed',\n",
       "  'gina',\n",
       "  'feels',\n",
       "  'like',\n",
       "  'whole',\n",
       "  'surrounding',\n",
       "  'changing',\n",
       "  'doesnt',\n",
       "  'recognize',\n",
       "  'boyfriend',\n",
       "  'anymore',\n",
       "  'uncanny',\n",
       "  'fragments',\n",
       "  'accident',\n",
       "  'keep',\n",
       "  'flashing',\n",
       "  'eyes',\n",
       "  'suffer',\n",
       "  'mental',\n",
       "  'traumas',\n",
       "  'invoked',\n",
       "  'accident',\n",
       "  'really',\n",
       "  'supernatural',\n",
       "  'conspiracy',\n",
       "  'happening',\n",
       "  'around',\n",
       "  'writerdirector',\n",
       "  'sean',\n",
       "  'ellis',\n",
       "  'definitely',\n",
       "  'invokes',\n",
       "  'feelings',\n",
       "  'curiosity',\n",
       "  'suspense',\n",
       "  'script',\n",
       "  'unfortunately',\n",
       "  'fails',\n",
       "  'properly',\n",
       "  'elaborate',\n",
       "  'broken',\n",
       "  'truly',\n",
       "  'atmospheric',\n",
       "  'stylish',\n",
       "  'effort',\n",
       "  'half',\n",
       "  'hour',\n",
       "  'film',\n",
       "  'come',\n",
       "  'painful',\n",
       "  'conclusion',\n",
       "  'shall',\n",
       "  'remain',\n",
       "  'beautiful',\n",
       "  'empty',\n",
       "  'package',\n",
       "  'theres',\n",
       "  'frustratingly',\n",
       "  'high',\n",
       "  'amount',\n",
       "  'fake',\n",
       "  'suspense',\n",
       "  'film',\n",
       "  'means',\n",
       "  'building',\n",
       "  'tension',\n",
       "  'ominous',\n",
       "  'music',\n",
       "  'eerie',\n",
       "  'camera',\n",
       "  'angels',\n",
       "  'absolutely',\n",
       "  'nothing',\n",
       "  'even',\n",
       "  'happened',\n",
       "  'far',\n",
       "  'time',\n",
       "  'actually',\n",
       "  'mysteriousness',\n",
       "  'kicks',\n",
       "  'tricks',\n",
       "  'dont',\n",
       "  'scary',\n",
       "  'effect',\n",
       "  'anymore',\n",
       "  'fellow',\n",
       "  'reviewers',\n",
       "  'around',\n",
       "  'compare',\n",
       "  'film',\n",
       "  'particularly',\n",
       "  'sean',\n",
       "  'ellis',\n",
       "  'style',\n",
       "  'repertoires',\n",
       "  'david',\n",
       "  'lynch',\n",
       "  'stanley',\n",
       "  'kubrick',\n",
       "  'even',\n",
       "  'alfred',\n",
       "  'hitchcock',\n",
       "  'way',\n",
       "  'way',\n",
       "  'way',\n",
       "  'much',\n",
       "  'honor',\n",
       "  'ps',\n",
       "  'alternate',\n",
       "  'spelling',\n",
       "  'one',\n",
       "  'scandinavian',\n",
       "  'ø',\n",
       "  ('myth', 'regarding'),\n",
       "  ('regarding', 'broken'),\n",
       "  ('broken', 'mirrors'),\n",
       "  ('mirrors', 'would'),\n",
       "  ('would', 'accurate'),\n",
       "  ('accurate', 'everybody'),\n",
       "  ('everybody', 'involved'),\n",
       "  ('involved', 'production'),\n",
       "  ('production', 'would'),\n",
       "  ('would', 'face'),\n",
       "  ('face', 'approximately'),\n",
       "  ('approximately', '170'),\n",
       "  ('170', 'years'),\n",
       "  ('years', 'bad'),\n",
       "  ('bad', 'luck'),\n",
       "  ('luck', 'lot'),\n",
       "  ('lot', 'mirrors'),\n",
       "  ('mirrors', 'falling'),\n",
       "  ('falling', 'little'),\n",
       "  ('little', 'pieces'),\n",
       "  ('pieces', 'script'),\n",
       "  ('script', 'shattering'),\n",
       "  ('shattering', 'glass'),\n",
       "  ('glass', 'broken'),\n",
       "  ('broken', 'would'),\n",
       "  ('would', 'brilliant'),\n",
       "  ('brilliant', 'film'),\n",
       "  ('film', 'sadly'),\n",
       "  ('sadly', 'overlong'),\n",
       "  ('overlong', 'derivative'),\n",
       "  ('derivative', 'dull'),\n",
       "  ('dull', 'movie'),\n",
       "  ('movie', 'handful'),\n",
       "  ('handful', 'remarkable'),\n",
       "  ('remarkable', 'ideas'),\n",
       "  ('ideas', 'memorable'),\n",
       "  ('memorable', 'sequences'),\n",
       "  ('sequences', 'sean'),\n",
       "  ('sean', 'ellis'),\n",
       "  ('ellis', 'made'),\n",
       "  ('made', 'stylish'),\n",
       "  ('stylish', 'elegantly'),\n",
       "  ('elegantly', 'photographed'),\n",
       "  ('photographed', 'movie'),\n",
       "  ('movie', 'story'),\n",
       "  ('story', 'lackluster'),\n",
       "  ('lackluster', 'total'),\n",
       "  ('total', 'absence'),\n",
       "  ('absence', 'logic'),\n",
       "  ('logic', 'explanation'),\n",
       "  ('explanation', 'really'),\n",
       "  ('really', 'frustrating'),\n",
       "  ('frustrating', 'got'),\n",
       "  ('got', 'discussion'),\n",
       "  ('discussion', 'friend'),\n",
       "  ('friend', 'regarding'),\n",
       "  ('regarding', 'basic'),\n",
       "  ('basic', 'concept'),\n",
       "  ('concept', 'meaning'),\n",
       "  ('meaning', 'film'),\n",
       "  ('film', 'thinks'),\n",
       "  ('thinks', 'ellis'),\n",
       "  ('ellis', 'found'),\n",
       "  ('found', 'inspiration'),\n",
       "  ('inspiration', 'old'),\n",
       "  ('old', 'legend'),\n",
       "  ('legend', 'claiming'),\n",
       "  ('claiming', 'spotting'),\n",
       "  ('spotting', 'doppelganger'),\n",
       "  ('doppelganger', 'foreboding'),\n",
       "  ('foreboding', 'youre'),\n",
       "  ('youre', 'going'),\n",
       "  ('going', 'die'),\n",
       "  ('die', 'interesting'),\n",
       "  ('interesting', 'theory'),\n",
       "  ('theory', 'im'),\n",
       "  ('im', 'familiar'),\n",
       "  ('familiar', 'legend'),\n",
       "  ('legend', 'couldnt'),\n",
       "  ('couldnt', 'find'),\n",
       "  ('find', 'anything'),\n",
       "  ('anything', 'internet'),\n",
       "  ('internet', 'neither'),\n",
       "  ('neither', 'personally'),\n",
       "  ('personally', 'think'),\n",
       "  ('think', 'broken'),\n",
       "  ('broken', 'yet'),\n",
       "  ('yet', 'another'),\n",
       "  ('another', 'umpteenth'),\n",
       "  ('umpteenth', 'variation'),\n",
       "  ('variation', 'theme'),\n",
       "  ('theme', 'invasion'),\n",
       "  ('invasion', 'body'),\n",
       "  ('body', 'snatchers'),\n",
       "  ('snatchers', 'without'),\n",
       "  ('without', 'alien'),\n",
       "  ('alien', 'interference'),\n",
       "  ('interference', 'broken'),\n",
       "  ('broken', 'centers'),\n",
       "  ('centers', 'american'),\n",
       "  ('american', 'mcvey'),\n",
       "  ('mcvey', 'family'),\n",
       "  ('family', 'living'),\n",
       "  ('living', 'london'),\n",
       "  ('london', 'particularly'),\n",
       "  ('particularly', 'gina'),\n",
       "  ('gina', 'mirror'),\n",
       "  ('mirror', 'spontaneously'),\n",
       "  ('spontaneously', 'breaks'),\n",
       "  ('breaks', 'birthday'),\n",
       "  ('birthday', 'celebration'),\n",
       "  ('celebration', 'triggers'),\n",
       "  ('triggers', 'whole'),\n",
       "  ('whole', 'series'),\n",
       "  ('series', 'mysterious'),\n",
       "  ('mysterious', 'seemingly'),\n",
       "  ('seemingly', 'supernatural'),\n",
       "  ('supernatural', 'events'),\n",
       "  ('events', 'gina'),\n",
       "  ('gina', 'spots'),\n",
       "  ('spots', 'driving'),\n",
       "  ('driving', 'car'),\n",
       "  ('car', 'follows'),\n",
       "  ('follows', 'mirror'),\n",
       "  ('mirror', 'image'),\n",
       "  ('image', 'apartment'),\n",
       "  ('apartment', 'building'),\n",
       "  ('building', 'whilst'),\n",
       "  ('whilst', 'driving'),\n",
       "  ('driving', 'home'),\n",
       "  ('home', 'state'),\n",
       "  ('state', 'mental'),\n",
       "  ('mental', 'confusion'),\n",
       "  ('confusion', 'causes'),\n",
       "  ('causes', 'terrible'),\n",
       "  ('terrible', 'car'),\n",
       "  ('car', 'accident'),\n",
       "  ('accident', 'ends'),\n",
       "  ('ends', 'hospital'),\n",
       "  ('hospital', 'dismissed'),\n",
       "  ('dismissed', 'gina'),\n",
       "  ('gina', 'feels'),\n",
       "  ('feels', 'like'),\n",
       "  ('like', 'whole'),\n",
       "  ('whole', 'surrounding'),\n",
       "  ('surrounding', 'changing'),\n",
       "  ('changing', 'doesnt'),\n",
       "  ('doesnt', 'recognize'),\n",
       "  ('recognize', 'boyfriend'),\n",
       "  ('boyfriend', 'anymore'),\n",
       "  ('anymore', 'uncanny'),\n",
       "  ('uncanny', 'fragments'),\n",
       "  ('fragments', 'accident'),\n",
       "  ('accident', 'keep'),\n",
       "  ('keep', 'flashing'),\n",
       "  ('flashing', 'eyes'),\n",
       "  ('eyes', 'suffer'),\n",
       "  ('suffer', 'mental'),\n",
       "  ('mental', 'traumas'),\n",
       "  ('traumas', 'invoked'),\n",
       "  ('invoked', 'accident'),\n",
       "  ('accident', 'really'),\n",
       "  ('really', 'supernatural'),\n",
       "  ('supernatural', 'conspiracy'),\n",
       "  ('conspiracy', 'happening'),\n",
       "  ('happening', 'around'),\n",
       "  ('around', 'writerdirector'),\n",
       "  ('writerdirector', 'sean'),\n",
       "  ('sean', 'ellis'),\n",
       "  ('ellis', 'definitely'),\n",
       "  ('definitely', 'invokes'),\n",
       "  ('invokes', 'feelings'),\n",
       "  ('feelings', 'curiosity'),\n",
       "  ('curiosity', 'suspense'),\n",
       "  ('suspense', 'script'),\n",
       "  ('script', 'unfortunately'),\n",
       "  ('unfortunately', 'fails'),\n",
       "  ('fails', 'properly'),\n",
       "  ('properly', 'elaborate'),\n",
       "  ('elaborate', 'broken'),\n",
       "  ('broken', 'truly'),\n",
       "  ('truly', 'atmospheric'),\n",
       "  ('atmospheric', 'stylish'),\n",
       "  ('stylish', 'effort'),\n",
       "  ('effort', 'half'),\n",
       "  ('half', 'hour'),\n",
       "  ('hour', 'film'),\n",
       "  ('film', 'come'),\n",
       "  ('come', 'painful'),\n",
       "  ('painful', 'conclusion'),\n",
       "  ('conclusion', 'shall'),\n",
       "  ('shall', 'remain'),\n",
       "  ('remain', 'beautiful'),\n",
       "  ('beautiful', 'empty'),\n",
       "  ('empty', 'package'),\n",
       "  ('package', 'theres'),\n",
       "  ('theres', 'frustratingly'),\n",
       "  ('frustratingly', 'high'),\n",
       "  ('high', 'amount'),\n",
       "  ('amount', 'fake'),\n",
       "  ('fake', 'suspense'),\n",
       "  ('suspense', 'film'),\n",
       "  ('film', 'means'),\n",
       "  ('means', 'building'),\n",
       "  ('building', 'tension'),\n",
       "  ('tension', 'ominous'),\n",
       "  ('ominous', 'music'),\n",
       "  ('music', 'eerie'),\n",
       "  ('eerie', 'camera'),\n",
       "  ('camera', 'angels'),\n",
       "  ('angels', 'absolutely'),\n",
       "  ('absolutely', 'nothing'),\n",
       "  ('nothing', 'even'),\n",
       "  ('even', 'happened'),\n",
       "  ('happened', 'far'),\n",
       "  ('far', 'time'),\n",
       "  ('time', 'actually'),\n",
       "  ('actually', 'mysteriousness'),\n",
       "  ('mysteriousness', 'kicks'),\n",
       "  ('kicks', 'tricks'),\n",
       "  ('tricks', 'dont'),\n",
       "  ('dont', 'scary'),\n",
       "  ('scary', 'effect'),\n",
       "  ('effect', 'anymore'),\n",
       "  ('anymore', 'fellow'),\n",
       "  ('fellow', 'reviewers'),\n",
       "  ('reviewers', 'around'),\n",
       "  ('around', 'compare'),\n",
       "  ('compare', 'film'),\n",
       "  ('film', 'particularly'),\n",
       "  ('particularly', 'sean'),\n",
       "  ('sean', 'ellis'),\n",
       "  ('ellis', 'style'),\n",
       "  ('style', 'repertoires'),\n",
       "  ('repertoires', 'david'),\n",
       "  ('david', 'lynch'),\n",
       "  ('lynch', 'stanley'),\n",
       "  ('stanley', 'kubrick'),\n",
       "  ('kubrick', 'even'),\n",
       "  ('even', 'alfred'),\n",
       "  ('alfred', 'hitchcock'),\n",
       "  ('hitchcock', 'way'),\n",
       "  ('way', 'way'),\n",
       "  ('way', 'way'),\n",
       "  ('way', 'much'),\n",
       "  ('much', 'honor'),\n",
       "  ('honor', 'ps'),\n",
       "  ('ps', 'alternate'),\n",
       "  ('alternate', 'spelling'),\n",
       "  ('spelling', 'one'),\n",
       "  ('one', 'scandinavian'),\n",
       "  ('scandinavian', 'ø'),\n",
       "  ('myth', 'regarding', 'broken'),\n",
       "  ('regarding', 'broken', 'mirrors'),\n",
       "  ('broken', 'mirrors', 'would'),\n",
       "  ('mirrors', 'would', 'accurate'),\n",
       "  ('would', 'accurate', 'everybody'),\n",
       "  ('accurate', 'everybody', 'involved'),\n",
       "  ('everybody', 'involved', 'production'),\n",
       "  ('involved', 'production', 'would'),\n",
       "  ('production', 'would', 'face'),\n",
       "  ('would', 'face', 'approximately'),\n",
       "  ('face', 'approximately', '170'),\n",
       "  ('approximately', '170', 'years'),\n",
       "  ('170', 'years', 'bad'),\n",
       "  ('years', 'bad', 'luck'),\n",
       "  ('bad', 'luck', 'lot'),\n",
       "  ('luck', 'lot', 'mirrors'),\n",
       "  ('lot', 'mirrors', 'falling'),\n",
       "  ('mirrors', 'falling', 'little'),\n",
       "  ('falling', 'little', 'pieces'),\n",
       "  ('little', 'pieces', 'script'),\n",
       "  ('pieces', 'script', 'shattering'),\n",
       "  ('script', 'shattering', 'glass'),\n",
       "  ('shattering', 'glass', 'broken'),\n",
       "  ('glass', 'broken', 'would'),\n",
       "  ('broken', 'would', 'brilliant'),\n",
       "  ('would', 'brilliant', 'film'),\n",
       "  ('brilliant', 'film', 'sadly'),\n",
       "  ('film', 'sadly', 'overlong'),\n",
       "  ('sadly', 'overlong', 'derivative'),\n",
       "  ('overlong', 'derivative', 'dull'),\n",
       "  ('derivative', 'dull', 'movie'),\n",
       "  ('dull', 'movie', 'handful'),\n",
       "  ('movie', 'handful', 'remarkable'),\n",
       "  ('handful', 'remarkable', 'ideas'),\n",
       "  ('remarkable', 'ideas', 'memorable'),\n",
       "  ('ideas', 'memorable', 'sequences'),\n",
       "  ('memorable', 'sequences', 'sean'),\n",
       "  ('sequences', 'sean', 'ellis'),\n",
       "  ('sean', 'ellis', 'made'),\n",
       "  ('ellis', 'made', 'stylish'),\n",
       "  ('made', 'stylish', 'elegantly'),\n",
       "  ('stylish', 'elegantly', 'photographed'),\n",
       "  ('elegantly', 'photographed', 'movie'),\n",
       "  ('photographed', 'movie', 'story'),\n",
       "  ('movie', 'story', 'lackluster'),\n",
       "  ('story', 'lackluster', 'total'),\n",
       "  ('lackluster', 'total', 'absence'),\n",
       "  ('total', 'absence', 'logic'),\n",
       "  ('absence', 'logic', 'explanation'),\n",
       "  ('logic', 'explanation', 'really'),\n",
       "  ('explanation', 'really', 'frustrating'),\n",
       "  ('really', 'frustrating', 'got'),\n",
       "  ('frustrating', 'got', 'discussion'),\n",
       "  ('got', 'discussion', 'friend'),\n",
       "  ('discussion', 'friend', 'regarding'),\n",
       "  ('friend', 'regarding', 'basic'),\n",
       "  ('regarding', 'basic', 'concept'),\n",
       "  ('basic', 'concept', 'meaning'),\n",
       "  ('concept', 'meaning', 'film'),\n",
       "  ('meaning', 'film', 'thinks'),\n",
       "  ('film', 'thinks', 'ellis'),\n",
       "  ('thinks', 'ellis', 'found'),\n",
       "  ('ellis', 'found', 'inspiration'),\n",
       "  ('found', 'inspiration', 'old'),\n",
       "  ('inspiration', 'old', 'legend'),\n",
       "  ('old', 'legend', 'claiming'),\n",
       "  ('legend', 'claiming', 'spotting'),\n",
       "  ('claiming', 'spotting', 'doppelganger'),\n",
       "  ('spotting', 'doppelganger', 'foreboding'),\n",
       "  ('doppelganger', 'foreboding', 'youre'),\n",
       "  ('foreboding', 'youre', 'going'),\n",
       "  ('youre', 'going', 'die'),\n",
       "  ('going', 'die', 'interesting'),\n",
       "  ('die', 'interesting', 'theory'),\n",
       "  ('interesting', 'theory', 'im'),\n",
       "  ('theory', 'im', 'familiar'),\n",
       "  ('im', 'familiar', 'legend'),\n",
       "  ('familiar', 'legend', 'couldnt'),\n",
       "  ('legend', 'couldnt', 'find'),\n",
       "  ('couldnt', 'find', 'anything'),\n",
       "  ('find', 'anything', 'internet'),\n",
       "  ('anything', 'internet', 'neither'),\n",
       "  ('internet', 'neither', 'personally'),\n",
       "  ('neither', 'personally', 'think'),\n",
       "  ('personally', 'think', 'broken'),\n",
       "  ('think', 'broken', 'yet'),\n",
       "  ('broken', 'yet', 'another'),\n",
       "  ('yet', 'another', 'umpteenth'),\n",
       "  ('another', 'umpteenth', 'variation'),\n",
       "  ('umpteenth', 'variation', 'theme'),\n",
       "  ('variation', 'theme', 'invasion'),\n",
       "  ('theme', 'invasion', 'body'),\n",
       "  ('invasion', 'body', 'snatchers'),\n",
       "  ('body', 'snatchers', 'without'),\n",
       "  ('snatchers', 'without', 'alien'),\n",
       "  ('without', 'alien', 'interference'),\n",
       "  ('alien', 'interference', 'broken'),\n",
       "  ('interference', 'broken', 'centers'),\n",
       "  ('broken', 'centers', 'american'),\n",
       "  ('centers', 'american', 'mcvey'),\n",
       "  ('american', 'mcvey', 'family'),\n",
       "  ('mcvey', 'family', 'living'),\n",
       "  ('family', 'living', 'london'),\n",
       "  ('living', 'london', 'particularly'),\n",
       "  ('london', 'particularly', 'gina'),\n",
       "  ('particularly', 'gina', 'mirror'),\n",
       "  ('gina', 'mirror', 'spontaneously'),\n",
       "  ('mirror', 'spontaneously', 'breaks'),\n",
       "  ('spontaneously', 'breaks', 'birthday'),\n",
       "  ('breaks', 'birthday', 'celebration'),\n",
       "  ('birthday', 'celebration', 'triggers'),\n",
       "  ('celebration', 'triggers', 'whole'),\n",
       "  ('triggers', 'whole', 'series'),\n",
       "  ('whole', 'series', 'mysterious'),\n",
       "  ('series', 'mysterious', 'seemingly'),\n",
       "  ('mysterious', 'seemingly', 'supernatural'),\n",
       "  ('seemingly', 'supernatural', 'events'),\n",
       "  ('supernatural', 'events', 'gina'),\n",
       "  ('events', 'gina', 'spots'),\n",
       "  ('gina', 'spots', 'driving'),\n",
       "  ('spots', 'driving', 'car'),\n",
       "  ('driving', 'car', 'follows'),\n",
       "  ('car', 'follows', 'mirror'),\n",
       "  ('follows', 'mirror', 'image'),\n",
       "  ('mirror', 'image', 'apartment'),\n",
       "  ('image', 'apartment', 'building'),\n",
       "  ('apartment', 'building', 'whilst'),\n",
       "  ('building', 'whilst', 'driving'),\n",
       "  ('whilst', 'driving', 'home'),\n",
       "  ('driving', 'home', 'state'),\n",
       "  ('home', 'state', 'mental'),\n",
       "  ('state', 'mental', 'confusion'),\n",
       "  ('mental', 'confusion', 'causes'),\n",
       "  ('confusion', 'causes', 'terrible'),\n",
       "  ('causes', 'terrible', 'car'),\n",
       "  ('terrible', 'car', 'accident'),\n",
       "  ('car', 'accident', 'ends'),\n",
       "  ('accident', 'ends', 'hospital'),\n",
       "  ('ends', 'hospital', 'dismissed'),\n",
       "  ('hospital', 'dismissed', 'gina'),\n",
       "  ('dismissed', 'gina', 'feels'),\n",
       "  ('gina', 'feels', 'like'),\n",
       "  ('feels', 'like', 'whole'),\n",
       "  ('like', 'whole', 'surrounding'),\n",
       "  ('whole', 'surrounding', 'changing'),\n",
       "  ('surrounding', 'changing', 'doesnt'),\n",
       "  ('changing', 'doesnt', 'recognize'),\n",
       "  ('doesnt', 'recognize', 'boyfriend'),\n",
       "  ('recognize', 'boyfriend', 'anymore'),\n",
       "  ('boyfriend', 'anymore', 'uncanny'),\n",
       "  ('anymore', 'uncanny', 'fragments'),\n",
       "  ('uncanny', 'fragments', 'accident'),\n",
       "  ('fragments', 'accident', 'keep'),\n",
       "  ('accident', 'keep', 'flashing'),\n",
       "  ('keep', 'flashing', 'eyes'),\n",
       "  ('flashing', 'eyes', 'suffer'),\n",
       "  ('eyes', 'suffer', 'mental'),\n",
       "  ('suffer', 'mental', 'traumas'),\n",
       "  ('mental', 'traumas', 'invoked'),\n",
       "  ('traumas', 'invoked', 'accident'),\n",
       "  ('invoked', 'accident', 'really'),\n",
       "  ('accident', 'really', 'supernatural'),\n",
       "  ('really', 'supernatural', 'conspiracy'),\n",
       "  ('supernatural', 'conspiracy', 'happening'),\n",
       "  ('conspiracy', 'happening', 'around'),\n",
       "  ('happening', 'around', 'writerdirector'),\n",
       "  ('around', 'writerdirector', 'sean'),\n",
       "  ('writerdirector', 'sean', 'ellis'),\n",
       "  ('sean', 'ellis', 'definitely'),\n",
       "  ('ellis', 'definitely', 'invokes'),\n",
       "  ('definitely', 'invokes', 'feelings'),\n",
       "  ('invokes', 'feelings', 'curiosity'),\n",
       "  ('feelings', 'curiosity', 'suspense'),\n",
       "  ('curiosity', 'suspense', 'script'),\n",
       "  ('suspense', 'script', 'unfortunately'),\n",
       "  ('script', 'unfortunately', 'fails'),\n",
       "  ('unfortunately', 'fails', 'properly'),\n",
       "  ('fails', 'properly', 'elaborate'),\n",
       "  ('properly', 'elaborate', 'broken'),\n",
       "  ('elaborate', 'broken', 'truly'),\n",
       "  ('broken', 'truly', 'atmospheric'),\n",
       "  ('truly', 'atmospheric', 'stylish'),\n",
       "  ('atmospheric', 'stylish', 'effort'),\n",
       "  ('stylish', 'effort', 'half'),\n",
       "  ('effort', 'half', 'hour'),\n",
       "  ('half', 'hour', 'film'),\n",
       "  ('hour', 'film', 'come'),\n",
       "  ('film', 'come', 'painful'),\n",
       "  ('come', 'painful', 'conclusion'),\n",
       "  ('painful', 'conclusion', 'shall'),\n",
       "  ('conclusion', 'shall', 'remain'),\n",
       "  ('shall', 'remain', 'beautiful'),\n",
       "  ('remain', 'beautiful', 'empty'),\n",
       "  ('beautiful', 'empty', 'package'),\n",
       "  ('empty', 'package', 'theres'),\n",
       "  ('package', 'theres', 'frustratingly'),\n",
       "  ('theres', 'frustratingly', 'high'),\n",
       "  ('frustratingly', 'high', 'amount'),\n",
       "  ('high', 'amount', 'fake'),\n",
       "  ('amount', 'fake', 'suspense'),\n",
       "  ('fake', 'suspense', 'film'),\n",
       "  ('suspense', 'film', 'means'),\n",
       "  ('film', 'means', 'building'),\n",
       "  ('means', 'building', 'tension'),\n",
       "  ('building', 'tension', 'ominous'),\n",
       "  ('tension', 'ominous', 'music'),\n",
       "  ('ominous', 'music', 'eerie'),\n",
       "  ('music', 'eerie', 'camera'),\n",
       "  ('eerie', 'camera', 'angels'),\n",
       "  ('camera', 'angels', 'absolutely'),\n",
       "  ('angels', 'absolutely', 'nothing'),\n",
       "  ('absolutely', 'nothing', 'even'),\n",
       "  ('nothing', 'even', 'happened'),\n",
       "  ('even', 'happened', 'far'),\n",
       "  ('happened', 'far', 'time'),\n",
       "  ('far', 'time', 'actually'),\n",
       "  ('time', 'actually', 'mysteriousness'),\n",
       "  ('actually', 'mysteriousness', 'kicks'),\n",
       "  ('mysteriousness', 'kicks', 'tricks'),\n",
       "  ('kicks', 'tricks', 'dont'),\n",
       "  ('tricks', 'dont', 'scary'),\n",
       "  ('dont', 'scary', 'effect'),\n",
       "  ('scary', 'effect', 'anymore'),\n",
       "  ('effect', 'anymore', 'fellow'),\n",
       "  ('anymore', 'fellow', 'reviewers'),\n",
       "  ('fellow', 'reviewers', 'around'),\n",
       "  ('reviewers', 'around', 'compare'),\n",
       "  ('around', 'compare', 'film'),\n",
       "  ('compare', 'film', 'particularly'),\n",
       "  ('film', 'particularly', 'sean'),\n",
       "  ('particularly', 'sean', 'ellis'),\n",
       "  ('sean', 'ellis', 'style'),\n",
       "  ('ellis', 'style', 'repertoires'),\n",
       "  ('style', 'repertoires', 'david'),\n",
       "  ('repertoires', 'david', 'lynch'),\n",
       "  ('david', 'lynch', 'stanley'),\n",
       "  ('lynch', 'stanley', 'kubrick'),\n",
       "  ('stanley', 'kubrick', 'even'),\n",
       "  ('kubrick', 'even', 'alfred'),\n",
       "  ('even', 'alfred', 'hitchcock'),\n",
       "  ('alfred', 'hitchcock', 'way'),\n",
       "  ('hitchcock', 'way', 'way'),\n",
       "  ('way', 'way', 'way'),\n",
       "  ('way', 'way', 'much'),\n",
       "  ('way', 'much', 'honor'),\n",
       "  ('much', 'honor', 'ps'),\n",
       "  ('honor', 'ps', 'alternate'),\n",
       "  ('ps', 'alternate', 'spelling'),\n",
       "  ('alternate', 'spelling', 'one'),\n",
       "  ('spelling', 'one', 'scandinavian'),\n",
       "  ('one', 'scandinavian', 'ø')],\n",
       " 'neg')"
      ]
     },
     "execution_count": 12,
     "metadata": {},
     "output_type": "execute_result"
    }
   ],
   "source": [
    "train_dataset[0]"
   ]
  },
  {
   "cell_type": "markdown",
   "metadata": {},
   "source": [
    "### 3. Создайте словарь из индексов n-грамм и посчитайте кол-во вхождений в корпус каждой n-граммы. Сделайте отсечку по частоте встречаемости в корпусе, так чтобы осталось около миллиона элементов."
   ]
  },
  {
   "cell_type": "code",
   "execution_count": 13,
   "metadata": {},
   "outputs": [],
   "source": [
    "def make_vocab(datasets, max_df = 0.5, min_df = 10, min_tf = 3, max_tokens = 1000000):\n",
    "    df_cnt = defaultdict(int)\n",
    "    tf_cnt = defaultdict(int)\n",
    "    total_documents = sum(len(ds) for ds in datasets)\n",
    "    for ds in datasets:\n",
    "        for ds_info in ds:\n",
    "            been = set()\n",
    "            for token in ds_info[0]:\n",
    "                if  token not in been:\n",
    "                    been.add(token)\n",
    "                    df_cnt[token] += 1\n",
    "                tf_cnt[token] += 1\n",
    "                \n",
    "    free_ind = 0\n",
    "    w2ind = dict()\n",
    "    vocab_tf = []\n",
    "    tf_with_inds = []\n",
    "    for word, tf in tf_cnt.items():\n",
    "        df = df_cnt[word]\n",
    "        if tf >= min_tf and df / total_documents <= max_df and df >= min_df:\n",
    "            w2ind[word] = free_ind\n",
    "            vocab_tf.append(tf)\n",
    "            tf_with_inds.append((tf, word))\n",
    "            free_ind += 1\n",
    "            \n",
    "    tf_with_inds.sort(key=lambda x:x[0], reverse=True)\n",
    "    for tf, w in tf_with_inds[max_tokens:]:\n",
    "        del w2ind[w]\n",
    "    \n",
    "    free_ind = 0\n",
    "    w2ind_final = dict()\n",
    "    vocab_tf_final = []\n",
    "    for w, ind in w2ind.items():\n",
    "        w2ind_final[w] = free_ind\n",
    "        vocab_tf_final.append(tf_cnt[w])\n",
    "        free_ind += 1\n",
    "        \n",
    "    return w2ind_final, vocab_tf_final"
   ]
  },
  {
   "cell_type": "code",
   "execution_count": 14,
   "metadata": {},
   "outputs": [],
   "source": [
    "w2ind_full, vocab_tf_full = make_vocab([train_dataset, dev_dataset, test_dataset], min_tf=1, max_df=1.0, min_df=1, max_tokens=5000000)"
   ]
  },
  {
   "cell_type": "code",
   "execution_count": 15,
   "metadata": {},
   "outputs": [
    {
     "name": "stdout",
     "output_type": "stream",
     "text": [
      "4851187\n"
     ]
    }
   ],
   "source": [
    "print(len(w2ind_full))"
   ]
  },
  {
   "cell_type": "markdown",
   "metadata": {},
   "source": [
    "Построим гистограмму встречаемости слов в словаре без изменений."
   ]
  },
  {
   "cell_type": "code",
   "execution_count": 16,
   "metadata": {},
   "outputs": [
    {
     "data": {
      "image/png": "[encoded data removed]",
      "text/plain": [
       "<Figure size 432x288 with 1 Axes>"
      ]
     },
     "metadata": {
      "needs_background": "light"
     },
     "output_type": "display_data"
    }
   ],
   "source": [
    "plt.hist(vocab_tf_full, log=True, bins=100)\n",
    "plt.show()"
   ]
  },
  {
   "cell_type": "markdown",
   "metadata": {},
   "source": [
    "Здесь не очень видно, но очень много токенов встречается в корпусе 1 раз.\n",
    "<br>\n",
    "Такое очень сложно как-то ограничить частотами до миллиона, поэтому просто отсортируем все слова по частоте встречаемости и оставим с наибольшими частотами миллион токенов. "
   ]
  },
  {
   "cell_type": "code",
   "execution_count": 17,
   "metadata": {},
   "outputs": [],
   "source": [
    "w2ind, vocab_tf = make_vocab([train_dataset, dev_dataset, test_dataset], min_tf=1, max_df=0.7, min_df=1, max_tokens=1000000)"
   ]
  },
  {
   "cell_type": "code",
   "execution_count": 18,
   "metadata": {},
   "outputs": [
    {
     "name": "stdout",
     "output_type": "stream",
     "text": [
      "1000000\n"
     ]
    }
   ],
   "source": [
    "print(len(w2ind))"
   ]
  },
  {
   "cell_type": "markdown",
   "metadata": {},
   "source": [
    "Теперь нормас."
   ]
  },
  {
   "cell_type": "markdown",
   "metadata": {},
   "source": [
    "### 4. Возведите количество вхождений в корпусе каждой n-граммы в степень 3/4. А затем нормализуйте так, чтобы получились вероятности."
   ]
  },
  {
   "cell_type": "code",
   "execution_count": 19,
   "metadata": {},
   "outputs": [],
   "source": [
    "vocab_tf = np.array(vocab_tf, dtype=np.float64)\n",
    "vocab_tf_prob = np.float_power(vocab_tf, 0.75)\n",
    "vocab_tf_prob /= vocab_tf_prob.sum()"
   ]
  },
  {
   "cell_type": "code",
   "execution_count": 20,
   "metadata": {},
   "outputs": [
    {
     "data": {
      "text/plain": [
       "1.0000000000000002"
      ]
     },
     "execution_count": 20,
     "metadata": {},
     "output_type": "execute_result"
    }
   ],
   "source": [
    "vocab_tf_prob.sum()"
   ]
  },
  {
   "cell_type": "markdown",
   "metadata": {},
   "source": [
    "### 5. Все документы представьте в виде двух массивов данных одинакового размера: в первый массив сохраните все индексы n-грамм для всех документов, во второй массив — индексы документов для соответствующих n-грамм в первом массиве. "
   ]
  },
  {
   "cell_type": "markdown",
   "metadata": {},
   "source": [
    "Склеим все датасеты в один для обучения эмбеддингов документов"
   ]
  },
  {
   "cell_type": "code",
   "execution_count": 21,
   "metadata": {},
   "outputs": [
    {
     "name": "stdout",
     "output_type": "stream",
     "text": [
      "50000\n"
     ]
    }
   ],
   "source": [
    "transductive_dataset = list(chain(train_dataset, dev_dataset, test_dataset))\n",
    "print(len(transductive_dataset))"
   ]
  },
  {
   "cell_type": "code",
   "execution_count": 22,
   "metadata": {},
   "outputs": [
    {
     "name": "stdout",
     "output_type": "stream",
     "text": [
      "15000 10000 25000\n"
     ]
    }
   ],
   "source": [
    "print(len(train_dataset), len(dev_dataset), len(test_dataset))"
   ]
  },
  {
   "cell_type": "code",
   "execution_count": 23,
   "metadata": {},
   "outputs": [
    {
     "name": "stdout",
     "output_type": "stream",
     "text": [
      "50000\n"
     ]
    }
   ],
   "source": [
    "transductive_texts = [x[0] for x in transductive_dataset]\n",
    "print(len(transductive_texts))"
   ]
  },
  {
   "cell_type": "code",
   "execution_count": 24,
   "metadata": {},
   "outputs": [],
   "source": [
    "def make_inds_ngram_dataset(texts, w2ind, shuffle=True):\n",
    "    ngrams_inds = []\n",
    "    docs_inds = []\n",
    "    for doc_ind, text in enumerate(texts):\n",
    "        for ngram in text:\n",
    "            if ngram in w2ind:\n",
    "                ngrams_inds.append(w2ind[ngram])\n",
    "                docs_inds.append(doc_ind)\n",
    "            \n",
    "    ngrams_inds = np.array(ngrams_inds)\n",
    "    docs_inds = np.array(docs_inds)\n",
    "    assert(len(ngrams_inds) == len(docs_inds))\n",
    "    if shuffle:\n",
    "        permutation = np.random.permutation(len(docs_inds))\n",
    "        ngrams_inds = ngrams_inds[permutation]\n",
    "        docs_inds = docs_inds[permutation]\n",
    "    return ngrams_inds, docs_inds"
   ]
  },
  {
   "cell_type": "code",
   "execution_count": 25,
   "metadata": {},
   "outputs": [],
   "source": [
    "transductive_inds_dataset = make_inds_ngram_dataset(transductive_texts, w2ind, shuffle=True)"
   ]
  },
  {
   "cell_type": "code",
   "execution_count": 26,
   "metadata": {},
   "outputs": [
    {
     "name": "stdout",
     "output_type": "stream",
     "text": [
      "5494618\n",
      "5494618\n"
     ]
    }
   ],
   "source": [
    "print(len(transductive_inds_dataset[0]))\n",
    "print(len(transductive_inds_dataset[1]))"
   ]
  },
  {
   "cell_type": "markdown",
   "metadata": {},
   "source": [
    "### 6. Напишите функцию batch_generator"
   ]
  },
  {
   "cell_type": "code",
   "execution_count": 27,
   "metadata": {},
   "outputs": [],
   "source": [
    "def batch_generator(words_idxs, docs_idxs, probs, nb=5, batch_size=100):\n",
    "    # Let's generate all negative examples at once.\n",
    "    \n",
    "    neg_samples = np.random.choice(np.arange(len(probs)), size = (nb * len(words_idxs), ), p=probs)\n",
    "    \n",
    "#     print(\"pos_samples_len = \", len(docs_idxs), \", neg_samples = \", len(neg_samples))\n",
    "    \n",
    "    end = (len(words_idxs) // batch_size - 1) * batch_size + 1\n",
    "    for batch_start in range(0, end, batch_size):\n",
    "        pos_batch = words_idxs[batch_start : batch_start + batch_size]\n",
    "        docs_batch = docs_idxs[batch_start : batch_start + batch_size]\n",
    "        pos_labels_batch = np.array([1 for _ in range(len(pos_batch))])\n",
    "        yield (pos_batch, docs_batch, pos_labels_batch)\n",
    "        for i in range(nb):\n",
    "            neg_batch = neg_samples[batch_start + batch_size * i : batch_start + batch_size * (i + 1)]\n",
    "            neg_labels_batch = np.array([0 for _ in range(len(neg_batch))])\n",
    "            yield (neg_batch, docs_batch, neg_labels_batch)"
   ]
  },
  {
   "cell_type": "code",
   "execution_count": 28,
   "metadata": {},
   "outputs": [],
   "source": [
    "test_bg = batch_generator(transductive_inds_dataset[0], transductive_inds_dataset[1], vocab_tf_prob, batch_size=5)"
   ]
  },
  {
   "cell_type": "code",
   "execution_count": 29,
   "metadata": {},
   "outputs": [
    {
     "data": {
      "text/plain": [
       "(array([444905, 318999,  50459, 195750,    722]),\n",
       " array([13451, 22374,   178,   750, 13147]),\n",
       " array([1, 1, 1, 1, 1]))"
      ]
     },
     "execution_count": 29,
     "metadata": {},
     "output_type": "execute_result"
    }
   ],
   "source": [
    "next(test_bg)"
   ]
  },
  {
   "cell_type": "code",
   "execution_count": 30,
   "metadata": {},
   "outputs": [
    {
     "data": {
      "text/plain": [
       "(array([932707,  68086,  74010,   1352,  37643]),\n",
       " array([13451, 22374,   178,   750, 13147]),\n",
       " array([0, 0, 0, 0, 0]))"
      ]
     },
     "execution_count": 30,
     "metadata": {},
     "output_type": "execute_result"
    }
   ],
   "source": [
    "next(test_bg)"
   ]
  },
  {
   "cell_type": "markdown",
   "metadata": {},
   "source": [
    "### 7. Далее создадим класс Doc2Vec,"
   ]
  },
  {
   "cell_type": "code",
   "execution_count": 31,
   "metadata": {},
   "outputs": [],
   "source": [
    "class Doc2Vec:\n",
    "    def __init__(self, vocab_size, docs_cnt, emb_size=500, train_start = 0):\n",
    "        self.word_embs = np.random.uniform(low=-0.001, high=0.001, size=(vocab_size, emb_size))\n",
    "        self.docs_embs = np.random.uniform(low=-0.001, high=0.001, size=(docs_cnt, emb_size))\n",
    "        self.vocab_size = vocab_size\n",
    "        self.docs_cnt = docs_cnt\n",
    "        self.emb_size = emb_size\n",
    "        self.train_start = train_start\n",
    "    \n",
    "    def train(self, word_inds, doc_inds, labels, lr):\n",
    "        word_batch_embs = self.word_embs[word_inds]\n",
    "        doc_batch_embs = self.docs_embs[doc_inds]\n",
    "        \n",
    "        dot_prods = np.einsum('ij,ij->i', word_batch_embs, doc_batch_embs)\n",
    "        y_pred = self.sigmoid(dot_prods)\n",
    "        \n",
    "        word_batch_grads = doc_batch_embs * (y_pred - labels).reshape(-1, 1)\n",
    "        doc_batch_grads = word_batch_embs * (y_pred - labels).reshape(-1, 1)\n",
    "        \n",
    "        for ind, (w_ind, d_ind) in enumerate(zip(word_inds, doc_inds)):\n",
    "            self.word_embs[w_ind] -= lr * word_batch_grads[ind]\n",
    "            self.docs_embs[d_ind] -= lr * doc_batch_grads[ind]\n",
    "    \n",
    "        batch_loss = (-labels * np.log(y_pred) - (1 - labels) * np.log(1 - y_pred)).sum()\n",
    "        \n",
    "        return batch_loss\n",
    "            \n",
    "    def get_all_X(self):\n",
    "        train_borders = (self.train_start, self.train_start + 15000)\n",
    "        dev_borders = (train_borders[1], train_borders[1] + 10000)\n",
    "        test_borders = (dev_borders[1], dev_borders[1] + 25000)\n",
    "        X_train = self.docs_embs[train_borders[0] : train_borders[1]]\n",
    "        X_dev = self.docs_embs[dev_borders[0] : dev_borders[1]]\n",
    "        X_test = self.docs_embs[test_borders[0] : test_borders[1]]\n",
    "    \n",
    "        return X_train, X_dev, X_test\n",
    "    \n",
    "    def sigmoid(self, x):\n",
    "        return np.where(x > 0, 1.0 / (1.0 + np.exp(-x)), np.exp(x) / (np.exp(x) + 1.0))"
   ]
  },
  {
   "cell_type": "markdown",
   "metadata": {},
   "source": [
    "### 9. Напишите функцию, которая будет принимать эмбединги и метки документов из train и dev выборок, обучать логистическую регрессию на обучающей и возвращать ее точность на обучающей и валидационной выборках."
   ]
  },
  {
   "cell_type": "code",
   "execution_count": 43,
   "metadata": {},
   "outputs": [],
   "source": [
    "def train_logreg(X_train, y_train, X_dev, y_dev):\n",
    "    model = LogisticRegression(penalty='l2', max_iter=500)\n",
    "    \n",
    "    log_border = 3\n",
    "    C_values = np.logspace(-log_border, log_border, 30)\n",
    "    params = {'C' : C_values}\n",
    "    gs_clf = GridSearchCV(model, params, cv=10, n_jobs=4, verbose=1)\n",
    "    gs_clf.fit(X_train, y_train)\n",
    "    \n",
    "    if gs_clf.best_params_['C'] in (C_values[0], C_values[-1]):\n",
    "        print(\"C is on border!\")\n",
    "        log_border += 2\n",
    "        C_values = np.logspace(-log_border, log_border, 30)\n",
    "        params = {'C' : C_values}\n",
    "        gs_clf = GridSearchCV(model, params, cv=10, n_jobs=4, verbose=1)\n",
    "        gs_clf.fit(X_train, y_train)\n",
    "    \n",
    "    train_acc = gs_clf.best_score_\n",
    "    \n",
    "    best_model = gs_clf.best_estimator_\n",
    "    dev_acc = best_model.score(X_dev, y_dev)\n",
    "    return train_acc, dev_acc"
   ]
  },
  {
   "cell_type": "markdown",
   "metadata": {},
   "source": [
    "### 10. Напишите цикл обучения модели по эпохам.\n"
   ]
  },
  {
   "cell_type": "markdown",
   "metadata": {},
   "source": [
    "Соберем все данные, что у нас есть"
   ]
  },
  {
   "cell_type": "code",
   "execution_count": 33,
   "metadata": {},
   "outputs": [
    {
     "name": "stdout",
     "output_type": "stream",
     "text": [
      "[0 1 0 ... 0 1 1] 15000\n",
      "[0 0 1 ... 1 1 0] 10000\n"
     ]
    }
   ],
   "source": [
    "# Тексты для обучения doc2vec\n",
    "transductive_inds_dataset\n",
    "# Ещё нужны лейблы для обучения логистической регрессии.\n",
    "train_labels = np.array([int(lab == 'pos') for text, lab in train_dataset], dtype=np.int32)\n",
    "print(train_labels, len(train_labels))\n",
    "\n",
    "dev_labels = np.array([int(lab == 'pos') for text, lab in dev_dataset], dtype=np.int32)\n",
    "print(dev_labels, len(dev_labels))"
   ]
  },
  {
   "cell_type": "code",
   "execution_count": 44,
   "metadata": {},
   "outputs": [],
   "source": [
    "def fit(doc2vec_model, d2v_data, vocab_probs, train_labels, dev_labels, num_epochs, doc2vec_lr):\n",
    "    train_accs = []\n",
    "    dev_accs = []\n",
    "    \n",
    "    \n",
    "    d2v_nb = 5\n",
    "    d2v_batch_size = 100\n",
    "    \n",
    "    total_epoch_iterations = ((d2v_nb + 1) * len(d2v_data[0])) // d2v_batch_size\n",
    "    \n",
    "    total_iter = num_epochs * total_epoch_iterations\n",
    "    \n",
    "    loss_stat_border = 150000\n",
    "    cur_iter = 0\n",
    "    for ep in range(num_epochs):\n",
    "        print(\"Start epoch #\", ep + 1)\n",
    "        print(\"Training Doc2Vec\")\n",
    "        batch_gen = batch_generator(*d2v_data, probs=vocab_probs)\n",
    "        avg_loss = 0.0\n",
    "        for ind, (word_inds, doc_inds, labels) in enumerate(tqdm(batch_gen)):\n",
    "            new_lr = doc2vec_lr * (1 - cur_iter * 1.0 / total_iter)\n",
    "            batch_loss = doc2vec.train(word_inds, doc_inds, labels, new_lr)\n",
    "            cur_iter += 1\n",
    "            avg_loss += batch_loss\n",
    "            if ind % loss_stat_border == 0 and ind != 0:\n",
    "                tqdm.write(f\"avg_loss: {avg_loss / loss_stat_border}\")\n",
    "                avg_loss = 0.0\n",
    "            \n",
    "        print(\"Starting logistic regression\")\n",
    "        \n",
    "        X_train, X_dev, X_test = doc2vec_model.get_all_X()\n",
    "        \n",
    "        t_acc, d_acc = train_logreg(X_train, train_labels, X_dev, dev_labels)\n",
    "        print(\"Train acc = \", t_acc, \" Dev acc =  \", d_acc)\n",
    "        train_accs.append(t_acc)\n",
    "        dev_accs.append(d_acc)\n",
    "    return train_accs, dev_accs"
   ]
  },
  {
   "cell_type": "code",
   "execution_count": 45,
   "metadata": {},
   "outputs": [],
   "source": [
    "doc2vec = Doc2Vec(len(w2ind), len(transductive_dataset))"
   ]
  },
  {
   "cell_type": "code",
   "execution_count": 46,
   "metadata": {
    "scrolled": true
   },
   "outputs": [
    {
     "name": "stdout",
     "output_type": "stream",
     "text": [
      "Start epoch # 1\n",
      "Training Doc2Vec\n"
     ]
    },
    {
     "data": {
      "application/vnd.jupyter.widget-view+json": {
       "model_id": "e5a8c084fdcb441e996ee824ce3c009b",
       "version_major": 2,
       "version_minor": 0
      },
      "text/plain": [
       "HBox(children=(HTML(value=''), FloatProgress(value=1.0, bar_style='info', layout=Layout(width='20px'), max=1.0…"
      ]
     },
     "metadata": {},
     "output_type": "display_data"
    },
    {
     "name": "stdout",
     "output_type": "stream",
     "text": [
      "avg_loss: 69.31516603481327\n",
      "avg_loss: 69.30763717463344\n",
      "\n",
      "Starting logistic regression\n",
      "Fitting 10 folds for each of 30 candidates, totalling 300 fits\n"
     ]
    },
    {
     "name": "stderr",
     "output_type": "stream",
     "text": [
      "[Parallel(n_jobs=4)]: Using backend LokyBackend with 4 concurrent workers.\n",
      "[Parallel(n_jobs=4)]: Done  42 tasks      | elapsed:    4.2s\n",
      "[Parallel(n_jobs=4)]: Done 192 tasks      | elapsed:   21.6s\n",
      "[Parallel(n_jobs=4)]: Done 300 out of 300 | elapsed:  1.1min finished\n"
     ]
    },
    {
     "name": "stdout",
     "output_type": "stream",
     "text": [
      "Train acc =  0.5916666666666667  Dev acc =   0.5997\n",
      "Start epoch # 2\n",
      "Training Doc2Vec\n"
     ]
    },
    {
     "data": {
      "application/vnd.jupyter.widget-view+json": {
       "model_id": "e6b4e3753f3d42029fc3e7460cffd83f",
       "version_major": 2,
       "version_minor": 0
      },
      "text/plain": [
       "HBox(children=(HTML(value=''), FloatProgress(value=1.0, bar_style='info', layout=Layout(width='20px'), max=1.0…"
      ]
     },
     "metadata": {},
     "output_type": "display_data"
    },
    {
     "name": "stdout",
     "output_type": "stream",
     "text": [
      "avg_loss: 68.07554473198431\n",
      "avg_loss: 63.77839805013095\n",
      "\n",
      "Starting logistic regression\n",
      "Fitting 10 folds for each of 30 candidates, totalling 300 fits\n"
     ]
    },
    {
     "name": "stderr",
     "output_type": "stream",
     "text": [
      "[Parallel(n_jobs=4)]: Using backend LokyBackend with 4 concurrent workers.\n",
      "[Parallel(n_jobs=4)]: Done  42 tasks      | elapsed:    4.2s\n",
      "[Parallel(n_jobs=4)]: Done 192 tasks      | elapsed:   36.0s\n",
      "[Parallel(n_jobs=4)]: Done 300 out of 300 | elapsed:  3.6min finished\n"
     ]
    },
    {
     "name": "stdout",
     "output_type": "stream",
     "text": [
      "Train acc =  0.7155333333333334  Dev acc =   0.7169\n",
      "Start epoch # 3\n",
      "Training Doc2Vec\n"
     ]
    },
    {
     "data": {
      "application/vnd.jupyter.widget-view+json": {
       "model_id": "3391ef2e4340457c9ec2d9ed4b846353",
       "version_major": 2,
       "version_minor": 0
      },
      "text/plain": [
       "HBox(children=(HTML(value=''), FloatProgress(value=1.0, bar_style='info', layout=Layout(width='20px'), max=1.0…"
      ]
     },
     "metadata": {},
     "output_type": "display_data"
    },
    {
     "name": "stdout",
     "output_type": "stream",
     "text": [
      "avg_loss: 57.49392091619331\n",
      "avg_loss: 53.13841046058573\n",
      "\n",
      "Starting logistic regression\n",
      "Fitting 10 folds for each of 30 candidates, totalling 300 fits\n"
     ]
    },
    {
     "name": "stderr",
     "output_type": "stream",
     "text": [
      "[Parallel(n_jobs=4)]: Using backend LokyBackend with 4 concurrent workers.\n",
      "[Parallel(n_jobs=4)]: Done  42 tasks      | elapsed:    3.9s\n",
      "[Parallel(n_jobs=4)]: Done 192 tasks      | elapsed:  1.1min\n",
      "[Parallel(n_jobs=4)]: Done 300 out of 300 | elapsed:  7.0min finished\n",
      "/home/rmnnsk/anaconda3/lib/python3.8/site-packages/sklearn/linear_model/_logistic.py:762: ConvergenceWarning: lbfgs failed to converge (status=1):\n",
      "STOP: TOTAL NO. of ITERATIONS REACHED LIMIT.\n",
      "\n",
      "Increase the number of iterations (max_iter) or scale the data as shown in:\n",
      "    https://scikit-learn.org/stable/modules/preprocessing.html\n",
      "Please also refer to the documentation for alternative solver options:\n",
      "    https://scikit-learn.org/stable/modules/linear_model.html#logistic-regression\n",
      "  n_iter_i = _check_optimize_result(\n",
      "[Parallel(n_jobs=4)]: Using backend LokyBackend with 4 concurrent workers.\n"
     ]
    },
    {
     "name": "stdout",
     "output_type": "stream",
     "text": [
      "C is on border!\n",
      "Fitting 10 folds for each of 30 candidates, totalling 300 fits\n"
     ]
    },
    {
     "name": "stderr",
     "output_type": "stream",
     "text": [
      "[Parallel(n_jobs=4)]: Done  42 tasks      | elapsed:    3.6s\n",
      "[Parallel(n_jobs=4)]: Done 192 tasks      | elapsed:  1.4min\n",
      "[Parallel(n_jobs=4)]: Done 300 out of 300 | elapsed:  8.5min finished\n"
     ]
    },
    {
     "name": "stdout",
     "output_type": "stream",
     "text": [
      "Train acc =  0.7654  Dev acc =   0.7656\n",
      "Start epoch # 4\n",
      "Training Doc2Vec\n"
     ]
    },
    {
     "name": "stderr",
     "output_type": "stream",
     "text": [
      "/home/rmnnsk/anaconda3/lib/python3.8/site-packages/sklearn/linear_model/_logistic.py:762: ConvergenceWarning: lbfgs failed to converge (status=1):\n",
      "STOP: TOTAL NO. of ITERATIONS REACHED LIMIT.\n",
      "\n",
      "Increase the number of iterations (max_iter) or scale the data as shown in:\n",
      "    https://scikit-learn.org/stable/modules/preprocessing.html\n",
      "Please also refer to the documentation for alternative solver options:\n",
      "    https://scikit-learn.org/stable/modules/linear_model.html#logistic-regression\n",
      "  n_iter_i = _check_optimize_result(\n"
     ]
    },
    {
     "data": {
      "application/vnd.jupyter.widget-view+json": {
       "model_id": "8dd5a6908e0a46c3a54ab5138ca629eb",
       "version_major": 2,
       "version_minor": 0
      },
      "text/plain": [
       "HBox(children=(HTML(value=''), FloatProgress(value=1.0, bar_style='info', layout=Layout(width='20px'), max=1.0…"
      ]
     },
     "metadata": {},
     "output_type": "display_data"
    },
    {
     "name": "stdout",
     "output_type": "stream",
     "text": [
      "avg_loss: 49.60746387181563\n",
      "avg_loss: 47.64303773843465\n",
      "\n",
      "Starting logistic regression\n",
      "Fitting 10 folds for each of 30 candidates, totalling 300 fits\n"
     ]
    },
    {
     "name": "stderr",
     "output_type": "stream",
     "text": [
      "[Parallel(n_jobs=4)]: Using backend LokyBackend with 4 concurrent workers.\n",
      "[Parallel(n_jobs=4)]: Done  42 tasks      | elapsed:    4.7s\n",
      "[Parallel(n_jobs=4)]: Done 192 tasks      | elapsed:  1.7min\n",
      "[Parallel(n_jobs=4)]: Done 300 out of 300 | elapsed:  9.0min finished\n",
      "/home/rmnnsk/anaconda3/lib/python3.8/site-packages/sklearn/linear_model/_logistic.py:762: ConvergenceWarning: lbfgs failed to converge (status=1):\n",
      "STOP: TOTAL NO. of ITERATIONS REACHED LIMIT.\n",
      "\n",
      "Increase the number of iterations (max_iter) or scale the data as shown in:\n",
      "    https://scikit-learn.org/stable/modules/preprocessing.html\n",
      "Please also refer to the documentation for alternative solver options:\n",
      "    https://scikit-learn.org/stable/modules/linear_model.html#logistic-regression\n",
      "  n_iter_i = _check_optimize_result(\n",
      "[Parallel(n_jobs=4)]: Using backend LokyBackend with 4 concurrent workers.\n"
     ]
    },
    {
     "name": "stdout",
     "output_type": "stream",
     "text": [
      "C is on border!\n",
      "Fitting 10 folds for each of 30 candidates, totalling 300 fits\n"
     ]
    },
    {
     "name": "stderr",
     "output_type": "stream",
     "text": [
      "[Parallel(n_jobs=4)]: Done  42 tasks      | elapsed:    3.7s\n",
      "[Parallel(n_jobs=4)]: Done 192 tasks      | elapsed:  2.1min\n",
      "[Parallel(n_jobs=4)]: Done 300 out of 300 | elapsed: 10.0min finished\n"
     ]
    },
    {
     "name": "stdout",
     "output_type": "stream",
     "text": [
      "Train acc =  0.7950666666666667  Dev acc =   0.7926\n",
      "Start epoch # 5\n",
      "Training Doc2Vec\n"
     ]
    },
    {
     "name": "stderr",
     "output_type": "stream",
     "text": [
      "/home/rmnnsk/anaconda3/lib/python3.8/site-packages/sklearn/linear_model/_logistic.py:762: ConvergenceWarning: lbfgs failed to converge (status=1):\n",
      "STOP: TOTAL NO. of ITERATIONS REACHED LIMIT.\n",
      "\n",
      "Increase the number of iterations (max_iter) or scale the data as shown in:\n",
      "    https://scikit-learn.org/stable/modules/preprocessing.html\n",
      "Please also refer to the documentation for alternative solver options:\n",
      "    https://scikit-learn.org/stable/modules/linear_model.html#logistic-regression\n",
      "  n_iter_i = _check_optimize_result(\n"
     ]
    },
    {
     "data": {
      "application/vnd.jupyter.widget-view+json": {
       "model_id": "6d8e1f0602b848698a70f20d64737daf",
       "version_major": 2,
       "version_minor": 0
      },
      "text/plain": [
       "HBox(children=(HTML(value=''), FloatProgress(value=1.0, bar_style='info', layout=Layout(width='20px'), max=1.0…"
      ]
     },
     "metadata": {},
     "output_type": "display_data"
    },
    {
     "name": "stdout",
     "output_type": "stream",
     "text": [
      "avg_loss: 46.103554312859046\n",
      "avg_loss: 45.14614320294521\n",
      "\n",
      "Starting logistic regression\n",
      "Fitting 10 folds for each of 30 candidates, totalling 300 fits\n"
     ]
    },
    {
     "name": "stderr",
     "output_type": "stream",
     "text": [
      "[Parallel(n_jobs=4)]: Using backend LokyBackend with 4 concurrent workers.\n",
      "[Parallel(n_jobs=4)]: Done  42 tasks      | elapsed:    7.8s\n",
      "[Parallel(n_jobs=4)]: Done 192 tasks      | elapsed:  2.4min\n",
      "[Parallel(n_jobs=4)]: Done 300 out of 300 | elapsed: 10.6min finished\n"
     ]
    },
    {
     "name": "stdout",
     "output_type": "stream",
     "text": [
      "Train acc =  0.8174666666666667  Dev acc =   0.8148\n",
      "Start epoch # 6\n",
      "Training Doc2Vec\n"
     ]
    },
    {
     "name": "stderr",
     "output_type": "stream",
     "text": [
      "/home/rmnnsk/anaconda3/lib/python3.8/site-packages/sklearn/linear_model/_logistic.py:762: ConvergenceWarning: lbfgs failed to converge (status=1):\n",
      "STOP: TOTAL NO. of ITERATIONS REACHED LIMIT.\n",
      "\n",
      "Increase the number of iterations (max_iter) or scale the data as shown in:\n",
      "    https://scikit-learn.org/stable/modules/preprocessing.html\n",
      "Please also refer to the documentation for alternative solver options:\n",
      "    https://scikit-learn.org/stable/modules/linear_model.html#logistic-regression\n",
      "  n_iter_i = _check_optimize_result(\n"
     ]
    },
    {
     "data": {
      "application/vnd.jupyter.widget-view+json": {
       "model_id": "d172dd50a41543d29f87bbf821a24d09",
       "version_major": 2,
       "version_minor": 0
      },
      "text/plain": [
       "HBox(children=(HTML(value=''), FloatProgress(value=1.0, bar_style='info', layout=Layout(width='20px'), max=1.0…"
      ]
     },
     "metadata": {},
     "output_type": "display_data"
    },
    {
     "name": "stdout",
     "output_type": "stream",
     "text": [
      "avg_loss: 44.32933396087691\n",
      "avg_loss: 43.734775207944786\n",
      "\n",
      "Starting logistic regression\n",
      "Fitting 10 folds for each of 30 candidates, totalling 300 fits\n"
     ]
    },
    {
     "name": "stderr",
     "output_type": "stream",
     "text": [
      "[Parallel(n_jobs=4)]: Using backend LokyBackend with 4 concurrent workers.\n",
      "[Parallel(n_jobs=4)]: Done  42 tasks      | elapsed:    9.0s\n",
      "[Parallel(n_jobs=4)]: Done 192 tasks      | elapsed:  2.7min\n",
      "[Parallel(n_jobs=4)]: Done 300 out of 300 | elapsed: 12.5min finished\n"
     ]
    },
    {
     "name": "stdout",
     "output_type": "stream",
     "text": [
      "Train acc =  0.8318666666666668  Dev acc =   0.8307\n",
      "Start epoch # 7\n",
      "Training Doc2Vec\n"
     ]
    },
    {
     "name": "stderr",
     "output_type": "stream",
     "text": [
      "/home/rmnnsk/anaconda3/lib/python3.8/site-packages/sklearn/linear_model/_logistic.py:762: ConvergenceWarning: lbfgs failed to converge (status=1):\n",
      "STOP: TOTAL NO. of ITERATIONS REACHED LIMIT.\n",
      "\n",
      "Increase the number of iterations (max_iter) or scale the data as shown in:\n",
      "    https://scikit-learn.org/stable/modules/preprocessing.html\n",
      "Please also refer to the documentation for alternative solver options:\n",
      "    https://scikit-learn.org/stable/modules/linear_model.html#logistic-regression\n",
      "  n_iter_i = _check_optimize_result(\n"
     ]
    },
    {
     "data": {
      "application/vnd.jupyter.widget-view+json": {
       "model_id": "fa27ab6af8294fbeada35dbc5079d90b",
       "version_major": 2,
       "version_minor": 0
      },
      "text/plain": [
       "HBox(children=(HTML(value=''), FloatProgress(value=1.0, bar_style='info', layout=Layout(width='20px'), max=1.0…"
      ]
     },
     "metadata": {},
     "output_type": "display_data"
    },
    {
     "name": "stdout",
     "output_type": "stream",
     "text": [
      "avg_loss: 43.205131392386974\n",
      "avg_loss: 42.779361674851174\n",
      "\n",
      "Starting logistic regression\n",
      "Fitting 10 folds for each of 30 candidates, totalling 300 fits\n"
     ]
    },
    {
     "name": "stderr",
     "output_type": "stream",
     "text": [
      "[Parallel(n_jobs=4)]: Using backend LokyBackend with 4 concurrent workers.\n",
      "[Parallel(n_jobs=4)]: Done  42 tasks      | elapsed:    8.8s\n",
      "[Parallel(n_jobs=4)]: Done 192 tasks      | elapsed:  2.9min\n",
      "[Parallel(n_jobs=4)]: Done 300 out of 300 | elapsed: 12.7min finished\n"
     ]
    },
    {
     "name": "stdout",
     "output_type": "stream",
     "text": [
      "Train acc =  0.8398  Dev acc =   0.8411\n",
      "Start epoch # 8\n",
      "Training Doc2Vec\n"
     ]
    },
    {
     "name": "stderr",
     "output_type": "stream",
     "text": [
      "/home/rmnnsk/anaconda3/lib/python3.8/site-packages/sklearn/linear_model/_logistic.py:762: ConvergenceWarning: lbfgs failed to converge (status=1):\n",
      "STOP: TOTAL NO. of ITERATIONS REACHED LIMIT.\n",
      "\n",
      "Increase the number of iterations (max_iter) or scale the data as shown in:\n",
      "    https://scikit-learn.org/stable/modules/preprocessing.html\n",
      "Please also refer to the documentation for alternative solver options:\n",
      "    https://scikit-learn.org/stable/modules/linear_model.html#logistic-regression\n",
      "  n_iter_i = _check_optimize_result(\n"
     ]
    },
    {
     "data": {
      "application/vnd.jupyter.widget-view+json": {
       "model_id": "a91f6b4b4ff2491584e6daf0e8608725",
       "version_major": 2,
       "version_minor": 0
      },
      "text/plain": [
       "HBox(children=(HTML(value=''), FloatProgress(value=1.0, bar_style='info', layout=Layout(width='20px'), max=1.0…"
      ]
     },
     "metadata": {},
     "output_type": "display_data"
    },
    {
     "name": "stdout",
     "output_type": "stream",
     "text": [
      "avg_loss: 42.39308073389108\n",
      "avg_loss: 42.095640188898116\n",
      "\n",
      "Starting logistic regression\n",
      "Fitting 10 folds for each of 30 candidates, totalling 300 fits\n"
     ]
    },
    {
     "name": "stderr",
     "output_type": "stream",
     "text": [
      "[Parallel(n_jobs=4)]: Using backend LokyBackend with 4 concurrent workers.\n",
      "[Parallel(n_jobs=4)]: Done  42 tasks      | elapsed:    9.0s\n",
      "[Parallel(n_jobs=4)]: Done 192 tasks      | elapsed:  3.3min\n",
      "[Parallel(n_jobs=4)]: Done 300 out of 300 | elapsed: 11.3min finished\n"
     ]
    },
    {
     "name": "stdout",
     "output_type": "stream",
     "text": [
      "Train acc =  0.8447333333333333  Dev acc =   0.8456\n",
      "Start epoch # 9\n",
      "Training Doc2Vec\n"
     ]
    },
    {
     "name": "stderr",
     "output_type": "stream",
     "text": [
      "/home/rmnnsk/anaconda3/lib/python3.8/site-packages/sklearn/linear_model/_logistic.py:762: ConvergenceWarning: lbfgs failed to converge (status=1):\n",
      "STOP: TOTAL NO. of ITERATIONS REACHED LIMIT.\n",
      "\n",
      "Increase the number of iterations (max_iter) or scale the data as shown in:\n",
      "    https://scikit-learn.org/stable/modules/preprocessing.html\n",
      "Please also refer to the documentation for alternative solver options:\n",
      "    https://scikit-learn.org/stable/modules/linear_model.html#logistic-regression\n",
      "  n_iter_i = _check_optimize_result(\n"
     ]
    },
    {
     "data": {
      "application/vnd.jupyter.widget-view+json": {
       "model_id": "5f17cfbcbb1b44668ad518fa9a9b8a70",
       "version_major": 2,
       "version_minor": 0
      },
      "text/plain": [
       "HBox(children=(HTML(value=''), FloatProgress(value=1.0, bar_style='info', layout=Layout(width='20px'), max=1.0…"
      ]
     },
     "metadata": {},
     "output_type": "display_data"
    },
    {
     "name": "stdout",
     "output_type": "stream",
     "text": [
      "avg_loss: 41.813451444511806\n",
      "avg_loss: 41.602516138933524\n",
      "\n",
      "Starting logistic regression\n",
      "Fitting 10 folds for each of 30 candidates, totalling 300 fits\n"
     ]
    },
    {
     "name": "stderr",
     "output_type": "stream",
     "text": [
      "[Parallel(n_jobs=4)]: Using backend LokyBackend with 4 concurrent workers.\n",
      "[Parallel(n_jobs=4)]: Done  42 tasks      | elapsed:    5.4s\n",
      "[Parallel(n_jobs=4)]: Done 192 tasks      | elapsed:  2.5min\n",
      "[Parallel(n_jobs=4)]: Done 300 out of 300 | elapsed: 10.0min finished\n"
     ]
    },
    {
     "name": "stdout",
     "output_type": "stream",
     "text": [
      "Train acc =  0.8482  Dev acc =   0.8479\n",
      "Start epoch # 10\n",
      "Training Doc2Vec\n"
     ]
    },
    {
     "name": "stderr",
     "output_type": "stream",
     "text": [
      "/home/rmnnsk/anaconda3/lib/python3.8/site-packages/sklearn/linear_model/_logistic.py:762: ConvergenceWarning: lbfgs failed to converge (status=1):\n",
      "STOP: TOTAL NO. of ITERATIONS REACHED LIMIT.\n",
      "\n",
      "Increase the number of iterations (max_iter) or scale the data as shown in:\n",
      "    https://scikit-learn.org/stable/modules/preprocessing.html\n",
      "Please also refer to the documentation for alternative solver options:\n",
      "    https://scikit-learn.org/stable/modules/linear_model.html#logistic-regression\n",
      "  n_iter_i = _check_optimize_result(\n"
     ]
    },
    {
     "data": {
      "application/vnd.jupyter.widget-view+json": {
       "model_id": "c145dfa23be4483a9739984f66245dd2",
       "version_major": 2,
       "version_minor": 0
      },
      "text/plain": [
       "HBox(children=(HTML(value=''), FloatProgress(value=1.0, bar_style='info', layout=Layout(width='20px'), max=1.0…"
      ]
     },
     "metadata": {},
     "output_type": "display_data"
    },
    {
     "name": "stdout",
     "output_type": "stream",
     "text": [
      "avg_loss: 41.44936494621847\n",
      "avg_loss: 41.34247249289598\n",
      "\n",
      "Starting logistic regression\n",
      "Fitting 10 folds for each of 30 candidates, totalling 300 fits\n"
     ]
    },
    {
     "name": "stderr",
     "output_type": "stream",
     "text": [
      "[Parallel(n_jobs=4)]: Using backend LokyBackend with 4 concurrent workers.\n",
      "[Parallel(n_jobs=4)]: Done  42 tasks      | elapsed:    5.1s\n",
      "[Parallel(n_jobs=4)]: Done 192 tasks      | elapsed:  2.6min\n",
      "[Parallel(n_jobs=4)]: Done 300 out of 300 | elapsed: 10.1min finished\n"
     ]
    },
    {
     "name": "stdout",
     "output_type": "stream",
     "text": [
      "Train acc =  0.8487333333333332  Dev acc =   0.8494\n"
     ]
    },
    {
     "name": "stderr",
     "output_type": "stream",
     "text": [
      "/home/rmnnsk/anaconda3/lib/python3.8/site-packages/sklearn/linear_model/_logistic.py:762: ConvergenceWarning: lbfgs failed to converge (status=1):\n",
      "STOP: TOTAL NO. of ITERATIONS REACHED LIMIT.\n",
      "\n",
      "Increase the number of iterations (max_iter) or scale the data as shown in:\n",
      "    https://scikit-learn.org/stable/modules/preprocessing.html\n",
      "Please also refer to the documentation for alternative solver options:\n",
      "    https://scikit-learn.org/stable/modules/linear_model.html#logistic-regression\n",
      "  n_iter_i = _check_optimize_result(\n"
     ]
    }
   ],
   "source": [
    "accs = fit(doc2vec, transductive_inds_dataset, vocab_tf_prob, train_labels, dev_labels, num_epochs=10, doc2vec_lr=0.025)"
   ]
  },
  {
   "cell_type": "code",
   "execution_count": 51,
   "metadata": {},
   "outputs": [
    {
     "data": {
      "text/plain": [
       "[<matplotlib.lines.Line2D at 0x7fafa0290490>]"
      ]
     },
     "execution_count": 51,
     "metadata": {},
     "output_type": "execute_result"
    },
    {
     "data": {
      "image/png": "[encoded data removed]",
      "text/plain": [
       "<Figure size 1440x720 with 1 Axes>"
      ]
     },
     "metadata": {
      "needs_background": "light"
     },
     "output_type": "display_data"
    }
   ],
   "source": [
    "fig = plt.figure(figsize=(20, 10))\n",
    "ax1 = fig.add_subplot(211)\n",
    "ax1.plot(range(10), accs[0])\n",
    "ax1.plot(range(10), accs[1])"
   ]
  },
  {
   "cell_type": "markdown",
   "metadata": {},
   "source": [
    "Видно, что точность на тренировочном и валидационном датасетах растёт одинаково и упирается в 85%.<br>\n",
    "Это говорит о том, что модель не переобучается и если добавить в неё побольше данных, то можно выбить больше точности (так и оказалось)."
   ]
  },
  {
   "cell_type": "markdown",
   "metadata": {},
   "source": [
    "### 11.  Опишите, какие гиперпараметры модели и каким образом подбирались? Какая получилась итоговая точность на train/dev/test выборках? Как зависит точность от значения гиперпараметров?"
   ]
  },
  {
   "cell_type": "markdown",
   "metadata": {},
   "source": [
    "Подбирались:\n",
    "<br><br>\n",
    "**1. Размер эмбеддинга из нескольких значений: [100, 300, 500]**\n",
    "<br>\n",
    "Из опыта предыдущего семестра было взято значение 500, т.к. классификатор с GloVe векторами давал наилучшие показатели именно с 500-мерными эмбедингами. \n",
    "Ну и плюс к этому обучать остальные модели было бы так же долго, а т.к. это было почти сразу обречено на провал, то было принятно решение этого не делать.\n",
    "<br><br>\n",
    "**2. learning_rate и количество эпох для обучения модели Doc2Vec**\n",
    "<br>\n",
    "Изначально, прочитав статью, я поставил **lr = 0.25** и градиенты взрывались на середине 1 эпохи.<br>\n",
    "Уменьшил до **lr = 0.15** и градиенты стали взрываться на второй эпохе (невероятно).<br>\n",
    "\n",
    "Потом я прочитал код на гитхабе, который прилагался к статье и оказалось, что там **lr=0.025**. (спасибо за счастливые 3-4 часа отладки правильного кода)<br>\n",
    "\n",
    "Но даже после этого градиенты взрывались на 10 эпохе и было принято решение сделать уменьшение лёрнинг рейта по мере обучения.<br>\n",
    "***Пока это линейное уменьшение от 0.03 до 0 на каждом шаге градиентного спуска.***\n",
    "<br><br>\n",
    "**3. Параметры для GridSearchCV:**\n",
    "<br>\n",
    "    Тут всё подбирается так, чтобы после обучения векторов документов наша линейная регрессия сходилась и делала это не за миллион лет.<br>\n",
    "    \n",
    "   **3.1. Количество различных С.**\n",
    "    <br>\n",
    "    Тут подбираем по количеству свободного времени. Я поставил от $10^{-3}$ до $10^3$ и $30$ различных значений.<br>\n",
    "    Такая большая граница сверху, чтобы С точно никогда не было на границе. И так и происходит. Но если будет на границе, то мы их увеличиваем и запускаем GridSearch ещё раз.\n",
    "    <br><br>\n",
    "    **3.2. Количество итераций логистической регрессии.**\n",
    "    <br>\n",
    "        Тут я столкнулся с проблемой, что на 50-100 итерациях регрессия не успевает сходиться. <br>\n",
    "        Поэтому приходится увеличивать их количество. В этом ноутбуке это 200-300 итераций, т.к. тут **GridSearch** запускается после каждой эпохи. В скрипте классификатора это 1000 итераций, т.к. запускается один раз и нужно, чтобы точно сошлось\n",
    "<br><br>\n",
    "\n",
    "**4.Параметры словаря: максимальные и минимальные частоты встречаемости, максимальный размер словаря.**\n",
    "<br>\n",
    "Тут исходим из такой логики: \n",
    "1. Мы хотим, чтобы слово встречалось как минимум в двух документах, потому что иначе оно не придаст никакого смысла модели (т.к. иначе это может быть любое рандомное слово).\n",
    "2. Мы хотим, чтобы слово встречалось в корпусе минимум 2-3 раза, чтобы отфильтровать опечатки.\n",
    "3. Мы хотим, чтобы остались триграммы, ведь они дают очень много смысла, но очень редко встречаются. Поэтому нужно аккуратнее ставить границы.\n",
    "4. Мы не хотим вечность ждать обучения.\n",
    "5. У нас ограниченный(хоть и большой) объем памяти.\n",
    "<br><br>\n",
    "**Из всего этого мы получаем следующие ограничения:**\n",
    "<br>\n",
    "Для ноутбука (тут нет unlabeled текстов и маленьких текстов): $min\\_tf=1, min\\_df=1, max\\_df=0.7, max\\_tokens=10^6$\n",
    "<br>\n",
    "**Всего $10^6$ уникальных токенов.**\n",
    "<br><br>\n",
    "Для оценивающего скрипта: $min\\_tf=3, min\\_df=3, max\\_df=0.5, max\\_tokens=2 * 10^6$\n",
    "<br>\n",
    "**Всего $1.5 * 10^6$ уникальных токенов.**"
   ]
  },
  {
   "cell_type": "markdown",
   "metadata": {},
   "source": [
    "### 12. Вопрос. Какие трудности возникли при выполнения задания?"
   ]
  },
  {
   "cell_type": "markdown",
   "metadata": {},
   "source": [
    "1. Основная трудность в ожидании обучения. Это сильно затягивает исправление возможных ошибок и замедляет разработку новых фичей.\n",
    "\n",
    "2. Не очень информативная основная статья С ОПЕЧАТКАМИ. Но это компенсируется реально подробным заданием.\n",
    "\n",
    "3. Ещё хотелось бы знать хотя бы примерную желаемую скорость работы, чтобы было на что ориентироваться при написании и когда можно остановиться."
   ]
  },
  {
   "cell_type": "markdown",
   "metadata": {},
   "source": [
    "Дальше попробуем улучшить точность в **research** части."
   ]
  }
 ],
 "metadata": {
  "kernelspec": {
   "display_name": "Python 3",
   "language": "python",
   "name": "python3"
  },
  "language_info": {
   "codemirror_mode": {
    "name": "ipython",
    "version": 3
   },
   "file_extension": ".py",
   "mimetype": "text/x-python",
   "name": "python",
   "nbconvert_exporter": "python",
   "pygments_lexer": "ipython3",
   "version": "3.7.10"
  }
 },
 "nbformat": 4,
 "nbformat_minor": 4
}
