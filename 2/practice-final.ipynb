{
 "cells": [
  {
   "cell_type": "markdown",
   "metadata": {},
   "source": [
    "# 2 Практическая чаcть\n"
   ]
  },
  {
   "cell_type": "code",
   "execution_count": 78,
   "metadata": {},
   "outputs": [],
   "source": [
    "from collections import defaultdict, Counter\n",
    "import copy\n",
    "import os\n",
    "import re\n",
    "import string\n",
    "import time\n",
    "\n",
    "\n",
    "import pandas as pd\n",
    "import numpy as np\n",
    "import scipy \n",
    "import matplotlib.pyplot as plt\n",
    "\n",
    "\n",
    "from tqdm.notebook import trange, tqdm\n",
    "\n",
    "\n",
    "import torch\n",
    "from torch.autograd import Variable\n",
    "from torch.utils.data import TensorDataset, DataLoader\n",
    "\n",
    "from filimdb_evaluation.score import load_dataset_fast"
   ]
  },
  {
   "cell_type": "markdown",
   "metadata": {},
   "source": [
    "## 2.1 Загрузка датасета."
   ]
  },
  {
   "cell_type": "markdown",
   "metadata": {},
   "source": [
    "### 1. Cоставьте таблицу, в которой указано число токенов, уникальных токенов, предложений для каждой из трех частей датасета."
   ]
  },
  {
   "cell_type": "code",
   "execution_count": 4,
   "metadata": {},
   "outputs": [],
   "source": [
    "folder_name = './filimdb_evaluation/PTB/'\n",
    "filenames = ['train', 'valid', 'test']"
   ]
  },
  {
   "cell_type": "code",
   "execution_count": 5,
   "metadata": {},
   "outputs": [
    {
     "data": {
      "text/html": [
       "<div>\n",
       "<style scoped>\n",
       "    .dataframe tbody tr th:only-of-type {\n",
       "        vertical-align: middle;\n",
       "    }\n",
       "\n",
       "    .dataframe tbody tr th {\n",
       "        vertical-align: top;\n",
       "    }\n",
       "\n",
       "    .dataframe thead th {\n",
       "        text-align: right;\n",
       "    }\n",
       "</style>\n",
       "<table border=\"1\" class=\"dataframe\">\n",
       "  <thead>\n",
       "    <tr style=\"text-align: right;\">\n",
       "      <th></th>\n",
       "      <th>file</th>\n",
       "      <th>token_cnt</th>\n",
       "      <th>unique_tokens</th>\n",
       "      <th>sentences_cnt</th>\n",
       "    </tr>\n",
       "  </thead>\n",
       "  <tbody>\n",
       "    <tr>\n",
       "      <th>0</th>\n",
       "      <td>train</td>\n",
       "      <td>887521</td>\n",
       "      <td>9999</td>\n",
       "      <td>42068</td>\n",
       "    </tr>\n",
       "    <tr>\n",
       "      <th>1</th>\n",
       "      <td>valid</td>\n",
       "      <td>70390</td>\n",
       "      <td>6021</td>\n",
       "      <td>3370</td>\n",
       "    </tr>\n",
       "    <tr>\n",
       "      <th>2</th>\n",
       "      <td>test</td>\n",
       "      <td>78669</td>\n",
       "      <td>6048</td>\n",
       "      <td>3761</td>\n",
       "    </tr>\n",
       "    <tr>\n",
       "      <th>3</th>\n",
       "      <td>all files</td>\n",
       "      <td>1036580</td>\n",
       "      <td>9999</td>\n",
       "      <td>49199</td>\n",
       "    </tr>\n",
       "  </tbody>\n",
       "</table>\n",
       "</div>"
      ],
      "text/plain": [
       "        file  token_cnt  unique_tokens  sentences_cnt\n",
       "0      train     887521           9999          42068\n",
       "1      valid      70390           6021           3370\n",
       "2       test      78669           6048           3761\n",
       "3  all files    1036580           9999          49199"
      ]
     },
     "execution_count": 5,
     "metadata": {},
     "output_type": "execute_result"
    }
   ],
   "source": [
    "def get_file_info(filename):\n",
    "    global folder_name \n",
    "    tokens_cnt = defaultdict(int)\n",
    "    cnt_lines = 0\n",
    "    with open(folder_name + f\"ptb.{filename}.txt\", 'r') as inp:\n",
    "        for line in inp:\n",
    "            cnt_lines += 1\n",
    "            for token in line.strip().split():\n",
    "                tokens_cnt[token] += 1\n",
    "    total_tokens = sum(tokens_cnt.values())\n",
    "    unique_tokens = len(tokens_cnt.keys())\n",
    "    return filename, total_tokens, unique_tokens, cnt_lines, tokens_cnt\n",
    "\n",
    "data = {\n",
    "    'file':[],\n",
    "    'token_cnt':[],\n",
    "    'unique_tokens':[],\n",
    "    'sentences_cnt': []\n",
    "}\n",
    "\n",
    "file_dicts = []\n",
    "\n",
    "for f in filenames:\n",
    "    f_data = get_file_info(f)\n",
    "    data['file'].append(f_data[0])\n",
    "    data['token_cnt'].append(f_data[1])\n",
    "    data['unique_tokens'].append(f_data[2])\n",
    "    data['sentences_cnt'].append(f_data[3])\n",
    "    file_dicts.append(f_data[4])\n",
    "    \n",
    "all_tokens = defaultdict(int)\n",
    "for d in file_dicts:\n",
    "    for k, v in d.items():\n",
    "        all_tokens[k] += v\n",
    "\n",
    "data['file'].append('all files')\n",
    "data['token_cnt'].append(sum(data['token_cnt']))\n",
    "data['unique_tokens'].append(len(all_tokens.keys()))\n",
    "data['sentences_cnt'].append(sum(data['sentences_cnt']))\n",
    "    \n",
    "df = pd.DataFrame(data=data)\n",
    "df"
   ]
  },
  {
   "cell_type": "markdown",
   "metadata": {},
   "source": [
    "### 2. Приведите 10 самых частотных и 10 самых редких токенов с их частотами.\n",
    "(тут видимо для всех файлов)"
   ]
  },
  {
   "cell_type": "code",
   "execution_count": 6,
   "metadata": {},
   "outputs": [],
   "source": [
    "tokens_cnt = defaultdict(int)\n",
    "for f in filenames:\n",
    "     with open(folder_name + f\"ptb.{f}.txt\", 'r') as inp:\n",
    "        for line in inp:\n",
    "            for token in line.strip().split():\n",
    "                tokens_cnt[token] += 1\n",
    "cnt_list = list(tokens_cnt.items())\n",
    "cnt_list.sort(key=lambda x: x[1])\n",
    "most_frequent_data = {'word':[], 'cnt':[]}\n",
    "for w, c in cnt_list[-10:][::-1]:\n",
    "    most_frequent_data['word'].append(w)\n",
    "    most_frequent_data['cnt'].append(c)\n",
    "least_frequent_data = {'word':[], 'cnt':[]}\n",
    "for w, c in cnt_list[:10]:\n",
    "    least_frequent_data['word'].append(w)\n",
    "    least_frequent_data['cnt'].append(c)"
   ]
  },
  {
   "cell_type": "code",
   "execution_count": 7,
   "metadata": {},
   "outputs": [
    {
     "data": {
      "text/html": [
       "<div>\n",
       "<style scoped>\n",
       "    .dataframe tbody tr th:only-of-type {\n",
       "        vertical-align: middle;\n",
       "    }\n",
       "\n",
       "    .dataframe tbody tr th {\n",
       "        vertical-align: top;\n",
       "    }\n",
       "\n",
       "    .dataframe thead th {\n",
       "        text-align: right;\n",
       "    }\n",
       "</style>\n",
       "<table border=\"1\" class=\"dataframe\">\n",
       "  <thead>\n",
       "    <tr style=\"text-align: right;\">\n",
       "      <th></th>\n",
       "      <th>word</th>\n",
       "      <th>cnt</th>\n",
       "    </tr>\n",
       "  </thead>\n",
       "  <tbody>\n",
       "    <tr>\n",
       "      <th>0</th>\n",
       "      <td>the</td>\n",
       "      <td>59421</td>\n",
       "    </tr>\n",
       "    <tr>\n",
       "      <th>1</th>\n",
       "      <td>&lt;unk&gt;</td>\n",
       "      <td>53299</td>\n",
       "    </tr>\n",
       "    <tr>\n",
       "      <th>2</th>\n",
       "      <td>N</td>\n",
       "      <td>37607</td>\n",
       "    </tr>\n",
       "    <tr>\n",
       "      <th>3</th>\n",
       "      <td>of</td>\n",
       "      <td>28427</td>\n",
       "    </tr>\n",
       "    <tr>\n",
       "      <th>4</th>\n",
       "      <td>to</td>\n",
       "      <td>27430</td>\n",
       "    </tr>\n",
       "    <tr>\n",
       "      <th>5</th>\n",
       "      <td>a</td>\n",
       "      <td>24755</td>\n",
       "    </tr>\n",
       "    <tr>\n",
       "      <th>6</th>\n",
       "      <td>in</td>\n",
       "      <td>21032</td>\n",
       "    </tr>\n",
       "    <tr>\n",
       "      <th>7</th>\n",
       "      <td>and</td>\n",
       "      <td>20404</td>\n",
       "    </tr>\n",
       "    <tr>\n",
       "      <th>8</th>\n",
       "      <td>'s</td>\n",
       "      <td>11555</td>\n",
       "    </tr>\n",
       "    <tr>\n",
       "      <th>9</th>\n",
       "      <td>for</td>\n",
       "      <td>10436</td>\n",
       "    </tr>\n",
       "  </tbody>\n",
       "</table>\n",
       "</div>"
      ],
      "text/plain": [
       "    word    cnt\n",
       "0    the  59421\n",
       "1  <unk>  53299\n",
       "2      N  37607\n",
       "3     of  28427\n",
       "4     to  27430\n",
       "5      a  24755\n",
       "6     in  21032\n",
       "7    and  20404\n",
       "8     's  11555\n",
       "9    for  10436"
      ]
     },
     "execution_count": 7,
     "metadata": {},
     "output_type": "execute_result"
    }
   ],
   "source": [
    "pd.DataFrame(data=most_frequent_data)"
   ]
  },
  {
   "cell_type": "code",
   "execution_count": 8,
   "metadata": {},
   "outputs": [
    {
     "data": {
      "text/html": [
       "<div>\n",
       "<style scoped>\n",
       "    .dataframe tbody tr th:only-of-type {\n",
       "        vertical-align: middle;\n",
       "    }\n",
       "\n",
       "    .dataframe tbody tr th {\n",
       "        vertical-align: top;\n",
       "    }\n",
       "\n",
       "    .dataframe thead th {\n",
       "        text-align: right;\n",
       "    }\n",
       "</style>\n",
       "<table border=\"1\" class=\"dataframe\">\n",
       "  <thead>\n",
       "    <tr style=\"text-align: right;\">\n",
       "      <th></th>\n",
       "      <th>word</th>\n",
       "      <th>cnt</th>\n",
       "    </tr>\n",
       "  </thead>\n",
       "  <tbody>\n",
       "    <tr>\n",
       "      <th>0</th>\n",
       "      <td>buffet</td>\n",
       "      <td>5</td>\n",
       "    </tr>\n",
       "    <tr>\n",
       "      <th>1</th>\n",
       "      <td>lancaster</td>\n",
       "      <td>5</td>\n",
       "    </tr>\n",
       "    <tr>\n",
       "      <th>2</th>\n",
       "      <td>barnett</td>\n",
       "      <td>5</td>\n",
       "    </tr>\n",
       "    <tr>\n",
       "      <th>3</th>\n",
       "      <td>rewrite</td>\n",
       "      <td>5</td>\n",
       "    </tr>\n",
       "    <tr>\n",
       "      <th>4</th>\n",
       "      <td>downgrading</td>\n",
       "      <td>5</td>\n",
       "    </tr>\n",
       "    <tr>\n",
       "      <th>5</th>\n",
       "      <td>backgrounds</td>\n",
       "      <td>5</td>\n",
       "    </tr>\n",
       "    <tr>\n",
       "      <th>6</th>\n",
       "      <td>stanza</td>\n",
       "      <td>5</td>\n",
       "    </tr>\n",
       "    <tr>\n",
       "      <th>7</th>\n",
       "      <td>vessel</td>\n",
       "      <td>5</td>\n",
       "    </tr>\n",
       "    <tr>\n",
       "      <th>8</th>\n",
       "      <td>unstable</td>\n",
       "      <td>5</td>\n",
       "    </tr>\n",
       "    <tr>\n",
       "      <th>9</th>\n",
       "      <td>peat</td>\n",
       "      <td>5</td>\n",
       "    </tr>\n",
       "  </tbody>\n",
       "</table>\n",
       "</div>"
      ],
      "text/plain": [
       "          word  cnt\n",
       "0       buffet    5\n",
       "1    lancaster    5\n",
       "2      barnett    5\n",
       "3      rewrite    5\n",
       "4  downgrading    5\n",
       "5  backgrounds    5\n",
       "6       stanza    5\n",
       "7       vessel    5\n",
       "8     unstable    5\n",
       "9         peat    5"
      ]
     },
     "execution_count": 8,
     "metadata": {},
     "output_type": "execute_result"
    }
   ],
   "source": [
    "pd.DataFrame(data=least_frequent_data)"
   ]
  },
  {
   "cell_type": "markdown",
   "metadata": {},
   "source": [
    "### 3. Какие специальные токены уже есть в выборке, что они означают?\n"
   ]
  },
  {
   "cell_type": "markdown",
   "metadata": {},
   "source": [
    "Вроде как, токены выглядят как текст в треугольных кавычках. Поищем такие фрагменты."
   ]
  },
  {
   "cell_type": "code",
   "execution_count": 9,
   "metadata": {},
   "outputs": [
    {
     "name": "stdout",
     "output_type": "stream",
     "text": [
      "{'<unk>'}\n"
     ]
    }
   ],
   "source": [
    "spec_tokens = set()\n",
    "for f in filenames:\n",
    "     with open(folder_name + f\"ptb.{f}.txt\", 'r') as inp:\n",
    "        for line in inp:\n",
    "            cur_spec = set(re.findall(r'<[a-z]*>', line))\n",
    "            spec_tokens = spec_tokens.union(cur_spec)\n",
    "print(spec_tokens)"
   ]
  },
  {
   "cell_type": "markdown",
   "metadata": {},
   "source": [
    "Этим токеном заменяются слова, невошедшие в 10000 самых популярных в корпусе."
   ]
  },
  {
   "cell_type": "markdown",
   "metadata": {},
   "source": [
    "Также есть специальные токены вида:\n",
    "<br>\n",
    "1. N - все отдельно стоящие числа заменяются на этот токен.\n",
    "2. \\$ - на этот токен заменяются все знаки валют."
   ]
  },
  {
   "cell_type": "markdown",
   "metadata": {},
   "source": [
    "## 2.2 Генерацей батчей."
   ]
  },
  {
   "cell_type": "markdown",
   "metadata": {},
   "source": [
    "Тут написана версия разбиения на батчи для для слов в обычном виде, чтобы проще было проверить правильность построения. Сильно ниже будет версия генератора для уже приведенных к индексам слов в предложении."
   ]
  },
  {
   "cell_type": "code",
   "execution_count": 10,
   "metadata": {},
   "outputs": [],
   "source": [
    "def print_batch(ind, X_b, Y_b):\n",
    "    print(f\"Batch # {ind}\")\n",
    "    for i in range(len(X_b)):\n",
    "            print(X_b[i], ' ', Y_b[i])"
   ]
  },
  {
   "cell_type": "code",
   "execution_count": 11,
   "metadata": {
    "scrolled": true
   },
   "outputs": [
    {
     "name": "stdout",
     "output_type": "stream",
     "text": [
      "929588 929588\n",
      "Batch # 0\n",
      "['aer', 'banknote', 'berlitz']   ['banknote', 'berlitz', 'calloway']\n",
      "['guarantee', 'the', 'government']   ['the', 'government', 'can']\n",
      "Batch # 1\n",
      "['calloway', 'centrust', 'cluett']   ['centrust', 'cluett', 'fromstein']\n",
      "['can', 'ensure', 'the']   ['ensure', 'the', 'same']\n",
      "Batch # 2\n",
      "['fromstein', 'gitano', 'guterman']   ['gitano', 'guterman', 'hydro-quebec']\n",
      "['same', 'flow', 'of']   ['flow', 'of', 'resources']\n"
     ]
    }
   ],
   "source": [
    "def batch_generator_text(data_path, batch_size, num_steps, debug=False):\n",
    "    eos_token = '<eos>'\n",
    "    L_tokens = []\n",
    "    with open(data_path, 'r', encoding='utf-8') as inp:\n",
    "        for line in inp:\n",
    "            line_tokens = list(map(str.lower, line.strip().split()))\n",
    "            L_tokens.extend(line_tokens + [eos_token])\n",
    "            \n",
    "    L_shifted = L_tokens[1:]\n",
    "    L_tokens = L_tokens[:-1]\n",
    "    print(len(L_tokens), len(L_shifted))\n",
    "    slice_len = len(L_tokens) // batch_size\n",
    "    X_lists = [L_tokens[i * slice_len : (i + 1) * slice_len] for i in range(batch_size)]\n",
    "    Y_lists = [L_shifted[i * slice_len : (i + 1) * slice_len] for i in range(batch_size)]\n",
    "\n",
    "    total_batchs = slice_len // num_steps\n",
    "    for i in range(total_batchs):\n",
    "        X_batch = []\n",
    "        Y_batch = []\n",
    "        for lst in X_lists:\n",
    "            X_batch.append(lst[i * num_steps : (i + 1) * num_steps])\n",
    "        for lst in Y_lists:\n",
    "            Y_batch.append(lst[i * num_steps : (i + 1) * num_steps])\n",
    "        if debug and i < 3:\n",
    "            print_batch(i, X_batch, Y_batch)\n",
    "#         yield torch.tensor(X_batch, requires_grad=False), torch.tensor(Y_batch, requires_grad=False)\n",
    "\n",
    "res = batch_generator_text(folder_name + \"ptb.train.txt\", batch_size = 2, num_steps = 3, debug=True)"
   ]
  },
  {
   "cell_type": "markdown",
   "metadata": {},
   "source": [
    "На файле из первых трех строчек **train** датасета функция создаёт батчи похожие на правду."
   ]
  },
  {
   "cell_type": "markdown",
   "metadata": {},
   "source": [
    "## 2.3 Реализация LSTM LM."
   ]
  },
  {
   "cell_type": "markdown",
   "metadata": {},
   "source": [
    "### 2.3.1 Класс LSTMCell\n",
    "Для реализации LSTM ячейки будем отталкиваться от реализации обычной RNN ячейки из семинара."
   ]
  },
  {
   "cell_type": "code",
   "execution_count": 12,
   "metadata": {},
   "outputs": [],
   "source": [
    "class LSTMCell(torch.nn.Module):\n",
    "    def __init__(self, input_size, hidden_size):\n",
    "        '''\n",
    "        Args:\n",
    "            input_size: Size of token embedding\n",
    "            hidden_size: Size of hidden state of LSTM cell\n",
    "        '''\n",
    "        super(LSTMCell, self).__init__()\n",
    "        self.input_size = input_size\n",
    "        self.hidden_size = hidden_size\n",
    "\n",
    "        # Creating matrices whose weights will be trained\n",
    "        # Token embedding (input of this cell) will be multiplied by this matrix\n",
    "        self.U_input = torch.nn.Parameter(torch.Tensor(input_size, 4 * hidden_size))\n",
    "        self.BU_input = torch.nn.Parameter(torch.Tensor(4 * hidden_size))\n",
    "\n",
    "        # Creating matrices whose weights will be trained\n",
    "        # Hidden state from previous step will be multipied by this matrix\n",
    "        # Zero hidden state at the initial step\n",
    "        self.W_hidden = torch.nn.Parameter(torch.Tensor(hidden_size, 4 * hidden_size))\n",
    "        self.BW_hidden = torch.nn.Parameter(torch.Tensor(4 * hidden_size))\n",
    "\n",
    "        # Weights initialization\n",
    "        self.reset_parameters()\n",
    "\n",
    "    def forward(self, inp: torch.Tensor, cell_state: torch.Tensor, hidden_state: torch.Tensor) -> (torch.Tensor, torch.Tensor):\n",
    "        '''\n",
    "        Performes forward pass of the recurrent cell\n",
    "        Args:\n",
    "            inp: Output from Embedding layer at the current timestep\n",
    "                Tensor shape is (batch_size, emb_size)\n",
    "            cell_state: Output cell_state from previous recurrent step or zero state\n",
    "                Tensor shape is (batch_size, hidden_size)\n",
    "            hidden_state: Output hidden_state from previous recurrent step or zero state\n",
    "                Tensor shape is (batch_size, hidden_size)\n",
    "        Returns:\n",
    "            Output from LSTM cell\n",
    "        '''\n",
    "        hidden_mult = hidden_state @ self.W_hidden + self.BW_hidden\n",
    "        input_mult  = inp @ self.U_input + self.BU_input \n",
    "        matr_sum = input_mult + hidden_mult\n",
    "        \n",
    "        f, i, c_new, o, = matr_sum.chunk(chunks=4, dim=1)\n",
    "        f = torch.sigmoid(f)\n",
    "        i = torch.sigmoid(i)\n",
    "        c_new = torch.tanh(c_new)\n",
    "        o = torch.sigmoid(o)\n",
    "        \n",
    "        cell_state_new = cell_state * f + i * c_new\n",
    "        hidden_state_new = o * torch.tanh(cell_state_new)\n",
    "        \n",
    "        return cell_state_new, hidden_state_new\n",
    "        \n",
    "    def reset_parameters(self):\n",
    "        '''\n",
    "        Weights initialization\n",
    "        '''\n",
    "        stdv = 1.0 / np.sqrt(self.hidden_size)\n",
    "        for weight in self.parameters():\n",
    "            torch.nn.init.uniform_(weight, -stdv, stdv)"
   ]
  },
  {
   "cell_type": "markdown",
   "metadata": {},
   "source": [
    "8 матриц и векторов смещений заменили на 2 каждого вида.<br>\n",
    "Всё перемножили и сложили по формулам, применили функции активация к каждой из 4 частей большой матрицы. <br>\n",
    "Дальше осталось просто всё правильно поэлементно перемножить и получить новые состояния ячейки и скрытое состояние."
   ]
  },
  {
   "cell_type": "markdown",
   "metadata": {},
   "source": [
    "### 2.3.2 Класс LSTMLayer"
   ]
  },
  {
   "cell_type": "code",
   "execution_count": 13,
   "metadata": {},
   "outputs": [],
   "source": [
    "class LSTMLayer(torch.nn.Module):\n",
    "    def __init__(self, emb_size, hidden_size):\n",
    "        super(LSTMLayer, self).__init__()\n",
    "        self.input_size = emb_size\n",
    "        self.hidden_size = hidden_size\n",
    "        self.LSTMCell = LSTMCell(emb_size, hidden_size)\n",
    "        \n",
    "    def forward(self, X_batch, initial_states):\n",
    "        cell_state, hidden_state = initial_states\n",
    "        outputs = []\n",
    "        for timestamp in range(X_batch.shape[0]):\n",
    "            cell_state, hidden_state = self.LSTMCell(X_batch[timestamp], cell_state, hidden_state)\n",
    "            outputs.append(hidden_state)\n",
    "        return torch.stack(outputs), (cell_state, hidden_state)"
   ]
  },
  {
   "cell_type": "markdown",
   "metadata": {},
   "source": [
    "### 2.3.3 Класс LSTM"
   ]
  },
  {
   "cell_type": "code",
   "execution_count": 14,
   "metadata": {},
   "outputs": [],
   "source": [
    "class LSTM(torch.nn.Module):\n",
    "    def __init__(self, emb_size, hidden_size, num_layers, dropout_rate):\n",
    "        super(LSTM, self).__init__()\n",
    "        self.input_size = emb_size\n",
    "        self.hidden_size = hidden_size\n",
    "        self.num_layers = num_layers\n",
    "        self.dropout_rate = dropout_rate\n",
    "        \n",
    "        self.layers = []\n",
    "        for i in range(num_layers):\n",
    "            self.layers.append(torch.nn.Dropout(p=self.dropout_rate))\n",
    "            if i == 0:\n",
    "                self.layers.append(LSTMLayer(emb_size, hidden_size))\n",
    "            else:\n",
    "                self.layers.append(LSTMLayer(hidden_size, hidden_size))\n",
    "\n",
    "        self.layers.append(torch.nn.Dropout(p=self.dropout_rate))    \n",
    "        self.layers = torch.nn.ModuleList(self.layers)\n",
    "            \n",
    "    def forward(self, X_batch, initial_states):\n",
    "        for ind, layer in enumerate(self.layers):\n",
    "            if ind % 2 == 1:\n",
    "                X_batch, states = layer(X_batch, initial_states)\n",
    "            else:\n",
    "                X_batch = layer(X_batch)\n",
    "        return X_batch, states"
   ]
  },
  {
   "cell_type": "markdown",
   "metadata": {},
   "source": [
    "### 2.3.4 Класс PTBLM"
   ]
  },
  {
   "cell_type": "code",
   "execution_count": 15,
   "metadata": {},
   "outputs": [],
   "source": [
    "class PTBLM(torch.nn.Module):\n",
    "    def __init__(self, num_layers, emb_size, hidden_size, vocab_size, dropout_rate, weight_init=0.1, tie_emb=True, adaptive=False):\n",
    "        super(PTBLM, self).__init__()\n",
    "        self.num_layers = num_layers\n",
    "        self.input_size = emb_size\n",
    "        self.hidden_size = hidden_size\n",
    "        self.vocab_size = vocab_size\n",
    "        self.dropout_rate = dropout_rate\n",
    "        self.weight_max = weight_init\n",
    "        self.tie = tie_emb\n",
    "        self.adaptive = adaptive\n",
    "\n",
    "\n",
    "        self.embedding = torch.nn.Embedding(num_embeddings=vocab_size, embedding_dim=emb_size)\n",
    "        self.LSTM = LSTM(emb_size, hidden_size, num_layers, dropout_rate)\n",
    "        self.decoder = torch.nn.Linear(in_features=hidden_size, out_features=vocab_size)\n",
    "        self.tie_b =  torch.nn.Parameter(torch.zeros(vocab_size))\n",
    "\n",
    "        self.adaptive_sm = torch.nn.AdaptiveLogSoftmaxWithLoss(self.hidden_size, self.vocab_size, cutoffs=[500, 2000, 10000])\n",
    "        \n",
    "        self.sentiment_decoder = torch.nn.Linear(in_features=self.hidden_size, out_features=2)\n",
    "        \n",
    "        self.init_weights()\n",
    "\n",
    "        \n",
    "    def forward(self, model_input, initial_states, target=None):\n",
    "        embs = self.embedding(model_input).transpose(0, 1).contiguous()\n",
    "        \n",
    "        outputs, states = self.LSTM(embs, initial_states)\n",
    "        \n",
    "        if self.adaptive:\n",
    "            outputs = outputs.transpose(0, 1).contiguous()\n",
    "            out, loss = self.adaptive_sm(outputs.view(-1, self.hidden_size), target.view(-1))\n",
    "            return out, loss, states\n",
    "        \n",
    "        # print(outputs.shape)\n",
    "        if self.tie:\n",
    "            ns, bs = outputs.shape[0], outputs.shape[1]\n",
    "            outputs = outputs.view(-1, self.hidden_size)\n",
    "            logits = outputs.mm(self.embedding.weight.t()) + self.tie_b\n",
    "            logits = logits.view(ns, bs, self.vocab_size)\n",
    "        else:\n",
    "            logits = self.decoder(outputs)\n",
    "\n",
    "        logits = logits.transpose(0, 1).contiguous()\n",
    "\n",
    "        return logits, states\n",
    "    \n",
    "    def forward_classify(self, batch_texts, text_lenghts, initial_states):\n",
    "        \"\"\"\n",
    "            model_input: batch of indexed tests\n",
    "            text_lenghts: lenght of examples in batch\n",
    "            initial_states: states for lstm layers\n",
    "        \"\"\"\n",
    "        embs = self.embedding(batch_texts).transpose(0, 1).contiguous()\n",
    "        \n",
    "        outputs, states = self.LSTM(embs, initial_states)\n",
    "        # outputs.shape = (max_len, bs, hidden_size)\n",
    "        \n",
    "        max_len, bs = outputs.shape[0], outputs.shape[1]\n",
    "        outputs = outputs.transpose(0, 1).contiguous()\n",
    "        # outputs.shape = (bs, max_len, hidden_size)\n",
    "        \n",
    "        # Getting last non pad output vector\n",
    "        outputs = outputs[np.arange(outputs.shape[0]), text_lenghts]\n",
    "        #outputs.shape = (bs, hidden_size)\n",
    "        \n",
    "#         print(outputs.shape)\n",
    "        \n",
    "        logits = self.sentiment_decoder(outputs)\n",
    "        \n",
    "        return logits, states\n",
    "    \n",
    "    def init_weights(self):\n",
    "        self.embedding.weight.data.uniform_(-self.weight_max, self.weight_max)\n",
    "        self.decoder.weight.data.uniform_(-self.weight_max, self.weight_max)\n",
    "        torch.nn.init.uniform_(self.tie_b, -self.weight_max, self.weight_max)\n",
    "        \n",
    "    def init_hidden(self, batch_size, device):\n",
    "        return torch.zeros(batch_size, self.hidden_size).to(device), torch.zeros(batch_size, self.hidden_size).to(device)"
   ]
  },
  {
   "cell_type": "markdown",
   "metadata": {},
   "source": [
    "## 2.4 Обучение языковой модели."
   ]
  },
  {
   "cell_type": "markdown",
   "metadata": {},
   "source": [
    "Ниже функции для подготовки ptb датасета и словарей."
   ]
  },
  {
   "cell_type": "code",
   "execution_count": 16,
   "metadata": {},
   "outputs": [],
   "source": [
    "START_TOKEN =  '<start>'\n",
    "EOS_TOKEN =  '<eos>'"
   ]
  },
  {
   "cell_type": "code",
   "execution_count": 17,
   "metadata": {},
   "outputs": [
    {
     "name": "stdout",
     "output_type": "stream",
     "text": [
      "['pierre', '<unk>', 'n', 'years', 'old', 'will', 'join', 'the', 'board', 'as', 'a', 'nonexecutive', 'director', 'nov.', 'n', 'mr.', '<unk>', 'is', 'chairman', 'of', '<unk>', 'n.v.', 'the', 'dutch', 'publishing', 'group', 'rudolph', '<unk>', 'n', 'years', 'old', 'and', 'former', 'chairman', 'of', 'consolidated', 'gold', 'fields', 'plc', 'was', 'named', 'a', 'nonexecutive', 'director', 'of', 'this', 'british', 'industrial', 'conglomerate']\n"
     ]
    }
   ],
   "source": [
    "def _read_words(path):\n",
    "    with open(path, 'r') as inp:\n",
    "        names = inp.read().lower().split()\n",
    "        return names\n",
    "print(_read_words(folder_name + 'small.txt'))"
   ]
  },
  {
   "cell_type": "code",
   "execution_count": 18,
   "metadata": {},
   "outputs": [
    {
     "name": "stdout",
     "output_type": "stream",
     "text": [
      "['<start>', 'pierre', '<unk>', 'n', 'years', 'old', 'will', 'join', 'the', 'board', 'as', 'a', 'nonexecutive', 'director', 'nov.', 'n']\n",
      "['<start>', 'mr.', '<unk>', 'is', 'chairman', 'of', '<unk>', 'n.v.', 'the', 'dutch', 'publishing', 'group']\n",
      "['<start>', 'rudolph', '<unk>', 'n', 'years', 'old', 'and', 'former', 'chairman', 'of', 'consolidated', 'gold', 'fields', 'plc', 'was', 'named', 'a', 'nonexecutive', 'director', 'of', 'this', 'british', 'industrial', 'conglomerate']\n"
     ]
    }
   ],
   "source": [
    "def _read_sentences(path):\n",
    "    with open(path, 'r') as inp:\n",
    "        sentences = inp.read().lower().split('\\n')\n",
    "    sentences = [[START_TOKEN] + sent.split() for sent in sentences]\n",
    "    return sentences\n",
    "    \n",
    "sents = _read_sentences(folder_name + 'small.txt')\n",
    "for sent in sents:\n",
    "    print(sent)"
   ]
  },
  {
   "cell_type": "code",
   "execution_count": 19,
   "metadata": {},
   "outputs": [
    {
     "name": "stdout",
     "output_type": "stream",
     "text": [
      "Vocab size =  37\n",
      "[('<unk>', 0), ('n', 1), ('of', 2), ('years', 3), ('old', 4), ('the', 5), ('a', 6), ('nonexecutive', 7), ('director', 8), ('chairman', 9), ('pierre', 10), ('will', 11), ('join', 12), ('board', 13), ('as', 14), ('nov.', 15), ('mr.', 16), ('is', 17), ('n.v.', 18), ('dutch', 19), ('publishing', 20), ('group', 21), ('rudolph', 22), ('and', 23), ('former', 24), ('consolidated', 25), ('gold', 26), ('fields', 27), ('plc', 28), ('was', 29), ('named', 30), ('this', 31), ('british', 32), ('industrial', 33), ('conglomerate', 34), ('<start>', 35), ('<eos>', 36)]\n"
     ]
    }
   ],
   "source": [
    "def _build_vocab(path):\n",
    "    data = _read_words(path)\n",
    "    special_tokens = [START_TOKEN, EOS_TOKEN]\n",
    "    data += special_tokens\n",
    "    \n",
    "    counter = Counter(data)\n",
    "    sorted_words = sorted(counter.items(), key=lambda x: -x[1])\n",
    "    \n",
    "    words = [w for w, _ in sorted_words]\n",
    "    word_to_id = dict(zip(words, range(len(words))))\n",
    "    id_to_word = {v: k for k, v in word_to_id.items()}\n",
    "    \n",
    "    return word_to_id, id_to_word\n",
    "\n",
    "word_to_id, id_to_word = _build_vocab(folder_name + 'small.txt')\n",
    "print('Vocab size = ', len(word_to_id))\n",
    "print(list(word_to_id.items()))"
   ]
  },
  {
   "cell_type": "code",
   "execution_count": 20,
   "metadata": {},
   "outputs": [
    {
     "name": "stdout",
     "output_type": "stream",
     "text": [
      "[35, 10, 0, 1, 3, 4, 11, 12, 5, 13, 14, 6, 7, 8, 15, 1]\n",
      "[35, 16, 0, 17, 9, 2, 0, 18, 5, 19, 20, 21]\n",
      "[35, 22, 0, 1, 3, 4, 23, 24, 9, 2, 25, 26, 27, 28, 29, 30, 6, 7, 8, 2, 31, 32, 33, 34]\n"
     ]
    }
   ],
   "source": [
    "def _sentences_to_word_ids(word_to_id, texts = None, path=None):\n",
    "    if path is not None:\n",
    "        sentences = _read_sentences(path)\n",
    "    elif texts is not None:\n",
    "        sentences = texts\n",
    "    return [[word_to_id[word] for word in sent] for sent in sentences]\n",
    "\n",
    "word_to_id, id_to_word = _build_vocab(folder_name + 'small.txt')\n",
    "res = _sentences_to_word_ids(word_to_id, path = folder_name + 'small.txt',)\n",
    "for sent in res:\n",
    "    print(sent)"
   ]
  },
  {
   "cell_type": "code",
   "execution_count": 21,
   "metadata": {},
   "outputs": [
    {
     "name": "stdout",
     "output_type": "stream",
     "text": [
      "Vocab size =  10001\n",
      "[9999, 9969, 9970, 9971, 9972, 9973, 9974, 9975, 9976, 9977, 9978, 9979, 9980, 9981, 9982, 9983, 9984, 9985, 9986, 9987, 9988, 9989, 9990, 9991, 9992]\n",
      "[9999, 8568, 1, 2, 71, 392, 32, 2115, 0, 145, 18, 5, 8569, 274, 406, 2]\n",
      "[9999, 22, 1, 12, 140, 3, 1, 5277, 0, 3054, 1580, 95]\n",
      "[9999, 7231, 1, 2, 71, 392, 7, 336, 140, 3, 2467, 656, 2157, 948, 23, 520, 5, 8569, 274, 3, 38, 302, 436, 3660]\n",
      "[9999, 5, 940, 3, 3142, 494, 261, 4, 136, 5881, 4218, 5882, 29, 985, 5, 239, 754, 3, 1012, 2764, 210, 5, 95, 3, 426, 4059, 4, 13, 44, 54, 2, 71, 194, 1232, 219]\n"
     ]
    }
   ],
   "source": [
    "def ptb_raw_data(data_path, debug=False):\n",
    "    train_path = os.path.join(data_path, 'ptb.train.txt')\n",
    "    dev_path = os.path.join(data_path, 'ptb.valid.txt')\n",
    "    test_path = os.path.join(data_path, 'ptb.test.txt')\n",
    "    \n",
    "    word_to_id, id_to_word = _build_vocab(train_path)\n",
    "    train_data = _sentences_to_word_ids(word_to_id, path=train_path)\n",
    "    dev_data = _sentences_to_word_ids(word_to_id, path=dev_path)\n",
    "    test_data = _sentences_to_word_ids(word_to_id, path=test_path)\n",
    "    \n",
    "    return train_data, dev_data, test_data, word_to_id, id_to_word\n",
    "\n",
    "train_data, dev_data, test_data, word_to_ind, ind_to_word = ptb_raw_data(folder_name)\n",
    "print('Vocab size = ', len(word_to_ind))\n",
    "for sent in train_data[:5]:\n",
    "    print(sent)"
   ]
  },
  {
   "cell_type": "code",
   "execution_count": 22,
   "metadata": {},
   "outputs": [
    {
     "data": {
      "text/plain": [
       "(tensor([[9999, 9969, 9970],\n",
       "         [   4, 2818,  507]]),\n",
       " tensor([[9969, 9970, 9971],\n",
       "         [2818,  507,   35]]))"
      ]
     },
     "execution_count": 22,
     "metadata": {},
     "output_type": "execute_result"
    }
   ],
   "source": [
    "def batch_generator_inds(data, word_to_id, batch_size, num_steps, debug=False):\n",
    "    L_tokens = []\n",
    "    for sentence in data:\n",
    "        L_tokens.extend(sentence + [word_to_id[EOS_TOKEN]])\n",
    "    L_shifted = L_tokens[1:]\n",
    "    L_tokens = L_tokens[:-1]\n",
    "\n",
    "    slice_len = len(L_tokens) // batch_size\n",
    "    X_lists = [L_tokens[i * slice_len : (i + 1) * slice_len] for i in range(batch_size)]\n",
    "    Y_lists = [L_shifted[i * slice_len : (i + 1) * slice_len] for i in range(batch_size)]\n",
    "    # print(len(X_lists))\n",
    "\n",
    "    total_batchs = slice_len // num_steps\n",
    "    for i in range(total_batchs):\n",
    "        X_batch = []\n",
    "        Y_batch = []\n",
    "        for lst in X_lists:\n",
    "            X_batch.append(lst[i * num_steps : (i + 1) * num_steps])\n",
    "        for lst in Y_lists:\n",
    "            Y_batch.append(lst[i * num_steps : (i + 1) * num_steps])\n",
    "        if debug:\n",
    "            print_batch(i, X_batch, Y_batch)\n",
    "        else:\n",
    "            if X_batch:\n",
    "                yield torch.tensor(X_batch, requires_grad=False), torch.tensor(Y_batch, requires_grad=False)\n",
    "\n",
    "train_data, dev_data, test_data, word_to_ind, ind_to_word = ptb_raw_data(folder_name, debug=True)\n",
    "res = batch_generator_inds(train_data, word_to_ind, batch_size = 2, num_steps = 3)\n",
    "next(res)"
   ]
  },
  {
   "cell_type": "markdown",
   "metadata": {},
   "source": [
    "Теперь перейдем к функциям для обучения сети."
   ]
  },
  {
   "cell_type": "code",
   "execution_count": 23,
   "metadata": {},
   "outputs": [],
   "source": [
    "def update_lr(optimizer, lr):\n",
    "    for g in optimizer.param_groups:\n",
    "        g['lr'] = lr\n",
    "\n",
    "def run_epoch(\n",
    "    lr,\n",
    "    model,\n",
    "    data, \n",
    "    word_to_id, \n",
    "    loss_fn, \n",
    "    batch_size,\n",
    "    num_steps,\n",
    "    optimizer = None, \n",
    "    clip_value = None, \n",
    "    device = None\n",
    ") -> float:\n",
    "    '''\n",
    "    Performs one training epoch or inference epoch\n",
    "    Args:\n",
    "        lr: Learning rate for this epoch\n",
    "        model: Language model object\n",
    "        data: Data that will be passed through the language model\n",
    "        char_to_id: Mapping of each character into its index in the vocabulary\n",
    "        loss_fn: Torch loss function\n",
    "        optimizer: Torch optimizer\n",
    "        device: Input tensors should be sent to this device\n",
    "    Returns: \n",
    "        Perplexity\n",
    "    '''\n",
    "    \n",
    "    total_loss, total_examples = 0.0, 0\n",
    "    generator = batch_generator_inds(data, word_to_id=word_to_id, batch_size=batch_size, num_steps=num_steps)\n",
    "\n",
    "    initial_state = model.init_hidden(batch_size=batch_size, device=device)\n",
    "    for step, (X, Y) in enumerate(generator):\n",
    "        X = X.to(device)\n",
    "        Y = Y.to(device)\n",
    "        \n",
    "        if model.adaptive:\n",
    "            out, loss, new_state = model(X, initial_state, target=Y)\n",
    "        else:\n",
    "            logits, new_state = model(X, initial_state)\n",
    "        initial_state = (new_state[0].detach(), new_state[1].detach())\n",
    "               \n",
    "        if model.adaptive:\n",
    "            total_examples += out.shape[0]\n",
    "            total_loss += loss.item() * out.shape[0]\n",
    "        else:\n",
    "            loss = loss_fn(logits.view((-1, model.vocab_size)), Y.view(-1))\n",
    "            total_examples += loss.size(0)\n",
    "            total_loss += loss.sum().item()\n",
    "            loss = loss.mean()\n",
    "        \n",
    "        \n",
    "        # Gradients computation\n",
    "        if optimizer is not None:\n",
    "            loss.backward()\n",
    "\n",
    "#             print(\"------------------------------------------\")\n",
    "#             print(\"CHECK GRADS\")\n",
    "#             for p in list(filter(lambda p: p.grad is not None, model.parameters())):\n",
    "#                 print(p.grad.data.norm(2).item())\n",
    "#             print(\"------------------------------------------\")\n",
    "            \n",
    "            \n",
    "            # We have a new learning rate value at every step, so it needs to be updated\n",
    "            update_lr(optimizer, lr)\n",
    "\n",
    "            # Gradient clipping by predefined norm value - usually 5.0\n",
    "            if clip_value is not None:\n",
    "                torch.nn.utils.clip_grad_norm_(model.parameters(), clip_value)\n",
    "\n",
    "            # Applying gradients - one gradient descent step                    \n",
    "            optimizer.step()\n",
    "            optimizer.zero_grad()\n",
    "            \n",
    "    return np.exp(total_loss / total_examples)"
   ]
  },
  {
   "cell_type": "code",
   "execution_count": 24,
   "metadata": {},
   "outputs": [],
   "source": [
    "base_config = {\n",
    "        'batch_size': 64, 'num_steps': 35, \n",
    "        'num_layers': 2, 'emb_size': 256,\n",
    "        'hidden_size': 256, 'vocab_size': -1,\n",
    "        'dropout_rate': 0.2, 'num_epochs': 13,\n",
    "        'learning_rate': 0.01, 'lr_decay' : 0.9,\n",
    "        'epoch_decay' : 6, 'tied_embs': False,\n",
    "        'weight_init':0.1, 'grad_clipping' : None,\n",
    "        'optimizer' : 'Adam'\n",
    "}"
   ]
  },
  {
   "cell_type": "code",
   "execution_count": 25,
   "metadata": {},
   "outputs": [
    {
     "data": {
      "text/plain": [
       "10001"
      ]
     },
     "execution_count": 25,
     "metadata": {},
     "output_type": "execute_result"
    }
   ],
   "source": [
    "raw_data = ptb_raw_data(folder_name)\n",
    "train_data, dev_data, test_data, word_to_id, id_to_word = raw_data\n",
    "base_config['vocab_size'] = len(word_to_id)\n",
    "base_config['vocab_size']"
   ]
  },
  {
   "cell_type": "markdown",
   "metadata": {},
   "source": [
    "наконец-то функция для тестировочного обучения"
   ]
  },
  {
   "cell_type": "code",
   "execution_count": 26,
   "metadata": {},
   "outputs": [],
   "source": [
    "def train_on_config(cur_config, train_data, dev_data, test_data):\n",
    "    model = PTBLM(num_layers=cur_config['num_layers'], emb_size=cur_config['emb_size'],\n",
    "              hidden_size=cur_config['hidden_size'], vocab_size=cur_config['vocab_size'],\n",
    "              dropout_rate=cur_config['dropout_rate'], weight_init=cur_config['weight_init'],\n",
    "              tie_emb=cur_config['tied_embs'], \n",
    "             )\n",
    "    print(model)\n",
    "    device = torch.device(\"cuda:0\" if torch.cuda.is_available() else \"cpu\")\n",
    "    print(\"Training on device: \", device)\n",
    "    model.to(device)\n",
    "    loss_fn = torch.nn.CrossEntropyLoss(reduction='none')\n",
    "    if cur_config['optimizer'] == 'Adam':\n",
    "        optimizer = torch.optim.Adam(model.parameters(), lr=cur_config['learning_rate'])\n",
    "    elif cur_config['optimizer'] == 'SGD':\n",
    "        optimizer = torch.optim.SGD(model.parameters(), lr=cur_config['learning_rate'])\n",
    "    else:\n",
    "        optimizer = torch.optim.SGD(model.parameters(), lr=cur_config['learning_rate'], momentum=0.8)\n",
    "    plot_data = [[], []]\n",
    "    for i in trange(cur_config['num_epochs']):\n",
    "        lr_decay = cur_config['lr_decay'] ** max(i + 1 - cur_config['epoch_decay'], 0.0)\n",
    "        if cur_config['lr_decay'] > 1:\n",
    "            lr_decay = 1 / lr_decay\n",
    "        decayed_lr = cur_config['learning_rate'] * lr_decay\n",
    "\n",
    "        model.train()\n",
    "        train_perplexity = run_epoch(decayed_lr, model, train_data, \n",
    "                                     word_to_id, loss_fn,\n",
    "                                     cur_config['batch_size'], cur_config['num_steps'],\n",
    "                                     optimizer=optimizer,\n",
    "                                     clip_value=cur_config['grad_clipping'],\n",
    "                                     device=device)\n",
    "\n",
    "        model.eval()\n",
    "\n",
    "        # Disabling gradient calculation. \n",
    "        # It will reduce memory consumption for computations \n",
    "        # The result of every computation will have requires_grad=False, \n",
    "        with torch.no_grad():\n",
    "            dev_perplexity = run_epoch(decayed_lr, model, dev_data, \n",
    "                                       word_to_id, loss_fn, cur_config['batch_size'], cur_config['num_steps'],\n",
    "                                       device=device)\n",
    "\n",
    "        plot_data[0].append(train_perplexity)\n",
    "        plot_data[1].append(dev_perplexity)\n",
    "        print(f'Epoch: {i+1}. Learning rate: {decayed_lr:.3f}. '\n",
    "              f'Train Perplexity: {train_perplexity:.3f}. '\n",
    "              f'Dev Perplexity: {dev_perplexity:.3f}. ' \n",
    "             )\n",
    "\n",
    "    model.eval()\n",
    "    with torch.no_grad():\n",
    "        test_perplexity = run_epoch(\n",
    "            decayed_lr, model, test_data, \n",
    "            word_to_id, loss_fn, cur_config['batch_size'], cur_config['num_steps'],\n",
    "            device=device)\n",
    "        print(f\"Test Perplexity: {test_perplexity:.3f}\")\n",
    "    \n",
    "    return model, plot_data"
   ]
  },
  {
   "cell_type": "code",
   "execution_count": 27,
   "metadata": {},
   "outputs": [
    {
     "name": "stdout",
     "output_type": "stream",
     "text": [
      "PTBLM(\n",
      "  (embedding): Embedding(10001, 256)\n",
      "  (LSTM): LSTM(\n",
      "    (layers): ModuleList(\n",
      "      (0): Dropout(p=0.2, inplace=False)\n",
      "      (1): LSTMLayer(\n",
      "        (LSTMCell): LSTMCell()\n",
      "      )\n",
      "      (2): Dropout(p=0.2, inplace=False)\n",
      "      (3): LSTMLayer(\n",
      "        (LSTMCell): LSTMCell()\n",
      "      )\n",
      "      (4): Dropout(p=0.2, inplace=False)\n",
      "    )\n",
      "  )\n",
      "  (decoder): Linear(in_features=256, out_features=10001, bias=True)\n",
      "  (adaptive_sm): AdaptiveLogSoftmaxWithLoss(\n",
      "    (head): Linear(in_features=256, out_features=503, bias=False)\n",
      "    (tail): ModuleList(\n",
      "      (0): Sequential(\n",
      "        (0): Linear(in_features=256, out_features=64, bias=False)\n",
      "        (1): Linear(in_features=64, out_features=1500, bias=False)\n",
      "      )\n",
      "      (1): Sequential(\n",
      "        (0): Linear(in_features=256, out_features=16, bias=False)\n",
      "        (1): Linear(in_features=16, out_features=8000, bias=False)\n",
      "      )\n",
      "      (2): Sequential(\n",
      "        (0): Linear(in_features=256, out_features=4, bias=False)\n",
      "        (1): Linear(in_features=4, out_features=1, bias=False)\n",
      "      )\n",
      "    )\n",
      "  )\n",
      "  (sentiment_decoder): Linear(in_features=256, out_features=2, bias=True)\n",
      ")\n",
      "Training on device:  cuda:0\n"
     ]
    },
    {
     "data": {
      "application/vnd.jupyter.widget-view+json": {
       "model_id": "452ee79f19654e1ba17fe80c338f968a",
       "version_major": 2,
       "version_minor": 0
      },
      "text/plain": [
       "  0%|          | 0/13 [00:00<?, ?it/s]"
      ]
     },
     "metadata": {},
     "output_type": "display_data"
    },
    {
     "name": "stdout",
     "output_type": "stream",
     "text": [
      "Epoch: 1. Learning rate: 0.010. Train Perplexity: 348.177. Dev Perplexity: 200.924. \n",
      "Epoch: 2. Learning rate: 0.010. Train Perplexity: 180.191. Dev Perplexity: 153.685. \n",
      "Epoch: 3. Learning rate: 0.010. Train Perplexity: 137.892. Dev Perplexity: 138.730. \n",
      "Epoch: 4. Learning rate: 0.010. Train Perplexity: 117.969. Dev Perplexity: 135.068. \n",
      "Epoch: 5. Learning rate: 0.010. Train Perplexity: 105.617. Dev Perplexity: 129.934. \n",
      "Epoch: 6. Learning rate: 0.010. Train Perplexity: 97.422. Dev Perplexity: 127.332. \n",
      "Epoch: 7. Learning rate: 0.009. Train Perplexity: 89.902. Dev Perplexity: 125.433. \n",
      "Epoch: 8. Learning rate: 0.008. Train Perplexity: 83.761. Dev Perplexity: 126.054. \n",
      "Epoch: 9. Learning rate: 0.007. Train Perplexity: 78.708. Dev Perplexity: 122.514. \n",
      "Epoch: 10. Learning rate: 0.007. Train Perplexity: 74.587. Dev Perplexity: 124.048. \n",
      "Epoch: 11. Learning rate: 0.006. Train Perplexity: 70.950. Dev Perplexity: 124.801. \n",
      "Epoch: 12. Learning rate: 0.005. Train Perplexity: 67.971. Dev Perplexity: 126.628. \n",
      "Epoch: 13. Learning rate: 0.005. Train Perplexity: 65.380. Dev Perplexity: 128.310. \n",
      "Test Perplexity: 116.980\n"
     ]
    }
   ],
   "source": [
    "base_model, base_train_data = train_on_config(base_config, train_data, dev_data, test_data)"
   ]
  },
  {
   "cell_type": "code",
   "execution_count": 28,
   "metadata": {},
   "outputs": [
    {
     "data": {
      "image/png": "[encoded data removed]",
      "text/plain": [
       "<Figure size 720x360 with 1 Axes>"
      ]
     },
     "metadata": {
      "needs_background": "light"
     },
     "output_type": "display_data"
    }
   ],
   "source": [
    "fig = plt.figure(figsize=(10, 5))\n",
    "ax = fig.add_subplot(111)\n",
    "ax.plot(base_train_data[0], label='train')\n",
    "ax.plot(base_train_data[1], label='dev')\n",
    "ax.legend()\n",
    "plt.show()"
   ]
  },
  {
   "cell_type": "markdown",
   "metadata": {},
   "source": [
    "Сеть обученная выше наиболее похожа на самую маленькую, представленную в статье Zaremba. \n",
    "<br>\n",
    "Отметим, что среднюю сеть из статьи не получается обучать на Adam, потому что-то там происходит что-то неадекватное с градиентами и лоссом.\n",
    "<br>\n",
    "Поэтому возвращаем SGD и пробуем обучить среднюю сеть."
   ]
  },
  {
   "cell_type": "code",
   "execution_count": 46,
   "metadata": {},
   "outputs": [],
   "source": [
    "medium_config = { \n",
    "        'batch_size': 20, 'num_steps': 35, \n",
    "        'num_layers': 2, 'emb_size': 650,\n",
    "        'hidden_size': 650, 'vocab_size': 10001,\n",
    "        'dropout_rate': 0.5, 'num_epochs': 39,\n",
    "        'learning_rate': 1.0, 'lr_decay' : 0.8,\n",
    "        'epoch_decay' : 10, 'tied_embs': False,\n",
    "        'weight_init': 0.05, 'grad_clipping' : 5,\n",
    "        'optimizer' : 'SGD'\n",
    "         }"
   ]
  },
  {
   "cell_type": "code",
   "execution_count": 47,
   "metadata": {},
   "outputs": [
    {
     "name": "stdout",
     "output_type": "stream",
     "text": [
      "PTBLM(\n",
      "  (embedding): Embedding(10001, 650)\n",
      "  (LSTM): LSTM(\n",
      "    (layers): ModuleList(\n",
      "      (0): Dropout(p=0.5, inplace=False)\n",
      "      (1): LSTMLayer(\n",
      "        (LSTMCell): LSTMCell()\n",
      "      )\n",
      "      (2): Dropout(p=0.5, inplace=False)\n",
      "      (3): LSTMLayer(\n",
      "        (LSTMCell): LSTMCell()\n",
      "      )\n",
      "      (4): Dropout(p=0.5, inplace=False)\n",
      "    )\n",
      "  )\n",
      "  (decoder): Linear(in_features=650, out_features=10001, bias=True)\n",
      ")\n",
      "Training on device:  cuda:0\n"
     ]
    },
    {
     "data": {
      "application/vnd.jupyter.widget-view+json": {
       "model_id": "2869d54a79d2496498d0380da3786f3d",
       "version_major": 2,
       "version_minor": 0
      },
      "text/plain": [
       "  0%|          | 0/39 [00:00<?, ?it/s]"
      ]
     },
     "metadata": {},
     "output_type": "display_data"
    },
    {
     "name": "stdout",
     "output_type": "stream",
     "text": [
      "Epoch: 1. Learning rate: 1.000. Train Perplexity: 633.883. Dev Perplexity: 439.388. \n",
      "Epoch: 2. Learning rate: 1.000. Train Perplexity: 372.538. Dev Perplexity: 314.932. \n",
      "Epoch: 3. Learning rate: 1.000. Train Perplexity: 302.003. Dev Perplexity: 272.168. \n",
      "Epoch: 4. Learning rate: 1.000. Train Perplexity: 257.440. Dev Perplexity: 237.747. \n",
      "Epoch: 5. Learning rate: 1.000. Train Perplexity: 217.215. Dev Perplexity: 198.726. \n",
      "Epoch: 6. Learning rate: 1.000. Train Perplexity: 188.994. Dev Perplexity: 175.633. \n",
      "Epoch: 7. Learning rate: 1.000. Train Perplexity: 169.267. Dev Perplexity: 160.579. \n",
      "Epoch: 8. Learning rate: 1.000. Train Perplexity: 154.120. Dev Perplexity: 149.544. \n",
      "Epoch: 9. Learning rate: 1.000. Train Perplexity: 142.161. Dev Perplexity: 141.131. \n",
      "Epoch: 10. Learning rate: 1.000. Train Perplexity: 132.170. Dev Perplexity: 133.325. \n",
      "Epoch: 11. Learning rate: 0.800. Train Perplexity: 122.400. Dev Perplexity: 126.713. \n",
      "Epoch: 12. Learning rate: 0.640. Train Perplexity: 115.275. Dev Perplexity: 121.686. \n",
      "Epoch: 13. Learning rate: 0.512. Train Perplexity: 109.875. Dev Perplexity: 118.061. \n",
      "Epoch: 14. Learning rate: 0.410. Train Perplexity: 105.643. Dev Perplexity: 115.229. \n",
      "Epoch: 15. Learning rate: 0.328. Train Perplexity: 102.198. Dev Perplexity: 113.077. \n",
      "Epoch: 16. Learning rate: 0.262. Train Perplexity: 99.618. Dev Perplexity: 111.438. \n",
      "Epoch: 17. Learning rate: 0.210. Train Perplexity: 97.634. Dev Perplexity: 110.168. \n",
      "Epoch: 18. Learning rate: 0.168. Train Perplexity: 95.863. Dev Perplexity: 109.082. \n",
      "Epoch: 19. Learning rate: 0.134. Train Perplexity: 94.615. Dev Perplexity: 108.523. \n",
      "Epoch: 20. Learning rate: 0.107. Train Perplexity: 93.585. Dev Perplexity: 107.471. \n",
      "Epoch: 21. Learning rate: 0.086. Train Perplexity: 92.775. Dev Perplexity: 106.965. \n",
      "Epoch: 22. Learning rate: 0.069. Train Perplexity: 92.068. Dev Perplexity: 106.601. \n",
      "Epoch: 23. Learning rate: 0.055. Train Perplexity: 91.824. Dev Perplexity: 106.286. \n",
      "Epoch: 24. Learning rate: 0.044. Train Perplexity: 91.313. Dev Perplexity: 105.863. \n",
      "Epoch: 25. Learning rate: 0.035. Train Perplexity: 90.958. Dev Perplexity: 105.679. \n",
      "Epoch: 26. Learning rate: 0.028. Train Perplexity: 90.784. Dev Perplexity: 105.366. \n",
      "Epoch: 27. Learning rate: 0.023. Train Perplexity: 90.522. Dev Perplexity: 105.333. \n",
      "Epoch: 28. Learning rate: 0.018. Train Perplexity: 90.465. Dev Perplexity: 105.152. \n",
      "Epoch: 29. Learning rate: 0.014. Train Perplexity: 90.470. Dev Perplexity: 105.077. \n",
      "Epoch: 30. Learning rate: 0.012. Train Perplexity: 90.292. Dev Perplexity: 104.991. \n",
      "Epoch: 31. Learning rate: 0.009. Train Perplexity: 90.285. Dev Perplexity: 104.979. \n",
      "Epoch: 32. Learning rate: 0.007. Train Perplexity: 90.162. Dev Perplexity: 104.928. \n",
      "Epoch: 33. Learning rate: 0.006. Train Perplexity: 90.107. Dev Perplexity: 104.856. \n",
      "Epoch: 34. Learning rate: 0.005. Train Perplexity: 90.213. Dev Perplexity: 104.814. \n",
      "Epoch: 35. Learning rate: 0.004. Train Perplexity: 90.230. Dev Perplexity: 104.788. \n",
      "Epoch: 36. Learning rate: 0.003. Train Perplexity: 90.049. Dev Perplexity: 104.765. \n",
      "Epoch: 37. Learning rate: 0.002. Train Perplexity: 90.114. Dev Perplexity: 104.751. \n",
      "Epoch: 38. Learning rate: 0.002. Train Perplexity: 90.063. Dev Perplexity: 104.742. \n",
      "Epoch: 39. Learning rate: 0.002. Train Perplexity: 90.045. Dev Perplexity: 104.732. \n",
      "Test Perplexity: 101.630\n"
     ]
    }
   ],
   "source": [
    "medium_model, medium_train_data = train_on_config(medium_config)"
   ]
  },
  {
   "cell_type": "code",
   "execution_count": 48,
   "metadata": {},
   "outputs": [
    {
     "data": {
      "image/png": "[encoded data removed]",
      "text/plain": [
       "<Figure size 720x360 with 1 Axes>"
      ]
     },
     "metadata": {
      "needs_background": "light"
     },
     "output_type": "display_data"
    }
   ],
   "source": [
    "fig = plt.figure(figsize=(10, 5))\n",
    "ax = fig.add_subplot(111)\n",
    "ax.plot(medium_train_data[0], label='train')\n",
    "ax.plot(medium_train_data[1], label='dev')\n",
    "ax.legend()\n",
    "plt.show()"
   ]
  },
  {
   "cell_type": "markdown",
   "metadata": {},
   "source": [
    "Не очень понятно почему, но модель описанная в статье не показывает тех результатов, которые должна.<br>\n",
    "Я думаю, это из-за слишком сильного и резкого уменьшения **lr**, потому что сдвинув порог начального уменьшения, удалось улучшить результаты.<br>\n",
    "Можно конечно ещё поиграться с рейтом и порогом, но попробуем теперь **SGD with momentum**.<br>\n",
    "(Можно было бы попробовать другие размеры слоёв и т.д., но мне не даёт покоя то, что я не могу выбить нормальную перплексию для средней модели.)"
   ]
  },
  {
   "cell_type": "code",
   "execution_count": 54,
   "metadata": {},
   "outputs": [],
   "source": [
    "medium_momentum_config = { \n",
    "        'batch_size': 20, 'num_steps': 35, \n",
    "        'num_layers': 2, 'emb_size': 650,\n",
    "        'hidden_size': 650, 'vocab_size': 10001,\n",
    "        'dropout_rate': 0.5, 'num_epochs': 39,\n",
    "        'learning_rate': 1.0, 'lr_decay' : 0.9,\n",
    "        'epoch_decay' : 10, 'tied_embs': False,\n",
    "        'weight_init': 0.05, 'grad_clipping' : 5,\n",
    "        'optimizer' : 'Momentum'\n",
    "         }"
   ]
  },
  {
   "cell_type": "code",
   "execution_count": 55,
   "metadata": {},
   "outputs": [
    {
     "name": "stdout",
     "output_type": "stream",
     "text": [
      "PTBLM(\n",
      "  (embedding): Embedding(10001, 650)\n",
      "  (LSTM): LSTM(\n",
      "    (layers): ModuleList(\n",
      "      (0): Dropout(p=0.5, inplace=False)\n",
      "      (1): LSTMLayer(\n",
      "        (LSTMCell): LSTMCell()\n",
      "      )\n",
      "      (2): Dropout(p=0.5, inplace=False)\n",
      "      (3): LSTMLayer(\n",
      "        (LSTMCell): LSTMCell()\n",
      "      )\n",
      "      (4): Dropout(p=0.5, inplace=False)\n",
      "    )\n",
      "  )\n",
      "  (decoder): Linear(in_features=650, out_features=10001, bias=True)\n",
      ")\n",
      "Training on device:  cuda:0\n"
     ]
    },
    {
     "data": {
      "application/vnd.jupyter.widget-view+json": {
       "model_id": "4d7ce59cba044adab6a4cadbe90c88c8",
       "version_major": 2,
       "version_minor": 0
      },
      "text/plain": [
       "  0%|          | 0/39 [00:00<?, ?it/s]"
      ]
     },
     "metadata": {},
     "output_type": "display_data"
    },
    {
     "name": "stdout",
     "output_type": "stream",
     "text": [
      "Epoch: 1. Learning rate: 1.000. Train Perplexity: 367.003. Dev Perplexity: 223.769. \n",
      "Epoch: 2. Learning rate: 1.000. Train Perplexity: 197.540. Dev Perplexity: 163.970. \n",
      "Epoch: 3. Learning rate: 1.000. Train Perplexity: 154.021. Dev Perplexity: 137.690. \n",
      "Epoch: 4. Learning rate: 1.000. Train Perplexity: 130.067. Dev Perplexity: 121.907. \n",
      "Epoch: 5. Learning rate: 1.000. Train Perplexity: 114.202. Dev Perplexity: 110.973. \n",
      "Epoch: 6. Learning rate: 1.000. Train Perplexity: 102.295. Dev Perplexity: 103.803. \n",
      "Epoch: 7. Learning rate: 1.000. Train Perplexity: 93.508. Dev Perplexity: 98.044. \n",
      "Epoch: 8. Learning rate: 1.000. Train Perplexity: 86.204. Dev Perplexity: 94.622. \n",
      "Epoch: 9. Learning rate: 1.000. Train Perplexity: 80.383. Dev Perplexity: 91.859. \n",
      "Epoch: 10. Learning rate: 1.000. Train Perplexity: 75.276. Dev Perplexity: 89.566. \n",
      "Epoch: 11. Learning rate: 0.900. Train Perplexity: 69.964. Dev Perplexity: 87.278. \n",
      "Epoch: 12. Learning rate: 0.810. Train Perplexity: 65.419. Dev Perplexity: 85.503. \n",
      "Epoch: 13. Learning rate: 0.729. Train Perplexity: 61.632. Dev Perplexity: 83.899. \n",
      "Epoch: 14. Learning rate: 0.656. Train Perplexity: 58.359. Dev Perplexity: 83.604. \n",
      "Epoch: 15. Learning rate: 0.590. Train Perplexity: 55.586. Dev Perplexity: 82.462. \n",
      "Epoch: 16. Learning rate: 0.531. Train Perplexity: 53.023. Dev Perplexity: 81.735. \n",
      "Epoch: 17. Learning rate: 0.478. Train Perplexity: 50.855. Dev Perplexity: 81.508. \n",
      "Epoch: 18. Learning rate: 0.430. Train Perplexity: 49.059. Dev Perplexity: 80.952. \n",
      "Epoch: 19. Learning rate: 0.387. Train Perplexity: 47.325. Dev Perplexity: 81.158. \n",
      "Epoch: 20. Learning rate: 0.349. Train Perplexity: 45.859. Dev Perplexity: 80.947. \n",
      "Epoch: 21. Learning rate: 0.314. Train Perplexity: 44.498. Dev Perplexity: 80.893. \n",
      "Epoch: 22. Learning rate: 0.282. Train Perplexity: 43.353. Dev Perplexity: 80.685. \n",
      "Epoch: 23. Learning rate: 0.254. Train Perplexity: 42.322. Dev Perplexity: 80.579. \n",
      "Epoch: 24. Learning rate: 0.229. Train Perplexity: 41.382. Dev Perplexity: 80.534. \n",
      "Epoch: 25. Learning rate: 0.206. Train Perplexity: 40.556. Dev Perplexity: 80.690. \n",
      "Epoch: 26. Learning rate: 0.185. Train Perplexity: 39.776. Dev Perplexity: 80.567. \n",
      "Epoch: 27. Learning rate: 0.167. Train Perplexity: 39.082. Dev Perplexity: 80.787. \n",
      "Epoch: 28. Learning rate: 0.150. Train Perplexity: 38.580. Dev Perplexity: 80.820. \n",
      "Epoch: 29. Learning rate: 0.135. Train Perplexity: 37.997. Dev Perplexity: 80.766. \n",
      "Epoch: 30. Learning rate: 0.122. Train Perplexity: 37.516. Dev Perplexity: 80.734. \n",
      "Epoch: 31. Learning rate: 0.109. Train Perplexity: 37.100. Dev Perplexity: 80.655. \n",
      "Epoch: 32. Learning rate: 0.098. Train Perplexity: 36.713. Dev Perplexity: 80.680. \n",
      "Epoch: 33. Learning rate: 0.089. Train Perplexity: 36.376. Dev Perplexity: 80.634. \n",
      "Epoch: 34. Learning rate: 0.080. Train Perplexity: 36.013. Dev Perplexity: 80.638. \n",
      "Epoch: 35. Learning rate: 0.072. Train Perplexity: 35.808. Dev Perplexity: 80.687. \n",
      "Epoch: 36. Learning rate: 0.065. Train Perplexity: 35.499. Dev Perplexity: 80.541. \n",
      "Epoch: 37. Learning rate: 0.058. Train Perplexity: 35.307. Dev Perplexity: 80.758. \n",
      "Epoch: 38. Learning rate: 0.052. Train Perplexity: 35.107. Dev Perplexity: 80.575. \n",
      "Epoch: 39. Learning rate: 0.047. Train Perplexity: 34.896. Dev Perplexity: 80.565. \n",
      "Test Perplexity: 77.659\n"
     ]
    }
   ],
   "source": [
    "best_medium_model, mediumMom_train_data = train_on_config(medium_momentum_config)"
   ]
  },
  {
   "cell_type": "code",
   "execution_count": 56,
   "metadata": {},
   "outputs": [
    {
     "data": {
      "image/png": "[encoded data removed]",
      "text/plain": [
       "<Figure size 720x360 with 1 Axes>"
      ]
     },
     "metadata": {
      "needs_background": "light"
     },
     "output_type": "display_data"
    }
   ],
   "source": [
    "fig = plt.figure(figsize=(10, 5))\n",
    "ax = fig.add_subplot(111)\n",
    "ax.plot(mediumMom_train_data[0], label='train')\n",
    "ax.plot(mediumMom_train_data[1], label='dev')\n",
    "ax.legend()\n",
    "plt.show()"
   ]
  },
  {
   "cell_type": "markdown",
   "metadata": {},
   "source": [
    "Ну и как видно, всё это было не зря. Удалось выбить достойные цифры для средней модели.<br>\n",
    "Т.к. время поджимает, пока было принято решение оставить попытки выбивать лучшие результаты и пробовать большие модели. Но если останется время, то обязательно попробуем."
   ]
  },
  {
   "cell_type": "markdown",
   "metadata": {},
   "source": [
    "### Результаты из лидерборда:"
   ]
  },
  {
   "cell_type": "markdown",
   "metadata": {},
   "source": [
    "Средняя модель из статьи Zaremba(обучалась 1 час на tesla P4)"
   ]
  },
  {
   "cell_type": "code",
   "execution_count": 1,
   "metadata": {},
   "outputs": [],
   "source": [
    "medium_config = { 'batch_size': 20, 'num_steps': 35, \n",
    "           'num_layers': 2, 'emb_size': 650,\n",
    "           'hidden_size': 650, 'vocab_size': -1,\n",
    "           'dropout_rate': 0.5, 'num_epochs': 25,\n",
    "           'learning_rate': 1.0, 'lr_decay' : 0.9,\n",
    "           'epoch_decay' : 10, 'weight_init': 0.05, \n",
    "           'grad_clipping':5,\n",
    "           'optimizer':'Momentum'\n",
    "         }"
   ]
  },
  {
   "cell_type": "markdown",
   "metadata": {},
   "source": [
    "    train 42.00\n",
    "\tvalid 94.91\n",
    "\ttest 91.41"
   ]
  },
  {
   "cell_type": "markdown",
   "metadata": {},
   "source": [
    "Большая модель из статьи Zaremba, но с меньшим количеством эпох(обучалась 4 часа на tesla P4)"
   ]
  },
  {
   "cell_type": "code",
   "execution_count": null,
   "metadata": {},
   "outputs": [],
   "source": [
    "big_config = { 'batch_size': 20, 'num_steps': 35, \n",
    "           'num_layers': 2, 'emb_size': 1500,\n",
    "           'hidden_size': 1500, 'vocab_size': -1,\n",
    "           'dropout_rate': 0.65, 'num_epochs': 40,\n",
    "           'learning_rate': 1.0, 'lr_decay' : 1.15,\n",
    "           'epoch_decay' : 14, 'weight_init': 0.04, \n",
    "           'grad_clipping': 10,\n",
    "           'optimizer':'Momentum'\n",
    "         }"
   ]
  },
  {
   "cell_type": "markdown",
   "metadata": {},
   "source": [
    "\ttrain 43.26\n",
    "\tvalid 92.252\n",
    "\ttest 88.636"
   ]
  },
  {
   "cell_type": "markdown",
   "metadata": {},
   "source": [
    "Добавив обычный Momentum SGD(не Nesterov) можно неплохо улучшить результат средней модели и скорее всего большой модели."
   ]
  },
  {
   "cell_type": "markdown",
   "metadata": {},
   "source": [
    "## 2.5 Генерация предложений"
   ]
  },
  {
   "cell_type": "code",
   "execution_count": 29,
   "metadata": {},
   "outputs": [],
   "source": [
    "def sentence_sampling(model, word_to_id, id_to_word, cnt = 1, temperature = 1.0, max_len = 20):\n",
    "    \n",
    "    device = torch.device(\"cuda:0\" if torch.cuda.is_available() else \"cpu\")\n",
    "    \n",
    "    sentences = []\n",
    "    for _ in range(cnt):\n",
    "#         print(f\"generating sentence #{_}\")\n",
    "        sent = []\n",
    "        prev_word_idx = word_to_id[START_TOKEN]\n",
    "        model.eval()\n",
    "        with torch.no_grad():\n",
    "            hidden_states = model.init_hidden(batch_size=1, device=device)\n",
    "            for i in range(max_len):\n",
    "                X = torch.tensor([[prev_word_idx]], dtype=torch.int64, device=device)\n",
    "                logits, new_states = model(X, hidden_states)\n",
    "                hidden_states = (new_states[0].detach(), new_states[1].detach())\n",
    "                softmax = torch.nn.functional.softmax(logits, -1).cpu().numpy()[0, 0]\n",
    "                if temperature != 1.0:\n",
    "                    softmax = np.float_power(softmax, 1.0 / temperature)\n",
    "                    softmax /= softmax.sum()\n",
    "                prev_word_idx = np.random.choice(list(range(len(softmax))), p=softmax)\n",
    "                sent.append(id_to_word[int(prev_word_idx)])\n",
    "\n",
    "        sentences.append(' '.join(sent).split(EOS_TOKEN)[0])\n",
    "    return sentences"
   ]
  },
  {
   "cell_type": "markdown",
   "metadata": {},
   "source": [
    "#### Вопрос. Приведите по 10 примеров сгенерированных предложений при разных температурах."
   ]
  },
  {
   "cell_type": "code",
   "execution_count": 30,
   "metadata": {},
   "outputs": [],
   "source": [
    "generated_sents_1 = sentence_sampling(base_model, word_to_id, id_to_word, cnt=10, temperature=1)"
   ]
  },
  {
   "cell_type": "code",
   "execution_count": 31,
   "metadata": {
    "scrolled": true
   },
   "outputs": [
    {
     "name": "stdout",
     "output_type": "stream",
     "text": [
      "chairman steven <unk> the bill for the irs directors age <unk> more <unk> owners ' antibody \n",
      "an investment banker chairman alan <unk> vice president and chief operating officer in the other trade committee oct. n to\n",
      "tariff devices in red leaders get theatrical swedish emergency service but the conference coup force decided to stay with a\n",
      "consumer installment profits were n't expected \n",
      "mr. hahn & co. said it would n't disclose it has been strong a n n increase by the results\n",
      "macmillan bates also want to cut down the statutory loan for the <unk> machines and the whitbread spirits channel it\n",
      "of the trust food industries scheduled to be considered the tax code in july \n",
      "for the summer with sales $ n million \n",
      "that a real system does he said \n",
      "possible investigation of the women <unk> indicating a record to azt throughout adjusting periods and opposition into who could violate\n"
     ]
    }
   ],
   "source": [
    "for sent in generated_sents_1:\n",
    "    print(sent)"
   ]
  },
  {
   "cell_type": "code",
   "execution_count": 32,
   "metadata": {},
   "outputs": [],
   "source": [
    "generated_sents_2 = sentence_sampling(base_model, word_to_id, id_to_word, cnt=10, temperature=0.5)"
   ]
  },
  {
   "cell_type": "code",
   "execution_count": 33,
   "metadata": {},
   "outputs": [
    {
     "name": "stdout",
     "output_type": "stream",
     "text": [
      "the <unk> <unk> of the n <unk> is the <unk> <unk> of <unk> and the <unk> <unk> of <unk> <unk>\n",
      "the buyer are n't interested in the <unk> of <unk> \n",
      "the <unk> <unk> <unk> and <unk> <unk> <unk> <unk> <unk> <unk> <unk> <unk> <unk> <unk> <unk> a <unk> <unk> <unk>\n",
      "the agreement with the bill is n't likely to <unk> the <unk> <unk> <unk> <unk> <unk> <unk> <unk> the <unk>\n",
      "the n n <unk> and the <unk> <unk> the <unk> <unk> and <unk> are <unk> \n",
      "<unk> the <unk> <unk> of <unk> \n",
      "<unk> the <unk> <unk> <unk> <unk> in n n <unk> <unk> <unk> <unk> <unk> <unk> <unk> <unk> <unk> <unk> the\n",
      "<unk> and the <unk> wine and political <unk> <unk> <unk> \n",
      "the <unk> of <unk> the <unk> family has been <unk> to <unk> the <unk> <unk> <unk> the <unk> <unk> in\n",
      "the company is <unk> a <unk> of <unk> \n"
     ]
    }
   ],
   "source": [
    "for sent in generated_sents_2:\n",
    "    print(sent)"
   ]
  },
  {
   "cell_type": "code",
   "execution_count": 34,
   "metadata": {},
   "outputs": [],
   "source": [
    "generated_sents_3 = sentence_sampling(base_model, word_to_id, id_to_word, cnt=10, temperature=10)"
   ]
  },
  {
   "cell_type": "code",
   "execution_count": 35,
   "metadata": {},
   "outputs": [
    {
     "name": "stdout",
     "output_type": "stream",
     "text": [
      "diesel anyone jersey he resource civil question purchase horrible barbara mile david action pitches emigration nationally crossland participant newsweek sang\n",
      "hudson predicts withdrawals parcel enter turf orange abortion classic dominates expensive interesting consequences inventor revolving indonesia espn mci pile described\n",
      "consistently cineplex pulled governments ball creatures overly s.c. leveraged confirmed pools master retire described contributions ventures result resolve improvement associates\n",
      "larger charts united quantum family participate wayne replacement misleading sierra eaton comsat engelken joseph electric miami shareholder toronto short-term shift\n",
      "highly neatly liberty jets state interviewed ehrlich manic capel owen debt builds matter voters bennett germans flavor tight consent years\n",
      "testimony crush category produced junk-bond disciplinary pleasure stability dependent restaurants deposits fueled external circumstances reduced sectors treasurer own port quarter\n",
      "intellectuals legally ca premier seattle mission pittston adjust positive expensive bringing <unk> taxpayers concentrate freeway proposals wine needs sends meaning\n",
      "automatically pros bounced avoiding get centered trendy reluctance corporate movie spin deeply advanced dinner appealed topple reebok artists cell alice\n",
      "names lose yankee intends hire quick well debris pure interest-rate thoughts campaigns carefully sport lawyer component cycling insiders responded defaulted\n",
      "counties sold census tried generous owed cash democrats high prime hinted massive designed better campaign misleading inch security feb. suggest\n"
     ]
    }
   ],
   "source": [
    "for sent in generated_sents_3:\n",
    "    print(sent)"
   ]
  },
  {
   "cell_type": "markdown",
   "metadata": {},
   "source": [
    "Видим, что чем больше температура, тем более рандомными являются предложения.<br>\n",
    "Это объясняется тем, что вероятности из софтмакса возводятся в степень меньше 1 и после нормировки маленькие числа становятся больше, а большИе меньше."
   ]
  },
  {
   "cell_type": "markdown",
   "metadata": {},
   "source": [
    "## 2.6 Tied input-output embeddings / Tied Softmax"
   ]
  },
  {
   "cell_type": "markdown",
   "metadata": {},
   "source": [
    "В классе PTBLM уже реализованы связанные эмбеддинги, так что давайте попробуем их включить для базовой модели и посмотрим станет ли лучше?"
   ]
  },
  {
   "cell_type": "code",
   "execution_count": 62,
   "metadata": {},
   "outputs": [],
   "source": [
    "base_tied_config = {\n",
    "        'batch_size': 64, 'num_steps': 35, \n",
    "        'num_layers': 2, 'emb_size': 256,\n",
    "        'hidden_size': 256, 'vocab_size': 10001,\n",
    "        'dropout_rate': 0.2, 'num_epochs': 13,\n",
    "        'learning_rate': 0.01, 'lr_decay' : 0.9,\n",
    "        'epoch_decay' : 6, 'tied_embs': True,\n",
    "        'weight_init':0.1, 'grad_clipping' : None,\n",
    "        'optimizer' : 'Adam'\n",
    "}"
   ]
  },
  {
   "cell_type": "code",
   "execution_count": 65,
   "metadata": {},
   "outputs": [
    {
     "name": "stdout",
     "output_type": "stream",
     "text": [
      "PTBLM(\n",
      "  (embedding): Embedding(10001, 256)\n",
      "  (LSTM): LSTM(\n",
      "    (layers): ModuleList(\n",
      "      (0): Dropout(p=0.2, inplace=False)\n",
      "      (1): LSTMLayer(\n",
      "        (LSTMCell): LSTMCell()\n",
      "      )\n",
      "      (2): Dropout(p=0.2, inplace=False)\n",
      "      (3): LSTMLayer(\n",
      "        (LSTMCell): LSTMCell()\n",
      "      )\n",
      "      (4): Dropout(p=0.2, inplace=False)\n",
      "    )\n",
      "  )\n",
      "  (decoder): Linear(in_features=256, out_features=10001, bias=True)\n",
      ")\n",
      "Training on device:  cuda:0\n"
     ]
    },
    {
     "data": {
      "application/vnd.jupyter.widget-view+json": {
       "model_id": "a6afd82b2a4e43af9f996b8aa6b8e86a",
       "version_major": 2,
       "version_minor": 0
      },
      "text/plain": [
       "  0%|          | 0/13 [00:00<?, ?it/s]"
      ]
     },
     "metadata": {},
     "output_type": "display_data"
    },
    {
     "name": "stdout",
     "output_type": "stream",
     "text": [
      "Epoch: 1. Learning rate: 0.010. Train Perplexity: 321.700. Dev Perplexity: 169.085. \n",
      "Epoch: 2. Learning rate: 0.010. Train Perplexity: 149.745. Dev Perplexity: 128.473. \n",
      "Epoch: 3. Learning rate: 0.010. Train Perplexity: 116.728. Dev Perplexity: 114.556. \n",
      "Epoch: 4. Learning rate: 0.010. Train Perplexity: 101.592. Dev Perplexity: 109.239. \n",
      "Epoch: 5. Learning rate: 0.010. Train Perplexity: 92.644. Dev Perplexity: 106.037. \n",
      "Epoch: 6. Learning rate: 0.010. Train Perplexity: 86.267. Dev Perplexity: 104.096. \n",
      "Epoch: 7. Learning rate: 0.009. Train Perplexity: 80.472. Dev Perplexity: 101.697. \n",
      "Epoch: 8. Learning rate: 0.008. Train Perplexity: 75.538. Dev Perplexity: 101.135. \n",
      "Epoch: 9. Learning rate: 0.007. Train Perplexity: 71.746. Dev Perplexity: 99.829. \n",
      "Epoch: 10. Learning rate: 0.007. Train Perplexity: 68.260. Dev Perplexity: 99.173. \n",
      "Epoch: 11. Learning rate: 0.006. Train Perplexity: 65.376. Dev Perplexity: 98.536. \n",
      "Epoch: 12. Learning rate: 0.005. Train Perplexity: 63.142. Dev Perplexity: 98.324. \n",
      "Epoch: 13. Learning rate: 0.005. Train Perplexity: 60.946. Dev Perplexity: 97.953. \n",
      "Test Perplexity: 92.069\n"
     ]
    }
   ],
   "source": [
    "base_tied_model, base_tied_train_data = train_on_config(base_tied_config)"
   ]
  },
  {
   "cell_type": "code",
   "execution_count": 69,
   "metadata": {},
   "outputs": [
    {
     "data": {
      "image/png": "[encoded data removed]",
      "text/plain": [
       "<Figure size 1440x360 with 2 Axes>"
      ]
     },
     "metadata": {
      "needs_background": "light"
     },
     "output_type": "display_data"
    }
   ],
   "source": [
    "fig = plt.figure(figsize=(20, 5))\n",
    "ax = fig.add_subplot(121)\n",
    "ax.plot(base_train_data[0], label='base')\n",
    "ax.plot(base_tied_train_data[0], label='tied')\n",
    "ax.set_title(\"Perplexity on train dataset.\")\n",
    "ax.legend()\n",
    "\n",
    "ax2 = fig.add_subplot(122)\n",
    "ax2.plot(base_train_data[1], label='base')\n",
    "ax2.plot(base_tied_train_data[1], label='tied')\n",
    "ax2.set_title(\"Perplexity on dev dataset.\")\n",
    "ax2.legend()\n",
    "\n",
    "plt.show()"
   ]
  },
  {
   "cell_type": "markdown",
   "metadata": {},
   "source": [
    "Тут можно заметить, что на тренировочных данных модели ведут себя примерно одинаково.<br>\n",
    "Но на **dev** датасете мы замечаем, что модель со связанными эмбеддингами обучается быстрее и менее склонна к переобучению.<br>\n",
    "(Базовая начинает переобучаться уже на 8 эпохе, а улучшенная не начала и на 13)"
   ]
  },
  {
   "cell_type": "markdown",
   "metadata": {},
   "source": []
  },
  {
   "cell_type": "markdown",
   "metadata": {},
   "source": [
    "## 2.8 Text classification with LSTMs"
   ]
  },
  {
   "cell_type": "markdown",
   "metadata": {},
   "source": [
    "Режим для классификации добавлен в модель в самом верху."
   ]
  },
  {
   "cell_type": "markdown",
   "metadata": {},
   "source": [
    "Теперь надо подготовить данные для обучения."
   ]
  },
  {
   "cell_type": "markdown",
   "metadata": {},
   "source": [
    "1) Загрузим данные."
   ]
  },
  {
   "cell_type": "code",
   "execution_count": 37,
   "metadata": {},
   "outputs": [
    {
     "name": "stdout",
     "output_type": "stream",
     "text": [
      "Loading train set \n",
      "neg 7480\n",
      "pos 7520\n",
      "Loading dev set \n",
      "neg 5020\n",
      "pos 4980\n",
      "Loading test set \n",
      "unlabeled 25000\n"
     ]
    }
   ],
   "source": [
    "all_data = load_dataset_fast()"
   ]
  },
  {
   "cell_type": "code",
   "execution_count": 42,
   "metadata": {},
   "outputs": [],
   "source": [
    "my_stop_words = ['i', 'me', 'my', 'myself', 'we', 'our', 'ours', 'ourselves', 'you', \"you're\", \"you've\", \"you'll\",\n",
    "                  \"you'd\", 'your', 'yours', 'yourself', 'yourselves', 'he', 'him', 'his', 'himself', 'she', \"she's\",\n",
    "                  'her', 'hers', 'herself', 'it', \"it's\", 'its', 'itself', 'they', 'them', 'their', 'theirs',\n",
    "                  'themselves', 'what', 'which', 'who', 'whom', 'this',\n",
    "                  'that', \"that'll\", 'these', 'those', 'am', 'is', 'are', 'was', 'were', 'be', 'been', 'being', 'have',\n",
    "                  'has', 'had', 'having', 'do', 'does', 'did', 'doing', 'a', 'an', 'the', 'and', 'but', 'if', 'or',\n",
    "                  'because', 'as', 'until', 'while', 'of', 'at', 'by', 'for', 'with',\n",
    "                  'about', 'against', 'between', 'into', 'through', 'during', 'before', 'after', 'above', 'below', 'to',\n",
    "                  'from', 'up', 'down', 'in', 'out', 'on', 'off', 'over', 'under', 'again', 'further', 'then', 'once',\n",
    "                  'here', 'there', 'when', 'where', 'why', 'how', 'all', 'any', 'both', 'each', 'few', 'more', 'most',\n",
    "                  'other', 'some', 'such', 'no', 'nor', 'not', 'only', 'own', 'same', 'so', 'than', 'too', 'very', 's',\n",
    "                  't', 'can', 'will', 'just', 'don', \"don't\", 'should', \"should've\", 'now', 'd', 'll', 'm', 'o', 're',\n",
    "                  've', 'y', 'ain', 'aren', \"aren't\", 'could', 'couldn', \"couldn't\", 'didn', \"didn't\", 'doesn',\n",
    "                  \"doesn't\", 'hadn', \"hadn't\", 'hasn', \"hasn't\", 'haven', \"haven't\", 'isn', \"isn't\", 'ma', 'mightn',\n",
    "                  \"mightn't\", 'mustn', \"mustn't\", 'needn', \"needn't\", 'shan', \"shan't\", 'shouldn', \"shouldn't\", 'wasn',\n",
    "                  \"wasn't\", 'weren', \"weren't\", 'won', \"won't\", 'wouldn', \"wouldn't\"]"
   ]
  },
  {
   "cell_type": "code",
   "execution_count": 43,
   "metadata": {},
   "outputs": [],
   "source": [
    "class Preprocessor:\n",
    "    def __init__(self):\n",
    "        self.allowed_words = None\n",
    "        self.w2ind = None\n",
    "        self.ind2w = None\n",
    "        self.special_tokens = ['<start>', '<eos>', '<pad>']\n",
    "\n",
    "    def preproc_one_(self, text):\n",
    "        text = text.lower()\n",
    "        remove_tags = re.compile(r'<.*?>')\n",
    "        text = re.sub(remove_tags, '', text)\n",
    "        text = text.translate(str.maketrans('', '', string.punctuation))\n",
    "        text = ''.join(sym if (sym.isalnum() or sym in (\" \", \"'\")) else f\" {sym} \" for sym in text)\n",
    "        return text\n",
    "    \n",
    "    def preproc_(self, texts):\n",
    "        return [self.preproc_one_(text) for text in texts]\n",
    "    \n",
    "    def tokenize_one_(self, text, stem=0):\n",
    "        \"\"\"\n",
    "            arg: list of texts\n",
    "            return: list of tokenized texts\n",
    "        \"\"\"\n",
    "    \n",
    "        tokenizer = re.compile(r\"-?\\d*[.,]?\\d+|[?'\\w]+|\\S\", re.MULTILINE | re.IGNORECASE)\n",
    "        tokenized_text = tokenizer.findall(text)\n",
    "        if stem == 0:\n",
    "            return [token for token in tokenized_text if token not in my_stop_words]\n",
    "        stem_text = [token[:stem] for token in tokenized_text if token not in my_stop_words]\n",
    "        return stem_text\n",
    "    \n",
    "    def tokenize_(self, texts):\n",
    "        return [self.tokenize_one_(text) for text in texts]\n",
    "    \n",
    "    def make_vocab_(self, texts):\n",
    "        data = [token for text in texts for token in text]\n",
    "        data += self.special_tokens\n",
    "\n",
    "        counter = Counter(data)\n",
    "        sorted_words = sorted(counter.items(), key=lambda x: -x[1])\n",
    "        words = [w for w, _ in sorted_words]\n",
    "        self.w2ind = dict(zip(words, range(len(words))))\n",
    "        self.ind2w = {v: k for k, v in self.w2ind.items()}\n",
    "\n",
    "    def fit_vocab(self, texts, max_df = 0.5, min_df = 5, min_tf = 5):\n",
    "        \n",
    "        tmp_texts = self.preproc_(texts)\n",
    "        tmp_texts = self.tokenize_(tmp_texts)\n",
    "        \n",
    "        self.allowed_words = set()\n",
    "        \n",
    "        df_cnt = defaultdict(int)\n",
    "        tf_cnt = defaultdict(int)\n",
    "        total_documents = len(tmp_texts)\n",
    "        for text in tmp_texts:\n",
    "            been = set()\n",
    "            for token in text:\n",
    "                if token not in been:\n",
    "                    been.add(token)\n",
    "                    df_cnt[token] += 1\n",
    "                tf_cnt[token] += 1\n",
    "\n",
    "        for word, tf in tf_cnt.items():\n",
    "            df = df_cnt[word]\n",
    "            if tf >= min_tf and df / total_documents <= max_df and df >= min_df:\n",
    "                self.allowed_words.add(word)\n",
    "            \n",
    "        transformed_texts = self.transform_texts(tmp_texts, inside=True)\n",
    "        self.make_vocab_(transformed_texts)\n",
    "        return self\n",
    "    \n",
    "    def transform_texts(self, texts, inside=False):\n",
    "        \n",
    "        \n",
    "        if self.allowed_words is None:\n",
    "            raise RuntimeError(\"Need to fit before transform\")\n",
    "            \n",
    "        if not inside:\n",
    "            texts = self.preproc_(texts)\n",
    "            texts = self.tokenize_(texts)\n",
    "        \n",
    "        new_texts = []\n",
    "        for text in texts:\n",
    "            new_text = []\n",
    "            for token in text:\n",
    "                if token in self.allowed_words:\n",
    "                    new_text.append(token)\n",
    "                else:\n",
    "                    new_text.append('<unk>')\n",
    "            new_texts.append(new_text)\n",
    "        return new_texts\n",
    "\n",
    "    def texts_to_inds(self, texts, max_len=None, mode='sent'):\n",
    "\n",
    "        \"\"\"\n",
    "            Transform list of tokenized texts to torch tensors, ready for sentiment analysis.\n",
    "            Return:\n",
    "                dataset_inds: torch.tensor with texts indices\n",
    "                text_lenghts: torch.tensor with lenght of each text, needed for more precise predicting.\n",
    "\n",
    "        \"\"\"\n",
    "\n",
    "        if self.w2ind is None:\n",
    "            raise RuntimeError(\"Need to fit vocab before transform\")\n",
    "\n",
    "\n",
    "        if mode == 'lm':\n",
    "            inds_texts = []\n",
    "            for text in texts:\n",
    "                cur_text = []\n",
    "                for token in text:\n",
    "                    cur_text.append(self.w2ind[token])\n",
    "                inds_texts.append(cur_text)\n",
    "            return inds_texts\n",
    "\n",
    "        if max_len is None:\n",
    "            max_len = max(len(text) for text in texts)\n",
    "        \n",
    "        text_lenghts = np.array([min(len(text), max_len) - 1 for text in texts])\n",
    "        dataset_inds = np.full(shape=(len(texts), max_len), fill_value=self.w2ind['<pad>'], dtype=np.int32)\n",
    "        for text_ind, text in enumerate(texts):\n",
    "            for token_ind, token in enumerate(text):\n",
    "                if token_ind >= max_len:\n",
    "                    break\n",
    "                dataset_inds[text_ind, token_ind] = self.w2ind[token]\n",
    "\n",
    "        return torch.LongTensor(dataset_inds), torch.tensor(text_lenghts) "
   ]
  },
  {
   "cell_type": "code",
   "execution_count": 44,
   "metadata": {},
   "outputs": [],
   "source": [
    "train_dataset = all_data['train']\n",
    "dev_dataset = all_data['dev']\n",
    "test_dataset = all_data['test']"
   ]
  },
  {
   "cell_type": "code",
   "execution_count": 45,
   "metadata": {},
   "outputs": [],
   "source": [
    "train_texts, train_labels = train_dataset[1], train_dataset[2]\n",
    "dev_texts, dev_labels = dev_dataset[1], dev_dataset[2]"
   ]
  },
  {
   "cell_type": "code",
   "execution_count": 46,
   "metadata": {},
   "outputs": [],
   "source": [
    "preprocessor = Preprocessor()"
   ]
  },
  {
   "cell_type": "code",
   "execution_count": 47,
   "metadata": {},
   "outputs": [
    {
     "name": "stdout",
     "output_type": "stream",
     "text": [
      "START TEXTS PREPROCESSING\n",
      "Finish preprocessing in 25.030214071273804 seconds.\n"
     ]
    }
   ],
   "source": [
    "print(\"START TEXTS PREPROCESSING\")\n",
    "start = time.time()\n",
    "preprocessor = preprocessor.fit_vocab(train_texts, min_tf=3, min_df=3)\n",
    "preprocessed_train_texts = preprocessor.transform_texts(train_texts)\n",
    "preprocessed_dev_texts = preprocessor.transform_texts(dev_texts)\n",
    "print(f\"Finish preprocessing in {time.time() - start} seconds.\")"
   ]
  },
  {
   "cell_type": "code",
   "execution_count": 48,
   "metadata": {},
   "outputs": [
    {
     "name": "stdout",
     "output_type": "stream",
     "text": [
      "31141\n"
     ]
    }
   ],
   "source": [
    "print(len(preprocessor.w2ind))"
   ]
  },
  {
   "cell_type": "code",
   "execution_count": 49,
   "metadata": {},
   "outputs": [
    {
     "data": {
      "text/plain": [
       "[('<unk>', 0),\n",
       " ('like', 1),\n",
       " ('good', 2),\n",
       " ('even', 3),\n",
       " ('would', 4),\n",
       " ('time', 5),\n",
       " ('story', 6),\n",
       " ('really', 7),\n",
       " ('see', 8),\n",
       " ('much', 9),\n",
       " ('well', 10),\n",
       " ('get', 11),\n",
       " ('also', 12),\n",
       " ('bad', 13),\n",
       " ('great', 14),\n",
       " ('people', 15),\n",
       " ('first', 16),\n",
       " ('dont', 17),\n",
       " ('made', 18),\n",
       " ('make', 19),\n",
       " ('way', 20),\n",
       " ('films', 21),\n",
       " ('movies', 22),\n",
       " ('characters', 23),\n",
       " ('think', 24),\n",
       " ('watch', 25),\n",
       " ('many', 26),\n",
       " ('two', 27),\n",
       " ('seen', 28),\n",
       " ('character', 29),\n",
       " ('never', 30),\n",
       " ('little', 31),\n",
       " ('best', 32),\n",
       " ('love', 33),\n",
       " ('plot', 34),\n",
       " ('acting', 35),\n",
       " ('life', 36),\n",
       " ('know', 37),\n",
       " ('show', 38),\n",
       " ('ever', 39),\n",
       " ('better', 40),\n",
       " ('end', 41),\n",
       " ('still', 42),\n",
       " ('man', 43),\n",
       " ('say', 44),\n",
       " ('scene', 45),\n",
       " ('scenes', 46),\n",
       " ('go', 47),\n",
       " ('something', 48),\n",
       " ('back', 49)]"
      ]
     },
     "execution_count": 49,
     "metadata": {},
     "output_type": "execute_result"
    }
   ],
   "source": [
    "list(preprocessor.w2ind.items())[:50]"
   ]
  },
  {
   "cell_type": "code",
   "execution_count": 50,
   "metadata": {},
   "outputs": [
    {
     "data": {
      "text/plain": [
       "['gave',\n",
       " '<unk>',\n",
       " '10',\n",
       " 'needed',\n",
       " 'rewarded',\n",
       " 'scary',\n",
       " 'elements',\n",
       " 'actors',\n",
       " 'god',\n",
       " '<unk>',\n",
       " 'thing',\n",
       " 'dont',\n",
       " 'want',\n",
       " 'tell',\n",
       " 'anyone',\n",
       " 'anything',\n",
       " 'acting',\n",
       " 'story',\n",
       " 'ruin',\n",
       " '<unk>',\n",
       " 'recommend',\n",
       " 'go',\n",
       " 'straight',\n",
       " 'nearest',\n",
       " '<unk>',\n",
       " 'right',\n",
       " 'rent',\n",
       " 'dont',\n",
       " 'forget',\n",
       " 'popcorn']"
      ]
     },
     "execution_count": 50,
     "metadata": {},
     "output_type": "execute_result"
    }
   ],
   "source": [
    "preprocessed_train_texts[1]"
   ]
  },
  {
   "cell_type": "markdown",
   "metadata": {},
   "source": [
    "Теперь преобразуем тексты в выровненные массивы индексов.\n",
    "<br>\n",
    "Но сначала соберём статистику о длине текстов."
   ]
  },
  {
   "cell_type": "code",
   "execution_count": 51,
   "metadata": {},
   "outputs": [],
   "source": [
    "def dataset_stat(texts):\n",
    "    lenghts = np.array(sorted([len(text) for text in texts]))\n",
    "    min_len = min(lenghts)\n",
    "    max_len = max(lenghts)\n",
    "    median = lenghts[len(lenghts) // 2]\n",
    "    mean = lenghts.mean()\n",
    "    \n",
    "    print(\"min_len = \", min_len)\n",
    "    print(\"max_len = \", max_len)\n",
    "    print(\"median = \", median)\n",
    "    print(\"mean = \", mean)\n",
    "    plt.hist(lenghts, bins=50)\n",
    "    plt.show()"
   ]
  },
  {
   "cell_type": "code",
   "execution_count": 52,
   "metadata": {},
   "outputs": [
    {
     "name": "stdout",
     "output_type": "stream",
     "text": [
      "min_len =  4\n",
      "max_len =  927\n",
      "median =  91\n",
      "mean =  122.3146\n"
     ]
    },
    {
     "data": {
      "image/png": "[encoded data removed]",
      "text/plain": [
       "<Figure size 432x288 with 1 Axes>"
      ]
     },
     "metadata": {
      "needs_background": "light"
     },
     "output_type": "display_data"
    }
   ],
   "source": [
    "dataset_stat(preprocessed_train_texts)"
   ]
  },
  {
   "cell_type": "code",
   "execution_count": 53,
   "metadata": {},
   "outputs": [
    {
     "name": "stdout",
     "output_type": "stream",
     "text": [
      "min_len =  9\n",
      "max_len =  1425\n",
      "median =  88\n",
      "mean =  119.2318\n"
     ]
    },
    {
     "data": {
      "image/png": "[encoded data removed]",
      "text/plain": [
       "<Figure size 432x288 with 1 Axes>"
      ]
     },
     "metadata": {
      "needs_background": "light"
     },
     "output_type": "display_data"
    }
   ],
   "source": [
    "dataset_stat(preprocessed_dev_texts)"
   ]
  },
  {
   "cell_type": "markdown",
   "metadata": {},
   "source": [
    "Максимальная длина отзыва очень большая и модель будет работать очень долго с такими большими текстами.\n",
    "Поэтому попробуем максимальную длину предложения в 200-300 слов, а все бОльшие обрежем до этого размера.\n",
    "Конечно это должно работать хуже, но сильно быстрее."
   ]
  },
  {
   "cell_type": "code",
   "execution_count": 54,
   "metadata": {},
   "outputs": [],
   "source": [
    "def texts_to_inds(texts, w2ind, max_len=None):\n",
    "    \n",
    "    \n",
    "    if max_len is None:\n",
    "        max_len = max(len(text) for text in texts)\n",
    "        \n",
    "    text_lenghts = np.array([min(len(text), max_len) - 1 for text in texts])\n",
    "    dataset_inds = np.full(shape=(len(texts), max_len), fill_value=w2ind['<pad>'], dtype=np.int32)\n",
    "    for text_ind, text in enumerate(texts):\n",
    "        for token_ind, token in enumerate(text):\n",
    "            if token_ind >= max_len:\n",
    "                break\n",
    "            try:\n",
    "                dataset_inds[text_ind, token_ind] = w2ind[token]\n",
    "            except KeyError as err:\n",
    "                print(f\"text #{text_ind}\")\n",
    "                print(text)\n",
    "                raise KeyError\n",
    "\n",
    "    return torch.LongTensor(dataset_inds), torch.tensor(text_lenghts)"
   ]
  },
  {
   "cell_type": "code",
   "execution_count": 55,
   "metadata": {},
   "outputs": [],
   "source": [
    "X_train, train_text_lenghts = texts_to_inds(preprocessed_train_texts, preprocessor.w2ind, max_len=200)\n",
    "X_dev, dev_text_lenghts = texts_to_inds(preprocessed_dev_texts, preprocessor.w2ind, max_len=200)"
   ]
  },
  {
   "cell_type": "code",
   "execution_count": 56,
   "metadata": {},
   "outputs": [
    {
     "data": {
      "text/plain": [
       "(torch.Size([15000, 200]), torch.Size([10000, 200]))"
      ]
     },
     "execution_count": 56,
     "metadata": {},
     "output_type": "execute_result"
    }
   ],
   "source": [
    "X_train.shape, X_dev.shape"
   ]
  },
  {
   "cell_type": "markdown",
   "metadata": {},
   "source": [
    "А сейчас запихнём тексты их длины и лейблы в даталоадер"
   ]
  },
  {
   "cell_type": "code",
   "execution_count": 57,
   "metadata": {},
   "outputs": [],
   "source": [
    "y_train = torch.tensor([int(lab == 'pos') for lab in train_labels])\n",
    "y_dev = torch.tensor([int(lab == 'pos') for lab in dev_labels])"
   ]
  },
  {
   "cell_type": "code",
   "execution_count": 58,
   "metadata": {},
   "outputs": [],
   "source": [
    "train_dataset = TensorDataset(X_train, y_train, train_text_lenghts)\n",
    "dev_dataset = TensorDataset(X_dev, y_dev, dev_text_lenghts)"
   ]
  },
  {
   "cell_type": "code",
   "execution_count": 59,
   "metadata": {},
   "outputs": [
    {
     "data": {
      "text/plain": [
       "(tensor([ 6432,  2614,  1767,  5168,     4,  1615,  1239,   456,   258,     4,\n",
       "           287,  8273,     0,    54,    13,  1943,    73,  5168,  1227,    31,\n",
       "          1348,   117, 13392,  3064,  1767,     4,   407,     0,   888,  4998,\n",
       "          5916,   624,     0,  3613,  1439,   878,   840,   692,  1856, 15149,\n",
       "            18,  3039, 15150,  3263,     0,     6,  4912,   775,  3539,  1920,\n",
       "          1703,     7,  4999,    80,  3497,   347,  2614,  1012,   975,  1177,\n",
       "             0,  1103, 15149,   147,  2793,    70,  1583,  5469, 16296, 13393,\n",
       "          9161,   209,    68,   744,   116,  2327,    53,   921,  1583,   284,\n",
       "            62,   125,  2719,   927,  1142,    24,  1767,   135,    64, 23562,\n",
       "          8027,   645,  4394,   508, 17598,    98,  1405, 12677,  1767,  4601,\n",
       "           207,     0,   113,   452,  1143,   438,  5917,  2740, 14201,  1748,\n",
       "          3153,  5362, 17599,   105,    99,  1164,  1401,  2263,   581,  5917,\n",
       "          2815,  1704,   400,  1013,  2740,  1246,  1497,  1316,  1749,  1704,\n",
       "           234,  1040,  1444,  2816,  2856,   264,   400,  1616,   494,  1402,\n",
       "         11559,  5917,   586,     1,   105,  3065,  2659,    50,  2455,  1421,\n",
       "          1577,  6699, 15151,  1616,   282,  7234,   401,  2413,  1444, 14202,\n",
       "         23563,  1616,     7,  2263,  3714,  1393,    85,  2676,  1856, 15149,\n",
       "           276, 19205,  1218,  3806,   792,   117,   374,   856,  2677,  3308,\n",
       "          1767,   242,  3090,  3039,   639,   244,   421,     0,   109,  1126,\n",
       "          1093,  3224,  2151,   182,  1617,  6307,   121, 11560,   212,   960]),\n",
       " tensor(0),\n",
       " tensor(199))"
      ]
     },
     "execution_count": 59,
     "metadata": {},
     "output_type": "execute_result"
    }
   ],
   "source": [
    "train_dataset[0]"
   ]
  },
  {
   "cell_type": "markdown",
   "metadata": {},
   "source": [
    "Теперь можно делать функции для обучения"
   ]
  },
  {
   "cell_type": "code",
   "execution_count": 60,
   "metadata": {},
   "outputs": [],
   "source": [
    "def sent_run_epoch(\n",
    "    lr,\n",
    "    model,\n",
    "    loss_fn, \n",
    "    batch_size,\n",
    "    dataloader,\n",
    "    optimizer = None, \n",
    "    clip_value = None, \n",
    "    device = None\n",
    ") -> float:\n",
    "    '''\n",
    "    Performs one training epoch or inference epoch\n",
    "    Args:\n",
    "        lr: Learning rate for this epoch\n",
    "        model: Language model object\n",
    "        dataloader: pytorch Dataloader with (text, label, len) examples\n",
    "        word_to_id: Mapping of each word into its index in the vocabulary\n",
    "        loss_fn: Torch loss function\n",
    "        optimizer: Torch optimizer\n",
    "        device: Input tensors should be sent to this device\n",
    "    Returns: \n",
    "        Accuracy\n",
    "    '''\n",
    "    total_loss, total_examples = 0.0, 0\n",
    "    total_correct = 0\n",
    "    \n",
    "    \n",
    "    \n",
    "    for step, (X_batch, Y_batch, len_batch) in enumerate(dataloader):\n",
    "\n",
    "        initial_state = model.init_hidden(batch_size=X_batch.shape[0], device=device)\n",
    "        \n",
    "        X = X_batch.to(device)\n",
    "        Y = Y_batch.to(device)\n",
    "        lenghts = len_batch.to(device)\n",
    "        \n",
    "        logits, new_state = model.forward_classify(X, lenghts, initial_state)\n",
    "                \n",
    "        loss = loss_fn(logits, Y.view(-1))\n",
    "        total_examples += loss.size(0)\n",
    "        total_loss += loss.sum().item()\n",
    "        loss = loss.mean()\n",
    "        \n",
    "        _, predicted = torch.max(logits, 1)\n",
    "        predicted = predicted.cpu()\n",
    "        total_correct += (Y_batch == predicted).sum().item()\n",
    "        \n",
    "        # Gradients computation\n",
    "        if optimizer is not None:\n",
    "            loss.backward()\n",
    "\n",
    "            # We have a new learning rate value at every step, so it needs to be updated\n",
    "            update_lr(optimizer, lr)\n",
    "\n",
    "            # Gradient clipping by predefined norm value - usually 5.0\n",
    "            if clip_value is not None:\n",
    "                torch.nn.utils.clip_grad_norm_(model.parameters(), clip_value)\n",
    "\n",
    "            # Applying gradients - one gradient descent step                    \n",
    "            optimizer.step()\n",
    "            optimizer.zero_grad()\n",
    "#         print(\"train loss: \", total_loss / total_examples)\n",
    "        \n",
    "    return total_loss/total_examples, total_correct / total_examples"
   ]
  },
  {
   "cell_type": "code",
   "execution_count": 61,
   "metadata": {},
   "outputs": [],
   "source": [
    "def train_sent_on_config(sent_config, pretrained_model=None):\n",
    "    if pretrained_model is not None:\n",
    "        model = copy.deepcopy(pretrained_model)\n",
    "    else:\n",
    "        model = PTBLM(num_layers=sent_config['num_layers'], emb_size=sent_config['emb_size'],\n",
    "              hidden_size=sent_config['hidden_size'], vocab_size=sent_config['vocab_size'],\n",
    "              dropout_rate=sent_config['dropout_rate'], weight_init=sent_config['weight_init'],\n",
    "              tie_emb=sent_config['tied_embs']\n",
    "             )\n",
    "    print(model)\n",
    "    device = torch.device(\"cuda:0\" if torch.cuda.is_available() else \"cpu\")\n",
    "    print(\"Training on device: \", device)\n",
    "    model.to(device)\n",
    "    \n",
    "    loss_fn = torch.nn.CrossEntropyLoss(reduction='none')\n",
    "    \n",
    "    if sent_config['optimizer'] == 'Adam':\n",
    "        optimizer = torch.optim.Adam(model.parameters(), lr=sent_config['learning_rate'])\n",
    "    elif sent_config['optimizer'] == 'SGD':\n",
    "        optimizer = torch.optim.SGD(model.parameters(), lr=sent_config['learning_rate'])\n",
    "    else:\n",
    "        optimizer = torch.optim.SGD(model.parameters(), lr=sent_config['learning_rate'], momentum=0.8)\n",
    "        \n",
    "    acc_plot_data = [[], []]\n",
    "    loss_plot_data = [[], []]\n",
    "    \n",
    "    for i in trange(sent_config['num_epochs']):\n",
    "        \n",
    "        train_dataloader = DataLoader(train_dataset, batch_size=sent_config['batch_size'], shuffle=True)\n",
    "        dev_dataloader = DataLoader(dev_dataset, batch_size=sent_config['batch_size'], shuffle=True)\n",
    "        \n",
    "        lr_decay = sent_config['lr_decay'] ** max(i + 1 - sent_config['epoch_decay'], 0.0)\n",
    "        if sent_config['lr_decay'] > 1:\n",
    "            lr_decay = 1 / lr_decay\n",
    "        decayed_lr = sent_config['learning_rate'] * lr_decay\n",
    "\n",
    "        \n",
    "        model.train()\n",
    "        train_loss, train_acc = sent_run_epoch(decayed_lr, model,  \n",
    "                                     loss_fn,\n",
    "                                     dataloader=train_dataloader,\n",
    "                                     batch_size=sent_config['batch_size'],\n",
    "                                     optimizer=optimizer,\n",
    "                                     clip_value=sent_config['grad_clipping'],\n",
    "                                     device=device)\n",
    "\n",
    "        model.eval()\n",
    "\n",
    "        # Disabling gradient calculation. \n",
    "        # It will reduce memory consumption for computations \n",
    "        # The result of every computation will have requires_grad=False, \n",
    "        \n",
    "        with torch.no_grad():\n",
    "            dev_loss, dev_acc = sent_run_epoch(decayed_lr, model, \n",
    "                                               loss_fn, \n",
    "                                               dataloader=dev_dataloader,\n",
    "                                               batch_size=sent_config['batch_size'],\n",
    "                                               clip_value=sent_config['grad_clipping'],\n",
    "                                               device=device)\n",
    "            \n",
    "        acc_plot_data[0].append(train_acc)\n",
    "        acc_plot_data[1].append(dev_acc)\n",
    "        loss_plot_data[0].append(train_loss)\n",
    "        loss_plot_data[1].append(dev_loss)\n",
    "        print(f'Epoch: {i+1}. Learning rate: {decayed_lr}. '\n",
    "              f'Train Acc: {train_acc:.3f}. '\n",
    "              f'Train Loss: {train_loss:.3f}. '\n",
    "              f'Dev Acc: {dev_acc:.3f}. '\n",
    "              f'Dev Loss: {dev_loss:.3f}. '\n",
    "             )\n",
    "    return acc_plot_data, loss_plot_data"
   ]
  },
  {
   "cell_type": "code",
   "execution_count": 62,
   "metadata": {},
   "outputs": [
    {
     "data": {
      "text/plain": [
       "31141"
      ]
     },
     "execution_count": 62,
     "metadata": {},
     "output_type": "execute_result"
    }
   ],
   "source": [
    "imdb_base_config = {\n",
    "        'batch_size': 256,'num_layers': 1,\n",
    "        'emb_size': 256, 'hidden_size': 256, \n",
    "        'vocab_size': len(preprocessor.w2ind),\n",
    "        'dropout_rate': 0.65, 'num_epochs': 6,\n",
    "        'learning_rate': 0.0005, 'lr_decay' : 0.8,\n",
    "        'epoch_decay' : 4, 'tied_embs': False,\n",
    "        'weight_init':0.1, 'grad_clipping' : None,\n",
    "        'optimizer' : 'Adam'\n",
    "}\n",
    "imdb_base_config['vocab_size']"
   ]
  },
  {
   "cell_type": "code",
   "execution_count": 81,
   "metadata": {
    "scrolled": true
   },
   "outputs": [
    {
     "name": "stdout",
     "output_type": "stream",
     "text": [
      "PTBLM(\n",
      "  (embedding): Embedding(31141, 256)\n",
      "  (LSTM): LSTM(\n",
      "    (layers): ModuleList(\n",
      "      (0): Dropout(p=0.65, inplace=False)\n",
      "      (1): LSTMLayer(\n",
      "        (LSTMCell): LSTMCell()\n",
      "      )\n",
      "      (2): Dropout(p=0.65, inplace=False)\n",
      "    )\n",
      "  )\n",
      "  (decoder): Linear(in_features=256, out_features=31141, bias=True)\n",
      "  (adaptive_sm): AdaptiveLogSoftmaxWithLoss(\n",
      "    (head): Linear(in_features=256, out_features=503, bias=False)\n",
      "    (tail): ModuleList(\n",
      "      (0): Sequential(\n",
      "        (0): Linear(in_features=256, out_features=64, bias=False)\n",
      "        (1): Linear(in_features=64, out_features=1500, bias=False)\n",
      "      )\n",
      "      (1): Sequential(\n",
      "        (0): Linear(in_features=256, out_features=16, bias=False)\n",
      "        (1): Linear(in_features=16, out_features=8000, bias=False)\n",
      "      )\n",
      "      (2): Sequential(\n",
      "        (0): Linear(in_features=256, out_features=4, bias=False)\n",
      "        (1): Linear(in_features=4, out_features=21141, bias=False)\n",
      "      )\n",
      "    )\n",
      "  )\n",
      "  (sentiment_decoder): Linear(in_features=256, out_features=2, bias=True)\n",
      ")\n",
      "Training on device:  cuda:0\n"
     ]
    },
    {
     "data": {
      "application/vnd.jupyter.widget-view+json": {
       "model_id": "94bf2655a61e4df6bce77b1b21c13ccf",
       "version_major": 2,
       "version_minor": 0
      },
      "text/plain": [
       "  0%|          | 0/6 [00:00<?, ?it/s]"
      ]
     },
     "metadata": {},
     "output_type": "display_data"
    },
    {
     "name": "stdout",
     "output_type": "stream",
     "text": [
      "Epoch: 1. Learning rate: 0.0005. Train Acc: 0.535. Train Loss: 0.691. Dev Acc: 0.678. Dev Loss: 0.673. \n",
      "Epoch: 2. Learning rate: 0.0005. Train Acc: 0.747. Train Loss: 0.563. Dev Acc: 0.851. Dev Loss: 0.384. \n",
      "Epoch: 3. Learning rate: 0.0005. Train Acc: 0.891. Train Loss: 0.279. Dev Acc: 0.866. Dev Loss: 0.316. \n",
      "Epoch: 4. Learning rate: 0.0005. Train Acc: 0.929. Train Loss: 0.197. Dev Acc: 0.876. Dev Loss: 0.299. \n",
      "Epoch: 5. Learning rate: 0.0004. Train Acc: 0.956. Train Loss: 0.130. Dev Acc: 0.883. Dev Loss: 0.302. \n",
      "Epoch: 6. Learning rate: 0.0003200000000000001. Train Acc: 0.968. Train Loss: 0.094. Dev Acc: 0.879. Dev Loss: 0.367. \n"
     ]
    }
   ],
   "source": [
    "base_sent_acc, base_sent_loss = train_sent_on_config(imdb_base_config)"
   ]
  },
  {
   "cell_type": "code",
   "execution_count": 145,
   "metadata": {},
   "outputs": [
    {
     "data": {
      "image/png": "[encoded data removed]",
      "text/plain": [
       "<Figure size 1440x360 with 2 Axes>"
      ]
     },
     "metadata": {
      "needs_background": "light"
     },
     "output_type": "display_data"
    }
   ],
   "source": [
    "fig = plt.figure(figsize=(20, 5))\n",
    "ax = fig.add_subplot(121)\n",
    "ax.plot(base_sent_acc[0], label='train')\n",
    "ax.plot(base_sent_acc[1], label='dev')\n",
    "ax.set_title(\"Accuracy.\")\n",
    "ax.legend()\n",
    "\n",
    "ax2 = fig.add_subplot(122)\n",
    "ax2.plot(base_sent_loss[0], label='train')\n",
    "ax2.plot(base_sent_loss[1], label='dev')\n",
    "ax2.set_title(\"Loss.\")\n",
    "ax2.legend()\n",
    "\n",
    "plt.show()"
   ]
  },
  {
   "cell_type": "markdown",
   "metadata": {},
   "source": [
    "Вот как-то так при рандомном конфиге можно увидеть, что модель быстро переобучается, но можно выбить **88% accuracy**. Этот результат будет сложно побить...\n",
    "<br>\n",
    "Но попробуем подобрать другие параметры обучения."
   ]
  },
  {
   "cell_type": "code",
   "execution_count": 147,
   "metadata": {},
   "outputs": [
    {
     "data": {
      "text/plain": [
       "31141"
      ]
     },
     "execution_count": 147,
     "metadata": {},
     "output_type": "execute_result"
    }
   ],
   "source": [
    "imdb_baseV2_config = {\n",
    "        'batch_size': 256,'num_layers': 1,\n",
    "        'emb_size': 650, 'hidden_size': 650, \n",
    "        'vocab_size': len(preprocessor.w2ind),\n",
    "        'dropout_rate': 0.65, 'num_epochs': 8,\n",
    "        'learning_rate': 0.0005, 'lr_decay' : 0.5,\n",
    "        'epoch_decay' : 4, 'tied_embs': False,\n",
    "        'weight_init':0.1, 'grad_clipping' : None,\n",
    "        'optimizer' : 'Adam'\n",
    "}\n",
    "imdb_baseV2_config['vocab_size']"
   ]
  },
  {
   "cell_type": "code",
   "execution_count": 148,
   "metadata": {},
   "outputs": [
    {
     "name": "stdout",
     "output_type": "stream",
     "text": [
      "PTBLM(\n",
      "  (embedding): Embedding(31141, 650)\n",
      "  (LSTM): LSTM(\n",
      "    (layers): ModuleList(\n",
      "      (0): Dropout(p=0.65, inplace=False)\n",
      "      (1): LSTMLayer(\n",
      "        (LSTMCell): LSTMCell()\n",
      "      )\n",
      "      (2): Dropout(p=0.65, inplace=False)\n",
      "    )\n",
      "  )\n",
      "  (decoder): Linear(in_features=650, out_features=31141, bias=True)\n",
      "  (adaptive_sm): AdaptiveLogSoftmaxWithLoss(\n",
      "    (head): Linear(in_features=650, out_features=502, bias=False)\n",
      "    (tail): ModuleList(\n",
      "      (0): Sequential(\n",
      "        (0): Linear(in_features=650, out_features=162, bias=False)\n",
      "        (1): Linear(in_features=162, out_features=1500, bias=False)\n",
      "      )\n",
      "      (1): Sequential(\n",
      "        (0): Linear(in_features=650, out_features=40, bias=False)\n",
      "        (1): Linear(in_features=40, out_features=29141, bias=False)\n",
      "      )\n",
      "    )\n",
      "  )\n",
      "  (sentiment_decoder): Linear(in_features=650, out_features=2, bias=True)\n",
      ")\n",
      "Training on device:  cuda:0\n"
     ]
    },
    {
     "data": {
      "application/vnd.jupyter.widget-view+json": {
       "model_id": "c218ca5aee404800a78dee94fe23b496",
       "version_major": 2,
       "version_minor": 0
      },
      "text/plain": [
       "  0%|          | 0/8 [00:00<?, ?it/s]"
      ]
     },
     "metadata": {},
     "output_type": "display_data"
    },
    {
     "name": "stdout",
     "output_type": "stream",
     "text": [
      "Epoch: 1. Learning rate: 0.0003. Train Acc: 0.565. Train Loss: 0.686. Dev Acc: 0.652. Dev Loss: 0.664. \n",
      "Epoch: 2. Learning rate: 0.0003. Train Acc: 0.649. Train Loss: 0.651. Dev Acc: 0.580. Dev Loss: 0.649. \n",
      "Epoch: 3. Learning rate: 0.0003. Train Acc: 0.737. Train Loss: 0.536. Dev Acc: 0.819. Dev Loss: 0.401. \n",
      "Epoch: 4. Learning rate: 0.0003. Train Acc: 0.882. Train Loss: 0.281. Dev Acc: 0.870. Dev Loss: 0.333. \n",
      "Epoch: 5. Learning rate: 0.00015. Train Acc: 0.932. Train Loss: 0.183. Dev Acc: 0.876. Dev Loss: 0.310. \n",
      "Epoch: 6. Learning rate: 7.5e-05. Train Acc: 0.948. Train Loss: 0.147. Dev Acc: 0.880. Dev Loss: 0.319. \n",
      "Epoch: 7. Learning rate: 3.75e-05. Train Acc: 0.953. Train Loss: 0.129. Dev Acc: 0.878. Dev Loss: 0.315. \n",
      "Epoch: 8. Learning rate: 1.875e-05. Train Acc: 0.956. Train Loss: 0.123. Dev Acc: 0.879. Dev Loss: 0.318. \n"
     ]
    }
   ],
   "source": [
    "baseV2_sent_acc, baseV2_sent_loss = train_sent_on_config(imdb_baseV2_config)"
   ]
  },
  {
   "cell_type": "code",
   "execution_count": 64,
   "metadata": {},
   "outputs": [
    {
     "data": {
      "image/png": "[encoded data removed]",
      "text/plain": [
       "<Figure size 1440x360 with 2 Axes>"
      ]
     },
     "metadata": {
      "needs_background": "light"
     },
     "output_type": "display_data"
    }
   ],
   "source": [
    "fig = plt.figure(figsize=(20, 5))\n",
    "ax = fig.add_subplot(121)\n",
    "ax.plot(baseV2_sent_acc[0], label='train')\n",
    "ax.plot(baseV2_sent_acc[1], label='dev')\n",
    "ax.set_title(\"Accuracy.\")\n",
    "ax.legend()\n",
    "\n",
    "ax2 = fig.add_subplot(122)\n",
    "ax2.plot(baseV2_sent_loss[0], label='train')\n",
    "ax2.plot(baseV2_sent_loss[1], label='dev')\n",
    "ax2.set_title(\"Loss.\")\n",
    "ax2.legend()\n",
    "\n",
    "plt.show()"
   ]
  },
  {
   "cell_type": "markdown",
   "metadata": {},
   "source": [
    "По итогу ничего не вышло, ну и ладно.\n",
    "В целом это неплохой результат для базовой модели. Оставим пока всё как есть"
   ]
  },
  {
   "cell_type": "markdown",
   "metadata": {},
   "source": [
    "## 2.9 Pre-training LSTMs for text classification"
   ]
  },
  {
   "cell_type": "markdown",
   "metadata": {},
   "source": [
    "Теперь попробуем использовать в качестве начальной модели предобученую модель для задачи language modelling."
   ]
  },
  {
   "cell_type": "markdown",
   "metadata": {},
   "source": [
    "Сначала нам нужно приготовить данные для предобучения."
   ]
  },
  {
   "cell_type": "code",
   "execution_count": 65,
   "metadata": {},
   "outputs": [],
   "source": [
    "def add_start(texts, w2ind):\n",
    "    lm_texts = []\n",
    "    for text in texts:\n",
    "        new_text = ['<start>'] + text\n",
    "        lm_texts.append(new_text)\n",
    "    \n",
    "    return lm_texts"
   ]
  },
  {
   "cell_type": "code",
   "execution_count": 66,
   "metadata": {},
   "outputs": [
    {
     "data": {
      "text/plain": [
       "['<start>',\n",
       " 'first',\n",
       " 'say',\n",
       " 'worked',\n",
       " 'blockbuster',\n",
       " 'seen',\n",
       " 'quite',\n",
       " 'movies',\n",
       " 'point',\n",
       " 'tough',\n",
       " 'find',\n",
       " 'something',\n",
       " 'havent',\n",
       " 'seen',\n",
       " 'taking',\n",
       " 'account',\n",
       " 'want',\n",
       " 'everyone',\n",
       " 'know',\n",
       " '<unk>']"
      ]
     },
     "execution_count": 66,
     "metadata": {},
     "output_type": "execute_result"
    }
   ],
   "source": [
    "imdb_LM_train = preprocessed_train_texts[:]\n",
    "imdb_LM_dev = preprocessed_dev_texts[:]\n",
    "imdb_LM_train = add_start(imdb_LM_train, preprocessor.w2ind)\n",
    "imdb_LM_dev = add_start(imdb_LM_dev, preprocessor.w2ind)\n",
    "imdb_LM_dev[0][:20]"
   ]
  },
  {
   "cell_type": "code",
   "execution_count": 67,
   "metadata": {},
   "outputs": [],
   "source": [
    "imdb_LM_train = _sentences_to_word_ids(preprocessor.w2ind, texts=imdb_LM_train)\n",
    "imdb_LM_dev = _sentences_to_word_ids(preprocessor.w2ind, texts=imdb_LM_dev)"
   ]
  },
  {
   "cell_type": "code",
   "execution_count": 68,
   "metadata": {},
   "outputs": [
    {
     "name": "stdout",
     "output_type": "stream",
     "text": [
      "[31138, 6432, 2614, 1767, 5168, 4, 1615, 1239, 456, 258, 4, 287, 8273, 0, 54, 13, 1943, 73, 5168, 1227, 31, 1348, 117, 13392, 3064, 1767, 4, 407, 0, 888, 4998, 5916, 624, 0, 3613, 1439, 878, 840, 692, 1856, 15149, 18, 3039, 15150, 3263, 0, 6, 4912, 775, 3539, 1920, 1703, 7, 4999, 80, 3497, 347, 2614, 1012, 975, 1177, 0, 1103, 15149, 147, 2793, 70, 1583, 5469, 16296, 13393, 9161, 209, 68, 744, 116, 2327, 53, 921, 1583, 284, 62, 125, 2719, 927, 1142, 24, 1767, 135, 64, 23562, 8027, 645, 4394, 508, 17598, 98, 1405, 12677, 1767, 4601, 207, 0, 113, 452, 1143, 438, 5917, 2740, 14201, 1748, 3153, 5362, 17599, 105, 99, 1164, 1401, 2263, 581, 5917, 2815, 1704, 400, 1013, 2740, 1246, 1497, 1316, 1749, 1704, 234, 1040, 1444, 2816, 2856, 264, 400, 1616, 494, 1402, 11559, 5917, 586, 1, 105, 3065, 2659, 50, 2455, 1421, 1577, 6699, 15151, 1616, 282, 7234, 401, 2413, 1444, 14202, 23563, 1616, 7, 2263, 3714, 1393, 85, 2676, 1856, 15149, 276, 19205, 1218, 3806, 792, 117, 374, 856, 2677, 3308, 1767, 242, 3090, 3039, 639, 244, 421, 0, 109, 1126, 1093, 3224, 2151, 182, 1617, 6307, 121, 11560, 212, 960, 1060, 792, 0, 655, 1316, 1038, 6182, 126, 3126, 274, 2950, 308, 61, 3, 462, 130, 5, 63, 26790, 3413, 3154, 17, 533, 849, 1577, 1389, 1557, 85, 1337, 0, 438, 1856, 15149, 298, 0, 495, 1998, 2907, 4602, 3, 4603, 3190, 20, 20, 20, 9, 2588, 5571, 4261, 8842, 0, 17600, 0]\n",
      "[31138, 398, 0, 183, 745, 7235, 533, 653, 56, 428, 0, 55, 17, 83, 232, 145, 125, 35, 6, 2123, 0, 266, 47, 672, 8546, 0, 103, 757, 17, 723, 3498]\n"
     ]
    }
   ],
   "source": [
    "for sent in imdb_LM_train[:2]:\n",
    "    print(sent)"
   ]
  },
  {
   "cell_type": "code",
   "execution_count": 69,
   "metadata": {},
   "outputs": [],
   "source": [
    "def train_IMDBLM_on_config(cur_config):\n",
    "    model = PTBLM(num_layers=cur_config['num_layers'], emb_size=cur_config['emb_size'],\n",
    "              hidden_size=cur_config['hidden_size'], vocab_size=cur_config['vocab_size'],\n",
    "              dropout_rate=cur_config['dropout_rate'], weight_init=cur_config['weight_init'],\n",
    "              tie_emb=cur_config['tied_embs'], adaptive=cur_config['adaptive']\n",
    "             )\n",
    "    print(model)\n",
    "    device = torch.device(\"cuda:0\" if torch.cuda.is_available() else \"cpu\")\n",
    "    print(\"Training on device: \", device)\n",
    "    model.to(device)\n",
    "    \n",
    "    loss_fn = torch.nn.CrossEntropyLoss(reduction='none')\n",
    "    \n",
    "    loss_fn = loss_fn.to(device)\n",
    "    \n",
    "    if cur_config['optimizer'] == 'Adam':\n",
    "        optimizer = torch.optim.Adam(model.parameters(), lr=cur_config['learning_rate'])\n",
    "    elif cur_config['optimizer'] == 'SGD':\n",
    "        optimizer = torch.optim.SGD(model.parameters(), lr=cur_config['learning_rate'])\n",
    "    else:\n",
    "        optimizer = torch.optim.SGD(model.parameters(), lr=cur_config['learning_rate'], momentum=0.8)\n",
    "        \n",
    "        \n",
    "    plot_data = [[], []]\n",
    "    for i in trange(cur_config['num_epochs']):\n",
    "        lr_decay = cur_config['lr_decay'] ** max(i + 1 - cur_config['epoch_decay'], 0.0)\n",
    "        if cur_config['lr_decay'] > 1:\n",
    "            lr_decay = 1 / lr_decay\n",
    "        decayed_lr = cur_config['learning_rate'] * lr_decay\n",
    "\n",
    "        model.train()\n",
    "        train_perplexity = run_epoch(decayed_lr, model, imdb_LM_train, \n",
    "                                     word_to_id, loss_fn,\n",
    "                                     cur_config['batch_size'], cur_config['num_steps'],\n",
    "                                     optimizer=optimizer,\n",
    "                                     clip_value=cur_config['grad_clipping'],\n",
    "                                     device=device)\n",
    "\n",
    "        model.eval()\n",
    "\n",
    "        # Disabling gradient calculation. \n",
    "        # It will reduce memory consumption for computations \n",
    "        # The result of every computation will have requires_grad=False, \n",
    "        with torch.no_grad():\n",
    "            dev_perplexity = run_epoch(decayed_lr, model, imdb_LM_dev, \n",
    "                                       word_to_id, loss_fn, cur_config['batch_size'], cur_config['num_steps'],\n",
    "                                       device=device)\n",
    "\n",
    "        plot_data[0].append(train_perplexity)\n",
    "        plot_data[1].append(dev_perplexity)\n",
    "        print(f'Epoch: {i+1}. Learning rate: {decayed_lr:.3f}. '\n",
    "              f'Train Perplexity: {train_perplexity:.3f}. '\n",
    "              f'Dev Perplexity: {dev_perplexity:.3f}. ' \n",
    "             )\n",
    "\n",
    "    model.eval()\n",
    "#     with torch.no_grad():\n",
    "#         test_perplexity = run_epoch(\n",
    "#             decayed_lr, model, test_data, \n",
    "#             word_to_id, loss_fn, cur_config['batch_size'], cur_config['num_steps'],\n",
    "#             device=device)\n",
    "#         print(f\"Test Perplexity: {test_perplexity:.3f}\")\n",
    "    \n",
    "    return model, plot_data"
   ]
  },
  {
   "cell_type": "code",
   "execution_count": 70,
   "metadata": {},
   "outputs": [],
   "source": [
    "base_IMDBLM_config = {\n",
    "        'batch_size': 20, 'num_steps': 35, \n",
    "        'num_layers': 2, 'emb_size': 256,\n",
    "        'hidden_size': 256, 'vocab_size': len(preprocessor.w2ind),\n",
    "        'dropout_rate': 0.5, 'num_epochs': 13,\n",
    "        'learning_rate': 0.005, 'lr_decay' : 0.9,\n",
    "        'epoch_decay' : 6, 'tied_embs': True,\n",
    "        'weight_init':0.1, 'grad_clipping' : 5,\n",
    "        'adaptive':True,\n",
    "        'optimizer' : 'Adam'\n",
    "}"
   ]
  },
  {
   "cell_type": "code",
   "execution_count": 86,
   "metadata": {},
   "outputs": [
    {
     "name": "stdout",
     "output_type": "stream",
     "text": [
      "PTBLM(\n",
      "  (embedding): Embedding(31141, 256)\n",
      "  (LSTM): LSTM(\n",
      "    (layers): ModuleList(\n",
      "      (0): Dropout(p=0.5, inplace=False)\n",
      "      (1): LSTMLayer(\n",
      "        (LSTMCell): LSTMCell()\n",
      "      )\n",
      "      (2): Dropout(p=0.5, inplace=False)\n",
      "      (3): LSTMLayer(\n",
      "        (LSTMCell): LSTMCell()\n",
      "      )\n",
      "      (4): Dropout(p=0.5, inplace=False)\n",
      "    )\n",
      "  )\n",
      "  (decoder): Linear(in_features=256, out_features=31141, bias=True)\n",
      "  (adaptive_sm): AdaptiveLogSoftmaxWithLoss(\n",
      "    (head): Linear(in_features=256, out_features=503, bias=False)\n",
      "    (tail): ModuleList(\n",
      "      (0): Sequential(\n",
      "        (0): Linear(in_features=256, out_features=64, bias=False)\n",
      "        (1): Linear(in_features=64, out_features=1500, bias=False)\n",
      "      )\n",
      "      (1): Sequential(\n",
      "        (0): Linear(in_features=256, out_features=16, bias=False)\n",
      "        (1): Linear(in_features=16, out_features=8000, bias=False)\n",
      "      )\n",
      "      (2): Sequential(\n",
      "        (0): Linear(in_features=256, out_features=4, bias=False)\n",
      "        (1): Linear(in_features=4, out_features=21141, bias=False)\n",
      "      )\n",
      "    )\n",
      "  )\n",
      "  (sentiment_decoder): Linear(in_features=256, out_features=2, bias=True)\n",
      ")\n",
      "Training on device:  cuda:0\n"
     ]
    },
    {
     "data": {
      "application/vnd.jupyter.widget-view+json": {
       "model_id": "bd3a8aba550944fc9e240d7687b3cc0e",
       "version_major": 2,
       "version_minor": 0
      },
      "text/plain": [
       "  0%|          | 0/13 [00:00<?, ?it/s]"
      ]
     },
     "metadata": {},
     "output_type": "display_data"
    },
    {
     "name": "stdout",
     "output_type": "stream",
     "text": [
      "Epoch: 1. Learning rate: 0.005. Train Perplexity: 2908.763. Dev Perplexity: 2092.022. \n",
      "Epoch: 2. Learning rate: 0.005. Train Perplexity: 2322.700. Dev Perplexity: 1848.170. \n",
      "Epoch: 3. Learning rate: 0.005. Train Perplexity: 2118.586. Dev Perplexity: 1762.229. \n",
      "Epoch: 4. Learning rate: 0.005. Train Perplexity: 2015.041. Dev Perplexity: 1706.415. \n",
      "Epoch: 5. Learning rate: 0.005. Train Perplexity: 1954.440. Dev Perplexity: 1660.018. \n",
      "Epoch: 6. Learning rate: 0.005. Train Perplexity: 1911.209. Dev Perplexity: 1637.929. \n",
      "Epoch: 7. Learning rate: 0.005. Train Perplexity: 1863.703. Dev Perplexity: 1606.216. \n",
      "Epoch: 8. Learning rate: 0.004. Train Perplexity: 1821.760. Dev Perplexity: 1581.974. \n",
      "Epoch: 9. Learning rate: 0.004. Train Perplexity: 1784.335. Dev Perplexity: 1560.732. \n",
      "Epoch: 10. Learning rate: 0.003. Train Perplexity: 1753.490. Dev Perplexity: 1541.523. \n",
      "Epoch: 11. Learning rate: 0.003. Train Perplexity: 1726.180. Dev Perplexity: 1526.165. \n",
      "Epoch: 12. Learning rate: 0.003. Train Perplexity: 1700.232. Dev Perplexity: 1511.645. \n",
      "Epoch: 13. Learning rate: 0.002. Train Perplexity: 1678.075. Dev Perplexity: 1499.185. \n"
     ]
    }
   ],
   "source": [
    "IMDBLM_base_model, IMDBLM_data = train_IMDBLM_on_config(base_IMDBLM_config)"
   ]
  },
  {
   "cell_type": "code",
   "execution_count": 72,
   "metadata": {},
   "outputs": [
    {
     "data": {
      "image/png": "[encoded data removed]",
      "text/plain": [
       "<Figure size 720x360 with 1 Axes>"
      ]
     },
     "metadata": {
      "needs_background": "light"
     },
     "output_type": "display_data"
    }
   ],
   "source": [
    "fig = plt.figure(figsize=(10, 5))\n",
    "ax = fig.add_subplot(111)\n",
    "ax.plot(IMDBLM_data[0], label='train')\n",
    "ax.plot(IMDBLM_data[1], label='dev')\n",
    "ax.set_title(\"Perplexity\")\n",
    "ax.legend()\n",
    "plt.show()"
   ]
  },
  {
   "cell_type": "markdown",
   "metadata": {},
   "source": [
    "Очень большая перплексия и пока не очень понятно, как её уменьшать. <br>\n",
    "Попробуем большую модель, но перед этим добавим адаптивный софтмакс."
   ]
  },
  {
   "cell_type": "code",
   "execution_count": 72,
   "metadata": {},
   "outputs": [],
   "source": [
    "baseV2_IMDBLM_config = {\n",
    "        'batch_size': 64, 'num_steps': 35, \n",
    "        'num_layers': 2, 'emb_size': 650,\n",
    "        'hidden_size': 650, 'vocab_size': len(preprocessor.w2ind),\n",
    "        'dropout_rate': 0.5, 'num_epochs': 15,\n",
    "        'learning_rate': 0.001, 'lr_decay' : 0.9,\n",
    "        'epoch_decay' : 6, 'tied_embs': False,\n",
    "        'weight_init': 0.05, 'grad_clipping' : 5,\n",
    "        'adaptive' : True,\n",
    "        'optimizer' : 'Adam'\n",
    "}"
   ]
  },
  {
   "cell_type": "code",
   "execution_count": 73,
   "metadata": {},
   "outputs": [
    {
     "name": "stdout",
     "output_type": "stream",
     "text": [
      "PTBLM(\n",
      "  (embedding): Embedding(31141, 650)\n",
      "  (LSTM): LSTM(\n",
      "    (layers): ModuleList(\n",
      "      (0): Dropout(p=0.5, inplace=False)\n",
      "      (1): LSTMLayer(\n",
      "        (LSTMCell): LSTMCell()\n",
      "      )\n",
      "      (2): Dropout(p=0.5, inplace=False)\n",
      "      (3): LSTMLayer(\n",
      "        (LSTMCell): LSTMCell()\n",
      "      )\n",
      "      (4): Dropout(p=0.5, inplace=False)\n",
      "    )\n",
      "  )\n",
      "  (decoder): Linear(in_features=650, out_features=31141, bias=True)\n",
      "  (adaptive_sm): AdaptiveLogSoftmaxWithLoss(\n",
      "    (head): Linear(in_features=650, out_features=503, bias=False)\n",
      "    (tail): ModuleList(\n",
      "      (0): Sequential(\n",
      "        (0): Linear(in_features=650, out_features=162, bias=False)\n",
      "        (1): Linear(in_features=162, out_features=1500, bias=False)\n",
      "      )\n",
      "      (1): Sequential(\n",
      "        (0): Linear(in_features=650, out_features=40, bias=False)\n",
      "        (1): Linear(in_features=40, out_features=8000, bias=False)\n",
      "      )\n",
      "      (2): Sequential(\n",
      "        (0): Linear(in_features=650, out_features=10, bias=False)\n",
      "        (1): Linear(in_features=10, out_features=21141, bias=False)\n",
      "      )\n",
      "    )\n",
      "  )\n",
      "  (sentiment_decoder): Linear(in_features=650, out_features=2, bias=True)\n",
      ")\n",
      "Training on device:  cuda:0\n"
     ]
    },
    {
     "data": {
      "application/vnd.jupyter.widget-view+json": {
       "model_id": "31cebc3d6c2646da979a333524e3c88d",
       "version_major": 2,
       "version_minor": 0
      },
      "text/plain": [
       "  0%|          | 0/15 [00:00<?, ?it/s]"
      ]
     },
     "metadata": {},
     "output_type": "display_data"
    },
    {
     "name": "stdout",
     "output_type": "stream",
     "text": [
      "Epoch: 1. Learning rate: 0.001. Train Perplexity: 2996.549. Dev Perplexity: 2209.729. \n",
      "Epoch: 2. Learning rate: 0.001. Train Perplexity: 2226.628. Dev Perplexity: 1819.915. \n",
      "Epoch: 3. Learning rate: 0.001. Train Perplexity: 1891.638. Dev Perplexity: 1639.656. \n",
      "Epoch: 4. Learning rate: 0.001. Train Perplexity: 1681.386. Dev Perplexity: 1531.342. \n",
      "Epoch: 5. Learning rate: 0.001. Train Perplexity: 1530.537. Dev Perplexity: 1465.127. \n",
      "Epoch: 6. Learning rate: 0.001. Train Perplexity: 1412.544. Dev Perplexity: 1417.815. \n",
      "Epoch: 7. Learning rate: 0.001. Train Perplexity: 1309.783. Dev Perplexity: 1386.423. \n",
      "Epoch: 8. Learning rate: 0.001. Train Perplexity: 1225.277. Dev Perplexity: 1367.246. \n",
      "Epoch: 9. Learning rate: 0.001. Train Perplexity: 1158.412. Dev Perplexity: 1358.704. \n",
      "Epoch: 10. Learning rate: 0.001. Train Perplexity: 1103.853. Dev Perplexity: 1350.903. \n",
      "Epoch: 11. Learning rate: 0.001. Train Perplexity: 1056.357. Dev Perplexity: 1349.132. \n",
      "Epoch: 12. Learning rate: 0.001. Train Perplexity: 1016.803. Dev Perplexity: 1350.453. \n",
      "Epoch: 13. Learning rate: 0.000. Train Perplexity: 982.335. Dev Perplexity: 1351.665. \n",
      "Epoch: 14. Learning rate: 0.000. Train Perplexity: 952.783. Dev Perplexity: 1355.872. \n",
      "Epoch: 15. Learning rate: 0.000. Train Perplexity: 925.955. Dev Perplexity: 1362.255. \n"
     ]
    }
   ],
   "source": [
    "baseV2_IMDBLM_base_model, baseV2_IMDBLM_data = train_IMDBLM_on_config(baseV2_IMDBLM_config)"
   ]
  },
  {
   "cell_type": "code",
   "execution_count": 74,
   "metadata": {},
   "outputs": [
    {
     "data": {
      "image/png": "[encoded data removed]",
      "text/plain": [
       "<Figure size 720x360 with 1 Axes>"
      ]
     },
     "metadata": {
      "needs_background": "light"
     },
     "output_type": "display_data"
    }
   ],
   "source": [
    "fig = plt.figure(figsize=(10, 5))\n",
    "ax = fig.add_subplot(111)\n",
    "ax.plot(baseV2_IMDBLM_data[0], label='train')\n",
    "ax.plot(baseV2_IMDBLM_data[1], label='dev')\n",
    "ax.set_title(\"Perplexity\")\n",
    "ax.legend()\n",
    "plt.show()"
   ]
  },
  {
   "cell_type": "code",
   "execution_count": 92,
   "metadata": {},
   "outputs": [
    {
     "data": {
      "text/plain": [
       "31141"
      ]
     },
     "execution_count": 92,
     "metadata": {},
     "output_type": "execute_result"
    }
   ],
   "source": [
    "imdb_sentLM_config = {\n",
    "        'batch_size': 256,'num_layers': 2,\n",
    "        'emb_size': 650, 'hidden_size': 650, \n",
    "        'vocab_size': len(preprocessor.w2ind),\n",
    "        'dropout_rate': 0.65, 'num_epochs': 6,\n",
    "        'learning_rate': 0.003, 'lr_decay' : 0.8,\n",
    "        'epoch_decay' : 4, 'tied_embs': False,\n",
    "        'weight_init':0.1, 'grad_clipping' : 5,\n",
    "        'optimizer' : 'Adam'\n",
    "}\n",
    "imdb_sentLM_config['vocab_size']"
   ]
  },
  {
   "cell_type": "code",
   "execution_count": 93,
   "metadata": {},
   "outputs": [
    {
     "name": "stdout",
     "output_type": "stream",
     "text": [
      "PTBLM(\n",
      "  (embedding): Embedding(31141, 256)\n",
      "  (LSTM): LSTM(\n",
      "    (layers): ModuleList(\n",
      "      (0): Dropout(p=0.5, inplace=False)\n",
      "      (1): LSTMLayer(\n",
      "        (LSTMCell): LSTMCell()\n",
      "      )\n",
      "      (2): Dropout(p=0.5, inplace=False)\n",
      "      (3): LSTMLayer(\n",
      "        (LSTMCell): LSTMCell()\n",
      "      )\n",
      "      (4): Dropout(p=0.5, inplace=False)\n",
      "    )\n",
      "  )\n",
      "  (decoder): Linear(in_features=256, out_features=31141, bias=True)\n",
      "  (adaptive_sm): AdaptiveLogSoftmaxWithLoss(\n",
      "    (head): Linear(in_features=256, out_features=503, bias=False)\n",
      "    (tail): ModuleList(\n",
      "      (0): Sequential(\n",
      "        (0): Linear(in_features=256, out_features=64, bias=False)\n",
      "        (1): Linear(in_features=64, out_features=1500, bias=False)\n",
      "      )\n",
      "      (1): Sequential(\n",
      "        (0): Linear(in_features=256, out_features=16, bias=False)\n",
      "        (1): Linear(in_features=16, out_features=8000, bias=False)\n",
      "      )\n",
      "      (2): Sequential(\n",
      "        (0): Linear(in_features=256, out_features=4, bias=False)\n",
      "        (1): Linear(in_features=4, out_features=21141, bias=False)\n",
      "      )\n",
      "    )\n",
      "  )\n",
      "  (sentiment_decoder): Linear(in_features=256, out_features=2, bias=True)\n",
      ")\n",
      "Training on device:  cuda:0\n"
     ]
    },
    {
     "data": {
      "application/vnd.jupyter.widget-view+json": {
       "model_id": "34b8dd4b85314a328da6cf1dc4bc7acb",
       "version_major": 2,
       "version_minor": 0
      },
      "text/plain": [
       "  0%|          | 0/6 [00:00<?, ?it/s]"
      ]
     },
     "metadata": {},
     "output_type": "display_data"
    },
    {
     "name": "stdout",
     "output_type": "stream",
     "text": [
      "Epoch: 1. Learning rate: 0.003. Train Acc: 0.731. Train Loss: 0.571. Dev Acc: 0.796. Dev Loss: 0.450. \n",
      "Epoch: 2. Learning rate: 0.003. Train Acc: 0.811. Train Loss: 0.435. Dev Acc: 0.825. Dev Loss: 0.394. \n",
      "Epoch: 3. Learning rate: 0.003. Train Acc: 0.834. Train Loss: 0.383. Dev Acc: 0.845. Dev Loss: 0.362. \n",
      "Epoch: 4. Learning rate: 0.003. Train Acc: 0.852. Train Loss: 0.348. Dev Acc: 0.855. Dev Loss: 0.344. \n",
      "Epoch: 5. Learning rate: 0.0024000000000000002. Train Acc: 0.867. Train Loss: 0.319. Dev Acc: 0.862. Dev Loss: 0.332. \n",
      "Epoch: 6. Learning rate: 0.0019200000000000005. Train Acc: 0.877. Train Loss: 0.297. Dev Acc: 0.864. Dev Loss: 0.332. \n"
     ]
    }
   ],
   "source": [
    "train_sent_base_acc, train_sent_base_loss = train_sent_on_config(imdb_sentLM_config, pretrained_model=IMDBLM_base_model)"
   ]
  },
  {
   "cell_type": "code",
   "execution_count": 94,
   "metadata": {},
   "outputs": [
    {
     "data": {
      "text/plain": [
       "[[0.5348666666666667, 0.7474, 0.8912, 0.9288, 0.9557333333333333, 0.9684],\n",
       " [0.6777, 0.851, 0.8664, 0.8762, 0.883, 0.8789]]"
      ]
     },
     "execution_count": 94,
     "metadata": {},
     "output_type": "execute_result"
    }
   ],
   "source": [
    "base_sent_acc"
   ]
  },
  {
   "cell_type": "code",
   "execution_count": 96,
   "metadata": {},
   "outputs": [
    {
     "data": {
      "text/plain": [
       "[[0.7310666666666666,\n",
       "  0.8106666666666666,\n",
       "  0.8344666666666667,\n",
       "  0.8515333333333334,\n",
       "  0.8669333333333333,\n",
       "  0.8768666666666667],\n",
       " [0.7956, 0.8254, 0.8454, 0.8554, 0.8618, 0.8635]]"
      ]
     },
     "execution_count": 96,
     "metadata": {},
     "output_type": "execute_result"
    }
   ],
   "source": [
    "train_sent_base_acc"
   ]
  },
  {
   "cell_type": "code",
   "execution_count": 100,
   "metadata": {},
   "outputs": [
    {
     "data": {
      "image/png": "[encoded data removed]",
      "text/plain": [
       "<Figure size 1440x360 with 2 Axes>"
      ]
     },
     "metadata": {
      "needs_background": "light"
     },
     "output_type": "display_data"
    }
   ],
   "source": [
    "fig = plt.figure(figsize=(20, 5))\n",
    "ax = fig.add_subplot(121)\n",
    "ax.plot(train_sent_base_acc[0], label='train')\n",
    "ax.plot(train_sent_base_acc[1], label='dev')\n",
    "ax.set_title(\"Accuracy With pretraining.\")\n",
    "ax.legend()\n",
    "\n",
    "\n",
    "\n",
    "ax2 = fig.add_subplot(122)\n",
    "ax2.plot(base_sent_acc[0], label='train')\n",
    "ax2.plot(base_sent_acc[1], label='dev')\n",
    "ax2.set_title(\"Accuracy Without pretraining\")\n",
    "ax2.legend()\n",
    "\n",
    "plt.show()"
   ]
  },
  {
   "cell_type": "markdown",
   "metadata": {},
   "source": [
    "Можно заметить, что модель с предобучением менее склонна к переобучению и получает более высокие результаты в начале обучения."
   ]
  },
  {
   "cell_type": "markdown",
   "metadata": {},
   "source": [
    "#### Лучшие модели"
   ]
  },
  {
   "cell_type": "markdown",
   "metadata": {},
   "source": [
    "По результатам экспериментов с тестирующим скриптом получилось следующее:"
   ]
  },
  {
   "cell_type": "markdown",
   "metadata": {},
   "source": [
    "Лучший конфиг для LSTM сети без предобучения:"
   ]
  },
  {
   "cell_type": "code",
   "execution_count": 63,
   "metadata": {},
   "outputs": [
    {
     "data": {
      "text/plain": [
       "31141"
      ]
     },
     "execution_count": 63,
     "metadata": {},
     "output_type": "execute_result"
    }
   ],
   "source": [
    "imdb_baseV2_config = {\n",
    "        'batch_size': 256,'num_layers': 1,\n",
    "        'emb_size': 650, 'hidden_size': 650, \n",
    "        'vocab_size': len(preprocessor.w2ind),\n",
    "        'dropout_rate': 0.65, 'num_epochs': 8,\n",
    "        'learning_rate': 0.0005, 'lr_decay' : 0.5,\n",
    "        'epoch_decay' : 4, 'tied_embs': False,\n",
    "        'weight_init':0.1, 'grad_clipping' : None,\n",
    "        'optimizer' : 'Adam'\n",
    "}\n",
    "imdb_baseV2_config['vocab_size']"
   ]
  },
  {
   "cell_type": "markdown",
   "metadata": {},
   "source": [
    "Лучше контролируется переобучение, чем на двухслойной модели и достигает 88 процентов точности."
   ]
  },
  {
   "cell_type": "markdown",
   "metadata": {},
   "source": [
    "Лучший конфиг для предобучаемой сети:"
   ]
  },
  {
   "cell_type": "code",
   "execution_count": null,
   "metadata": {},
   "outputs": [],
   "source": [
    "# Для модели и предобучения на IMDB\n",
    "lm_config = { \n",
    "        'batch_size': 256, 'num_steps': 35, \n",
    "        'num_layers': 2, 'emb_size': 650,\n",
    "        'hidden_size': 650, 'vocab_size': -1,\n",
    "        'dropout_rate': 0.65, 'num_epochs': 10,\n",
    "        'learning_rate': 0.005, 'lr_decay' : 0.8,\n",
    "        'epoch_decay' : 8, 'tied_embs': False,\n",
    "        'weight_init': 0.05, 'grad_clipping' : 5,\n",
    "        'optimizer' : 'Adam', \n",
    "        'adaptive' : True\n",
    "         }"
   ]
  },
  {
   "cell_type": "markdown",
   "metadata": {},
   "source": [
    "В целом обучить языковую модель с хорошей перплексией на IMDB оказалось тяжело, минимальная получалась в районе ~1300 при словаре на 60000 слов. У этого конфига ~1600 на 60000 слов.\n",
    "\n"
   ]
  },
  {
   "cell_type": "code",
   "execution_count": null,
   "metadata": {},
   "outputs": [],
   "source": [
    "# Для обучения определения тональностей на IMDB \n",
    "sent_config = {\n",
    "        'batch_size' : 256,\n",
    "        'vocab_size': -1,\n",
    "        'dropout_rate' : 0.65, 'num_epochs' : 5,\n",
    "        'learning_rate': 0.0005, 'lr_decay' : 0.5,                    \n",
    "        'epoch_decay' : 3, 'grad_clipping' : 5,\n",
    "        'optimizer' : 'Adam'\n",
    "        }"
   ]
  },
  {
   "cell_type": "markdown",
   "metadata": {},
   "source": [
    "Но предобучение действительно даёт свои плоды, модель меньше переобучается и стартует первую с большей точности. (~82%) \n",
    "Если подкрутить параметры (или добавить валидационный датасет XD), то точно можно выбить 90+."
   ]
  },
  {
   "cell_type": "markdown",
   "metadata": {},
   "source": [
    "Этот конфиг получает следующие результаты в лидерборде:"
   ]
  },
  {
   "cell_type": "markdown",
   "metadata": {},
   "source": [
    "    train: 95.97\n",
    "    dev: 89.58\n",
    "    dev-b: 76.65"
   ]
  },
  {
   "cell_type": "code",
   "execution_count": null,
   "metadata": {},
   "outputs": [],
   "source": []
  }
 ],
 "metadata": {
  "kernelspec": {
   "display_name": "Python 3",
   "language": "python",
   "name": "python3"
  },
  "language_info": {
   "codemirror_mode": {
    "name": "ipython",
    "version": 3
   },
   "file_extension": ".py",
   "mimetype": "text/x-python",
   "name": "python",
   "nbconvert_exporter": "python",
   "pygments_lexer": "ipython3",
   "version": "3.7.10"
  }
 },
 "nbformat": 4,
 "nbformat_minor": 4
}
